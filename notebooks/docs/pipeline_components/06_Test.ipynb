{
 "cells": [
  {
   "cell_type": "markdown",
   "metadata": {},
   "source": [
    "# Pipeline\n",
    "### **NOTE 1**: \n",
    "\n",
    "We are using ready-to-use data that has already been through the pipeline.\n",
    "\n",
    "Because of the time required to download, preprocess and train the models, the model here has already been trained and we are using the model predictions as saved in a zipfile in the `data` directory.\n",
    "\n",
    "In order to run the pipeline end-to-end and reproduce the steps prior to this notebook, you will need to run the `run_demo.py` script in the `scripts/` directory.\n",
    "\n",
    "#### The data:\n",
    "Make sure you unzip the file `zip_data.zip`.\n",
    "\n",
    "This will produce a folder `zip_data` which we will use as our base data directory. Remember, if you were to reproduce this analysis by running the pipeline from end-to-end then you would simply use the default data directory at `.data`.\n",
    "\n",
    "Inside `data/zip_data` we have two directories. **`features`** and **`models`**.\n",
    "\n",
    "**`features`** contains the data that has been through the `preprocessors` and the `engineers`. It only contains data for the `test` set in order to reduce the memory requirements. \n",
    "\n",
    "**`models`** contains data that has been predicted by the given model. It also contains a saved version.\n",
    "\n",
    "Here we only have two models: **`ealstm`** and **`previous_month`** which is our baseline model.\n",
    "\n",
    "### **NOTE 2**:\n",
    "Here the data only includes the baseline `persistence` model and the state of the art Entity Aware Long-Short Term Memory (EALSTM) network. See the `notebooks/docs/Pipeline.ipynb` notebook for more information about the other models that we currently accomodate."
   ]
  },
  {
   "cell_type": "code",
   "execution_count": null,
   "metadata": {},
   "outputs": [],
   "source": []
  },
  {
   "cell_type": "markdown",
   "metadata": {},
   "source": [
    "## Making Predictions\n",
    "\n",
    "We have a pretrained model in the zipped data directory. Here we will make the predictions with the **EALSTM** model and the baseline **persistence** model."
   ]
  },
  {
   "cell_type": "code",
   "execution_count": 122,
   "metadata": {},
   "outputs": [],
   "source": [
    "from src.models import load_model, Persistence"
   ]
  },
  {
   "cell_type": "code",
   "execution_count": 123,
   "metadata": {},
   "outputs": [
    {
     "name": "stdout",
     "output_type": "stream",
     "text": [
      "RMSE: 16.653808601170777\n"
     ]
    }
   ],
   "source": [
    "# make predictions and save results to .nc with BASELINE model\n",
    "persistence = Persistence(data_folder=data_dir)\n",
    "persistence.evaluate()"
   ]
  },
  {
   "cell_type": "code",
   "execution_count": 126,
   "metadata": {},
   "outputs": [],
   "source": [
    "ealstm_path = data_dir / 'models/one_month_forecast/ealstm/model_gcloud.pt'\n",
    "assert ealstm_path.exists(), \\\n",
    "    'Expected the unzipped file to have the model.pt file saved'\n",
    "\n",
    "ealstm = load_model(model_path=ealstm_path)"
   ]
  },
  {
   "cell_type": "code",
   "execution_count": 127,
   "metadata": {},
   "outputs": [
    {
     "name": "stdout",
     "output_type": "stream",
     "text": [
      "RMSE: 40.941688537597656\n"
     ]
    },
    {
     "name": "stderr",
     "output_type": "stream",
     "text": [
      "/Users/tommylees/miniconda3/envs/crop/lib/python3.7/site-packages/xarray/coding/times.py:244: FutureWarning: the 'box' keyword is deprecated and will be removed in a future version. Please take steps to stop the use of 'box'\n",
      "  dates = pd.to_datetime(dates, box=False)\n"
     ]
    }
   ],
   "source": [
    "# have to specify the ignore_vars is empty \n",
    "ealstm.ignore_vars = []\n",
    "ealstm.evaluate(\n",
    "    save_results=True,\n",
    "    save_preds=False,\n",
    ")"
   ]
  },
  {
   "cell_type": "markdown",
   "metadata": {},
   "source": [
    "# evaluating the model"
   ]
  },
  {
   "cell_type": "code",
   "execution_count": 131,
   "metadata": {},
   "outputs": [
    {
     "data": {
      "text/html": [
       "<div>\n",
       "<style scoped>\n",
       "    .dataframe tbody tr th:only-of-type {\n",
       "        vertical-align: middle;\n",
       "    }\n",
       "\n",
       "    .dataframe tbody tr th {\n",
       "        vertical-align: top;\n",
       "    }\n",
       "\n",
       "    .dataframe thead th {\n",
       "        text-align: right;\n",
       "    }\n",
       "</style>\n",
       "<table border=\"1\" class=\"dataframe\">\n",
       "  <thead>\n",
       "    <tr style=\"text-align: right;\">\n",
       "      <th></th>\n",
       "      <th>month</th>\n",
       "      <th>ealstm</th>\n",
       "      <th>previous_month</th>\n",
       "      <th>metric</th>\n",
       "    </tr>\n",
       "  </thead>\n",
       "  <tbody>\n",
       "    <tr>\n",
       "      <th>0</th>\n",
       "      <td>1.0</td>\n",
       "      <td>11.962646</td>\n",
       "      <td>15.918060</td>\n",
       "      <td>rmse</td>\n",
       "    </tr>\n",
       "    <tr>\n",
       "      <th>1</th>\n",
       "      <td>2.0</td>\n",
       "      <td>55.521111</td>\n",
       "      <td>9.609800</td>\n",
       "      <td>rmse</td>\n",
       "    </tr>\n",
       "    <tr>\n",
       "      <th>2</th>\n",
       "      <td>3.0</td>\n",
       "      <td>50.634243</td>\n",
       "      <td>18.995626</td>\n",
       "      <td>rmse</td>\n",
       "    </tr>\n",
       "    <tr>\n",
       "      <th>3</th>\n",
       "      <td>4.0</td>\n",
       "      <td>39.116074</td>\n",
       "      <td>24.495406</td>\n",
       "      <td>rmse</td>\n",
       "    </tr>\n",
       "    <tr>\n",
       "      <th>4</th>\n",
       "      <td>5.0</td>\n",
       "      <td>37.968170</td>\n",
       "      <td>18.025452</td>\n",
       "      <td>rmse</td>\n",
       "    </tr>\n",
       "  </tbody>\n",
       "</table>\n",
       "</div>"
      ],
      "text/plain": [
       "   month     ealstm  previous_month metric\n",
       "0    1.0  11.962646       15.918060   rmse\n",
       "1    2.0  55.521111        9.609800   rmse\n",
       "2    3.0  50.634243       18.995626   rmse\n",
       "3    4.0  39.116074       24.495406   rmse\n",
       "4    5.0  37.968170       18.025452   rmse"
      ]
     },
     "metadata": {},
     "output_type": "display_data"
    }
   ],
   "source": [
    "scores = annual_scores(\n",
    "    data_path=data_dir,\n",
    "    models=['ealstm', 'previous_month'],\n",
    "    metrics=['rmse', 'r2'],\n",
    "    verbose=False,\n",
    "    to_dataframe=True\n",
    ")\n",
    "\n",
    "display(scores.head())"
   ]
  },
  {
   "cell_type": "code",
   "execution_count": 132,
   "metadata": {},
   "outputs": [
    {
     "data": {
      "image/png": "[encoded data removed]",
      "text/plain": [
       "<Figure size 864x576 with 1 Axes>"
      ]
     },
     "metadata": {
      "needs_background": "light"
     },
     "output_type": "display_data"
    }
   ],
   "source": [
    "metric = 'rmse'\n",
    "fig, ax = plt.subplots(figsize=(12, 8))\n",
    "scores.loc[scores.metric == metric].plot(x='month', ax=ax)\n",
    "ax.set_ylabel(metric)\n",
    "ax.set_title(f'Comparison of model performance vs. baseline ({metric})');"
   ]
  },
  {
   "cell_type": "code",
   "execution_count": 52,
   "metadata": {},
   "outputs": [
    {
     "data": {
      "text/html": [
       "<div>\n",
       "<style scoped>\n",
       "    .dataframe tbody tr th:only-of-type {\n",
       "        vertical-align: middle;\n",
       "    }\n",
       "\n",
       "    .dataframe tbody tr th {\n",
       "        vertical-align: top;\n",
       "    }\n",
       "\n",
       "    .dataframe thead th {\n",
       "        text-align: right;\n",
       "    }\n",
       "</style>\n",
       "<table border=\"1\" class=\"dataframe\">\n",
       "  <thead>\n",
       "    <tr style=\"text-align: right;\">\n",
       "      <th></th>\n",
       "      <th>month</th>\n",
       "      <th>metric</th>\n",
       "      <th>variable</th>\n",
       "      <th>value</th>\n",
       "    </tr>\n",
       "  </thead>\n",
       "  <tbody>\n",
       "    <tr>\n",
       "      <th>0</th>\n",
       "      <td>1.0</td>\n",
       "      <td>rmse</td>\n",
       "      <td>ealstm</td>\n",
       "      <td>12.328923</td>\n",
       "    </tr>\n",
       "    <tr>\n",
       "      <th>1</th>\n",
       "      <td>2.0</td>\n",
       "      <td>rmse</td>\n",
       "      <td>ealstm</td>\n",
       "      <td>10.038730</td>\n",
       "    </tr>\n",
       "    <tr>\n",
       "      <th>2</th>\n",
       "      <td>3.0</td>\n",
       "      <td>rmse</td>\n",
       "      <td>ealstm</td>\n",
       "      <td>15.299802</td>\n",
       "    </tr>\n",
       "    <tr>\n",
       "      <th>3</th>\n",
       "      <td>4.0</td>\n",
       "      <td>rmse</td>\n",
       "      <td>ealstm</td>\n",
       "      <td>15.628013</td>\n",
       "    </tr>\n",
       "    <tr>\n",
       "      <th>4</th>\n",
       "      <td>5.0</td>\n",
       "      <td>rmse</td>\n",
       "      <td>ealstm</td>\n",
       "      <td>21.278271</td>\n",
       "    </tr>\n",
       "  </tbody>\n",
       "</table>\n",
       "</div>"
      ],
      "text/plain": [
       "   month metric variable      value\n",
       "0    1.0   rmse   ealstm  12.328923\n",
       "1    2.0   rmse   ealstm  10.038730\n",
       "2    3.0   rmse   ealstm  15.299802\n",
       "3    4.0   rmse   ealstm  15.628013\n",
       "4    5.0   rmse   ealstm  21.278271"
      ]
     },
     "execution_count": 52,
     "metadata": {},
     "output_type": "execute_result"
    }
   ],
   "source": [
    "# create long format dataframe\n",
    "scores_long = pd.melt(\n",
    "    scores, id_vars=['month', 'metric'], \n",
    "    value_vars=['ealstm', 'previous_month']\n",
    ")\n",
    "# get the separate metrics for plotting\n",
    "rmse = scores_long.loc[scores_long.metric=='rmse']\n",
    "r2 = scores_long.loc[scores_long.metric=='r2']\n",
    "\n",
    "scores_long.head()"
   ]
  },
  {
   "cell_type": "code",
   "execution_count": 51,
   "metadata": {},
   "outputs": [
    {
     "data": {
      "text/plain": [
       "Text(0.5, 1, 'RMSE Comparison for EALSTM vs. Baseline')"
      ]
     },
     "execution_count": 51,
     "metadata": {},
     "output_type": "execute_result"
    },
    {
     "data": {
      "image/png": "[encoded data removed]",
      "text/plain": [
       "<Figure size 548.125x432 with 1 Axes>"
      ]
     },
     "metadata": {
      "needs_background": "light"
     },
     "output_type": "display_data"
    }
   ],
   "source": [
    "import seaborn as sns\n",
    "\n",
    "g = sns.catplot(x=\"month\", y=\"value\", hue=\"variable\", data=rmse,\n",
    "                height=6, kind=\"bar\", palette=\"muted\")\n",
    "g.despine(left=True)\n",
    "ax = plt.gca()\n",
    "ax.set_title('RMSE Comparison for EALSTM vs. Baseline');"
   ]
  },
  {
   "cell_type": "code",
   "execution_count": 66,
   "metadata": {},
   "outputs": [
    {
     "data": {
      "image/png": "[encoded data removed]",
      "text/plain": [
       "<Figure size 548.125x432 with 1 Axes>"
      ]
     },
     "metadata": {
      "needs_background": "light"
     },
     "output_type": "display_data"
    }
   ],
   "source": [
    "g = sns.catplot(x=\"month\", y=\"value\", hue=\"variable\", data=r2,\n",
    "                height=6, kind=\"bar\", palette=\"muted\")\n",
    "g.despine(left=True)\n",
    "ax = plt.gca()\n",
    "ax.set_title('R^2 Comparison for EALSTM vs. Baseline');"
   ]
  },
  {
   "cell_type": "markdown",
   "metadata": {},
   "source": [
    "# Shap values"
   ]
  },
  {
   "cell_type": "code",
   "execution_count": null,
   "metadata": {},
   "outputs": [],
   "source": [
    "input_pred_months"
   ]
  },
  {
   "cell_type": "code",
   "execution_count": 215,
   "metadata": {},
   "outputs": [
    {
     "ename": "NameError",
     "evalue": "name 'variable_naems' is not defined",
     "output_type": "error",
     "traceback": [
      "\u001b[0;31m---------------------------------------------------------------------------\u001b[0m",
      "\u001b[0;31mNameError\u001b[0m                                 Traceback (most recent call last)",
      "\u001b[0;32m<ipython-input-215-27772d5834a2>\u001b[0m in \u001b[0;36m<module>\u001b[0;34m\u001b[0m\n\u001b[0;32m----> 1\u001b[0;31m \u001b[0mvariable_naems\u001b[0m\u001b[0;34m\u001b[0m\u001b[0m\n\u001b[0m",
      "\u001b[0;31mNameError\u001b[0m: name 'variable_naems' is not defined"
     ]
    }
   ],
   "source": [
    "latitudes = latlons[:, 0]\n",
    "longitudes = latlons[:, 1]\n",
    "dims = ['lat', 'lon']\n",
    "coords = {'lat': latitudes,\n",
    "          'lon': longitudes}\n",
    "\n",
    "xr.Dataset({'shap': (dims, values)}, coords=coords)\n"
   ]
  },
  {
   "cell_type": "code",
   "execution_count": null,
   "metadata": {},
   "outputs": [],
   "source": []
  }
 ],
 "metadata": {
  "kernelspec": {
   "display_name": "Python 3",
   "language": "python",
   "name": "python3"
  },
  "language_info": {
   "codemirror_mode": {
    "name": "ipython",
    "version": 3
   },
   "file_extension": ".py",
   "mimetype": "text/x-python",
   "name": "python",
   "nbconvert_exporter": "python",
   "pygments_lexer": "ipython3",
   "version": "3.7.0"
  }
 },
 "nbformat": 4,
 "nbformat_minor": 2
}
