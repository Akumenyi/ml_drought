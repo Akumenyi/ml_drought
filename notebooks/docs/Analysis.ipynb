{
 "cells": [
  {
   "cell_type": "markdown",
   "metadata": {},
   "source": [
    "# Analysing the pipeline results\n",
    "\n",
    "Drought is an extremely damaging natural hazard. Operational drought monitoring often uses satellite measurements to determine drought severity and extent. In Kenya, the National Drought Monitoring Authority uses the **Vegetation Condition Index (VCI)** to determine whether or not to distribute emergency funds to counties ([Klitsch and Atsberger 2016](https://www.mdpi.com/2072-4292/8/4/267/htm))\n",
    "\n",
    "Here we demonstrate the usefulness of our pipeline for predicting VCI from pre-existing hydrological and meteorological conditions (the weather!).\n",
    "\n",
    "Our goal is to accurately predict *VCI* one month ahead. This would allow the Kenyan Drought Authority to proactively distribute funds ahead of damaging conditions. Machine learning has already been applied to this problem with impressive results ([Adede et al 2019](https://www.mdpi.com/2072-4292/11/9/1099/htm)). Can we do better?\n",
    "\n",
    "\n",
    "### **NOTE 1**: \n",
    "\n",
    "We are using ready-to-use data that has already been through the pipeline.\n",
    "\n",
    "Because of the time required to download, preprocess and train the models, the model here has already been trained and we are using the model predictions as saved in a zipfile in the `data` directory.\n",
    "\n",
    "In order to run the pipeline end-to-end and reproduce the steps prior to this notebook, you will need to run the `run_demo.py` script in the `scripts/` directory.\n",
    "\n",
    "#### The data:\n",
    "Make sure you unzip the file `zip_data.zip`.\n",
    "\n",
    "This will produce a folder `zip_data` which we will use as our base data directory. Remember, if you were to reproduce this analysis by running the pipeline from end-to-end then you would simply use the default data directory at `.data`.\n",
    "\n",
    "Inside `data/zip_data` we have two directories. **`features`** and **`models`**.\n",
    "\n",
    "**`features`** contains the data that has been through the `preprocessors` and the `engineers`. It only contains data for the `test` set in order to reduce the memory requirements. \n",
    "\n",
    "**`models`** contains data that has been predicted by the given model. It also contains a saved version.\n",
    "\n",
    "Here we only have two models: **`ealstm`** and **`previous_month`** which is our baseline model.\n",
    "\n",
    "### **NOTE 2**:\n",
    "Here the data only includes the baseline `persistence` model and the state of the art Entity Aware Long-Short Term Memory (EALSTM) network. See the `notebooks/docs/Pipeline.ipynb` notebook for more information about the other models that we currently accomodate."
   ]
  },
  {
   "cell_type": "code",
   "execution_count": 1,
   "metadata": {},
   "outputs": [
    {
     "name": "stderr",
     "output_type": "stream",
     "text": [
      "/Users/tommylees/miniconda3/envs/crop/lib/python3.7/site-packages/xarray/core/merge.py:18: FutureWarning: The Panel class is removed from pandas. Accessing it from the top-level namespace will also be removed in the next version\n",
      "  PANDAS_TYPES = (pd.Series, pd.DataFrame, pd.Panel)\n",
      "/Users/tommylees/miniconda3/envs/crop/lib/python3.7/site-packages/xarray/core/dataarray.py:1829: FutureWarning: The Panel class is removed from pandas. Accessing it from the top-level namespace will also be removed in the next version\n",
      "  'DataArray', pd.Series, pd.DataFrame, pd.Panel]:\n"
     ]
    },
    {
     "name": "stdout",
     "output_type": "stream",
     "text": [
      "/Users/tommylees/github/ml_drought\n"
     ]
    }
   ],
   "source": [
    "from pathlib import Path\n",
    "import xarray as xr\n",
    "import pandas as pd\n",
    "import os\n",
    "\n",
    "if Path('.').absolute().parents[1].name == 'ml_drought':\n",
    "    os.chdir(Path('.').absolute().parents[1])\n",
    "\n",
    "!pwd"
   ]
  },
  {
   "cell_type": "code",
   "execution_count": 2,
   "metadata": {},
   "outputs": [],
   "source": [
    "# load the pre-trained model\n",
    "# load the truth vs. predictions\n",
    "# make plot of model performance (true vs. predictions)\n",
    "# analyse by region / VCI3M\n",
    "# demonstrate how this analysis might be run for a different problem.\n",
    "# how do we determine feature contributions?\n",
    "# how do we explore spatial patterns?"
   ]
  },
  {
   "cell_type": "markdown",
   "metadata": {},
   "source": [
    "First let's load both the true and predicted data!"
   ]
  },
  {
   "cell_type": "code",
   "execution_count": 3,
   "metadata": {},
   "outputs": [],
   "source": [
    "import xarray as xr\n",
    "\n",
    "data_dir = Path('data/zip_data')\n",
    "# assert data_dir.exists(), f'Make sure ' \\\n",
    "#     'that you have downloaded and unzipped the ' \\\n",
    "#     'zip_data. This contains the processed data ' \\\n",
    "#     'required to run the Notebook!'\n",
    "data_dir = Path('/Volumes/Lees_Extend/data/zip_data')"
   ]
  },
  {
   "cell_type": "code",
   "execution_count": null,
   "metadata": {},
   "outputs": [],
   "source": []
  },
  {
   "cell_type": "markdown",
   "metadata": {},
   "source": [
    "We have a few convinient analysis tools for evaluating model performance. \n",
    "\n",
    "Most of these functions are defined in `src/analysis/evaluation.py`. They are accesible through `src.analysis`."
   ]
  },
  {
   "cell_type": "code",
   "execution_count": 6,
   "metadata": {},
   "outputs": [],
   "source": [
    "from src.analysis import monthly_score, annual_scores\n",
    "%load_ext autoreload\n",
    "%autoreload 2"
   ]
  },
  {
   "cell_type": "code",
   "execution_count": 7,
   "metadata": {},
   "outputs": [
    {
     "data": {
      "text/html": [
       "<div>\n",
       "<style scoped>\n",
       "    .dataframe tbody tr th:only-of-type {\n",
       "        vertical-align: middle;\n",
       "    }\n",
       "\n",
       "    .dataframe tbody tr th {\n",
       "        vertical-align: top;\n",
       "    }\n",
       "\n",
       "    .dataframe thead th {\n",
       "        text-align: right;\n",
       "    }\n",
       "</style>\n",
       "<table border=\"1\" class=\"dataframe\">\n",
       "  <thead>\n",
       "    <tr style=\"text-align: right;\">\n",
       "      <th></th>\n",
       "      <th>month</th>\n",
       "      <th>ealstm_rmse</th>\n",
       "      <th>previous_month_rmse</th>\n",
       "      <th>ealstm_r2</th>\n",
       "      <th>previous_month_r2</th>\n",
       "    </tr>\n",
       "  </thead>\n",
       "  <tbody>\n",
       "    <tr>\n",
       "      <th>0</th>\n",
       "      <td>1.0</td>\n",
       "      <td>12.328923</td>\n",
       "      <td>15.918060</td>\n",
       "      <td>0.577197</td>\n",
       "      <td>0.295483</td>\n",
       "    </tr>\n",
       "    <tr>\n",
       "      <th>1</th>\n",
       "      <td>2.0</td>\n",
       "      <td>10.038730</td>\n",
       "      <td>9.609800</td>\n",
       "      <td>0.720184</td>\n",
       "      <td>0.743631</td>\n",
       "    </tr>\n",
       "    <tr>\n",
       "      <th>2</th>\n",
       "      <td>3.0</td>\n",
       "      <td>15.299802</td>\n",
       "      <td>18.995626</td>\n",
       "      <td>0.434448</td>\n",
       "      <td>0.128205</td>\n",
       "    </tr>\n",
       "    <tr>\n",
       "      <th>3</th>\n",
       "      <td>4.0</td>\n",
       "      <td>15.628013</td>\n",
       "      <td>24.495406</td>\n",
       "      <td>0.511018</td>\n",
       "      <td>-0.201306</td>\n",
       "    </tr>\n",
       "    <tr>\n",
       "      <th>4</th>\n",
       "      <td>5.0</td>\n",
       "      <td>21.278271</td>\n",
       "      <td>18.025452</td>\n",
       "      <td>0.184720</td>\n",
       "      <td>0.414927</td>\n",
       "    </tr>\n",
       "    <tr>\n",
       "      <th>5</th>\n",
       "      <td>6.0</td>\n",
       "      <td>13.961635</td>\n",
       "      <td>15.021294</td>\n",
       "      <td>0.665425</td>\n",
       "      <td>0.612703</td>\n",
       "    </tr>\n",
       "    <tr>\n",
       "      <th>6</th>\n",
       "      <td>7.0</td>\n",
       "      <td>14.345408</td>\n",
       "      <td>15.152611</td>\n",
       "      <td>0.599551</td>\n",
       "      <td>0.553215</td>\n",
       "    </tr>\n",
       "    <tr>\n",
       "      <th>7</th>\n",
       "      <td>8.0</td>\n",
       "      <td>13.139816</td>\n",
       "      <td>15.989640</td>\n",
       "      <td>0.667640</td>\n",
       "      <td>0.507862</td>\n",
       "    </tr>\n",
       "    <tr>\n",
       "      <th>8</th>\n",
       "      <td>9.0</td>\n",
       "      <td>14.346208</td>\n",
       "      <td>14.151048</td>\n",
       "      <td>0.602290</td>\n",
       "      <td>0.613059</td>\n",
       "    </tr>\n",
       "    <tr>\n",
       "      <th>9</th>\n",
       "      <td>10.0</td>\n",
       "      <td>14.993118</td>\n",
       "      <td>19.052700</td>\n",
       "      <td>0.531009</td>\n",
       "      <td>0.242681</td>\n",
       "    </tr>\n",
       "    <tr>\n",
       "      <th>10</th>\n",
       "      <td>11.0</td>\n",
       "      <td>14.368303</td>\n",
       "      <td>16.396057</td>\n",
       "      <td>0.552896</td>\n",
       "      <td>0.417812</td>\n",
       "    </tr>\n",
       "    <tr>\n",
       "      <th>11</th>\n",
       "      <td>12.0</td>\n",
       "      <td>12.409891</td>\n",
       "      <td>12.407157</td>\n",
       "      <td>0.636760</td>\n",
       "      <td>0.636933</td>\n",
       "    </tr>\n",
       "  </tbody>\n",
       "</table>\n",
       "</div>"
      ],
      "text/plain": [
       "    month  ealstm_rmse  previous_month_rmse  ealstm_r2  previous_month_r2\n",
       "0     1.0    12.328923            15.918060   0.577197           0.295483\n",
       "1     2.0    10.038730             9.609800   0.720184           0.743631\n",
       "2     3.0    15.299802            18.995626   0.434448           0.128205\n",
       "3     4.0    15.628013            24.495406   0.511018          -0.201306\n",
       "4     5.0    21.278271            18.025452   0.184720           0.414927\n",
       "5     6.0    13.961635            15.021294   0.665425           0.612703\n",
       "6     7.0    14.345408            15.152611   0.599551           0.553215\n",
       "7     8.0    13.139816            15.989640   0.667640           0.507862\n",
       "8     9.0    14.346208            14.151048   0.602290           0.613059\n",
       "9    10.0    14.993118            19.052700   0.531009           0.242681\n",
       "10   11.0    14.368303            16.396057   0.552896           0.417812\n",
       "11   12.0    12.409891            12.407157   0.636760           0.636933"
      ]
     },
     "execution_count": 7,
     "metadata": {},
     "output_type": "execute_result"
    }
   ],
   "source": [
    "scores = annual_scores(\n",
    "    data_path=data_dir, \n",
    "    models=['ealstm', 'previous_month'],\n",
    "    metrics=['rmse', 'r2'],\n",
    "    verbose=False,\n",
    "    to_dataframe=True\n",
    ")\n",
    "\n",
    "scores"
   ]
  },
  {
   "cell_type": "code",
   "execution_count": null,
   "metadata": {},
   "outputs": [],
   "source": []
  }
 ],
 "metadata": {
  "kernelspec": {
   "display_name": "Python 3",
   "language": "python",
   "name": "python3"
  },
  "language_info": {
   "codemirror_mode": {
    "name": "ipython",
    "version": 3
   },
   "file_extension": ".py",
   "mimetype": "text/x-python",
   "name": "python",
   "nbconvert_exporter": "python",
   "pygments_lexer": "ipython3",
   "version": "3.7.0"
  }
 },
 "nbformat": 4,
 "nbformat_minor": 2
}
