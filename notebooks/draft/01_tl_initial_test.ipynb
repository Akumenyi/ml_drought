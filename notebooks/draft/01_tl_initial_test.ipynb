{
 "cells": [
  {
   "cell_type": "code",
   "execution_count": 1,
   "metadata": {},
   "outputs": [],
   "source": [
    "from pathlib import Path\n",
    "import xarray as xr\n",
    "import numpy as np\n",
    "\n",
    "import cdsapi\n",
    "import matplotlib.pyplot as plt\n",
    "\n",
    "import os\n",
    "import subprocess"
   ]
  },
  {
   "cell_type": "code",
   "execution_count": 2,
   "metadata": {},
   "outputs": [],
   "source": [
    "# set notebook options\n",
    "%load_ext autoreload\n",
    "%autoreload 2\n",
    "%matplotlib inline\n",
    "plt.rcParams['figure.figsize'] = 12, 6"
   ]
  },
  {
   "cell_type": "code",
   "execution_count": 3,
   "metadata": {},
   "outputs": [
    {
     "name": "stdout",
     "output_type": "stream",
     "text": [
      "Current Working Directory:  /Users/tommylees/github/ml_drought\n"
     ]
    }
   ],
   "source": [
    "# Set working directory as project root\n",
    "if os.getcwd().split('/')[-1] != \"ml_drought\":\n",
    "    os.chdir('..')\n",
    "if os.getcwd().split('/')[-1] != \"ml_drought\":\n",
    "    os.chdir('..')\n",
    "\n",
    "assert os.getcwd().split('/')[-1] == \"ml_drought\", f\"Working directory should be the root (ml_drought), currently: {os.getcwd()}\"\n",
    "print(\"Current Working Directory: \",os.getcwd())"
   ]
  },
  {
   "cell_type": "markdown",
   "metadata": {},
   "source": [
    "# test the exporters"
   ]
  },
  {
   "cell_type": "code",
   "execution_count": 9,
   "metadata": {},
   "outputs": [],
   "source": [
    "from src.exporters.base import BaseExporter\n",
    "from src.exporters import ERA5Exporter\n",
    "\n",
    "from scripts.export_precip import export_precip_2018"
   ]
  },
  {
   "cell_type": "code",
   "execution_count": 10,
   "metadata": {},
   "outputs": [],
   "source": [
    "data_path = Path('data')\n",
    "# if not Path(data_path/'raw').exists():\n",
    "#     (data_path/'raw').mkdir()\n",
    "#     print(\"Made directory: data/raw\")\n",
    "# assert data_path/'raw'.exists(), \"Should have made a raw directory\""
   ]
  },
  {
   "cell_type": "code",
   "execution_count": 11,
   "metadata": {},
   "outputs": [
    {
     "data": {
      "text/plain": [
       "<src.exporters.cds.ERA5Exporter at 0x319245a58>"
      ]
     },
     "execution_count": 11,
     "metadata": {},
     "output_type": "execute_result"
    }
   ],
   "source": [
    "exporter = ERA5Exporter(data_path) \n",
    "exporter"
   ]
  },
  {
   "cell_type": "code",
   "execution_count": null,
   "metadata": {},
   "outputs": [
    {
     "name": "stderr",
     "output_type": "stream",
     "text": [
      "2019-05-13 15:47:47,321 INFO Sending request to https://cds.climate.copernicus.eu/api/v2/resources/reanalysis-era5-single-levels\n"
     ]
    },
    {
     "name": "stdout",
     "output_type": "stream",
     "text": [
      "------------------------\n",
      "Dataset:\n",
      "reanalysis-era5-single-levels\n",
      "------------------------\n",
      "Selection Request:\n",
      "{'area': '6.002/33.501/-5.202/42.283',\n",
      " 'day': ['1'],\n",
      " 'format': 'netcdf',\n",
      " 'month': ['1', '2', '3', '4'],\n",
      " 'product_type': 'reanalysis',\n",
      " 'time': ['00:00'],\n",
      " 'variable': ['precipitation'],\n",
      " 'year': ['2000']}\n",
      "------------------------\n"
     ]
    }
   ],
   "source": [
    "exporter.export('precipitation',\n",
    "                selection_request={'month':[str(m) for m in np.arange(1,5)],'day':[\"1\"],'time':['00:00'],'year':['2000']},\n",
    "                show_api_request=True,\n",
    "                dummy_run=False\n",
    ") "
   ]
  },
  {
   "cell_type": "code",
   "execution_count": 28,
   "metadata": {},
   "outputs": [],
   "source": []
  },
  {
   "cell_type": "code",
   "execution_count": null,
   "metadata": {},
   "outputs": [],
   "source": []
  }
 ],
 "metadata": {
  "kernelspec": {
   "display_name": "Python 3",
   "language": "python",
   "name": "python3"
  },
  "language_info": {
   "codemirror_mode": {
    "name": "ipython",
    "version": 3
   },
   "file_extension": ".py",
   "mimetype": "text/x-python",
   "name": "python",
   "nbconvert_exporter": "python",
   "pygments_lexer": "ipython3",
   "version": "3.7.2"
  }
 },
 "nbformat": 4,
 "nbformat_minor": 2
}
