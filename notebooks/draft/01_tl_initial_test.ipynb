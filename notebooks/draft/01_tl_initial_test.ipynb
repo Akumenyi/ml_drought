{
 "cells": [
  {
   "cell_type": "code",
   "execution_count": 1,
   "metadata": {},
   "outputs": [],
   "source": [
    "from pathlib import Path\n",
    "import xarray as xr\n",
    "import numpy as np\n",
    "\n",
    "import cdsapi\n",
    "import matplotlib.pyplot as plt\n",
    "\n",
    "import os\n",
    "import subprocess"
   ]
  },
  {
   "cell_type": "code",
   "execution_count": 2,
   "metadata": {},
   "outputs": [],
   "source": [
    "# set notebook options\n",
    "%load_ext autoreload\n",
    "%autoreload 2\n",
    "%matplotlib inline\n",
    "plt.rcParams['figure.figsize'] = 12, 6"
   ]
  },
  {
   "cell_type": "code",
   "execution_count": 3,
   "metadata": {},
   "outputs": [
    {
     "name": "stdout",
     "output_type": "stream",
     "text": [
      "Current Working Directory:  /Users/tommylees/github/ml_drought\n"
     ]
    }
   ],
   "source": [
    "# Set working directory as project root\n",
    "if os.getcwd().split('/')[-1] != \"ml_drought\":\n",
    "    os.chdir('..')\n",
    "if os.getcwd().split('/')[-1] != \"ml_drought\":\n",
    "    os.chdir('..')\n",
    "\n",
    "assert os.getcwd().split('/')[-1] == \"ml_drought\", f\"Working directory should be the root (ml_drought), currently: {os.getcwd()}\"\n",
    "print(\"Current Working Directory: \",os.getcwd())"
   ]
  },
  {
   "cell_type": "markdown",
   "metadata": {},
   "source": [
    "# test the exporters"
   ]
  },
  {
   "cell_type": "code",
   "execution_count": 9,
   "metadata": {},
   "outputs": [],
   "source": [
    "from src.exporters.base import BaseExporter\n",
    "from src.exporters import ERA5Exporter\n",
    "\n",
    "from scripts.export_precip import export_precip_2018"
   ]
  },
  {
   "cell_type": "code",
   "execution_count": 10,
   "metadata": {},
   "outputs": [],
   "source": [
    "data_path = Path('data')\n",
    "# if not Path(data_path/'raw').exists():\n",
    "#     (data_path/'raw').mkdir()\n",
    "#     print(\"Made directory: data/raw\")\n",
    "# assert data_path/'raw'.exists(), \"Should have made a raw directory\""
   ]
  },
  {
   "cell_type": "code",
   "execution_count": 11,
   "metadata": {},
   "outputs": [
    {
     "data": {
      "text/plain": [
       "<src.exporters.cds.ERA5Exporter at 0x319245a58>"
      ]
     },
     "execution_count": 11,
     "metadata": {},
     "output_type": "execute_result"
    }
   ],
   "source": [
    "exporter = ERA5Exporter(data_path) \n",
    "exporter"
   ]
  },
  {
   "cell_type": "code",
   "execution_count": 15,
   "metadata": {},
   "outputs": [
    {
     "name": "stderr",
     "output_type": "stream",
     "text": [
      "/Users/tommylees/github/ml_drought/src/exporters/cds.py:85: UserWarning: More than 1 year of data being exported! Export times may be significant.\n",
      "  warnings.warn('More than 1 year of data being exported! '\n",
      "2019-05-13 15:03:10,281 INFO Sending request to https://cds.climate.copernicus.eu/api/v2/resources/reanalysis-era5-single-levels\n"
     ]
    },
    {
     "name": "stdout",
     "output_type": "stream",
     "text": [
      "------------------------\n",
      "Selection Request:\n",
      "{'area': '6.002/33.501/-5.202/42.283',\n",
      " 'day': ['01',\n",
      "         '02',\n",
      "         '03',\n",
      "         '04',\n",
      "         '05',\n",
      "         '06',\n",
      "         '07',\n",
      "         '08',\n",
      "         '09',\n",
      "         '10',\n",
      "         '11',\n",
      "         '12',\n",
      "         '13',\n",
      "         '14',\n",
      "         '15',\n",
      "         '16',\n",
      "         '17',\n",
      "         '18',\n",
      "         '19',\n",
      "         '20',\n",
      "         '21',\n",
      "         '22',\n",
      "         '23',\n",
      "         '24',\n",
      "         '25',\n",
      "         '26',\n",
      "         '27',\n",
      "         '28',\n",
      "         '29',\n",
      "         '30',\n",
      "         '31'],\n",
      " 'format': 'netcdf',\n",
      " 'month': ['01',\n",
      "           '02',\n",
      "           '03',\n",
      "           '04',\n",
      "           '05',\n",
      "           '06',\n",
      "           '07',\n",
      "           '08',\n",
      "           '09',\n",
      "           '10',\n",
      "           '11',\n",
      "           '12'],\n",
      " 'product_type': 'reanalysis',\n",
      " 'time': ['00:00',\n",
      "          '01:00',\n",
      "          '02:00',\n",
      "          '03:00',\n",
      "          '04:00',\n",
      "          '05:00',\n",
      "          '06:00',\n",
      "          '07:00',\n",
      "          '08:00',\n",
      "          '09:00',\n",
      "          '10:00',\n",
      "          '11:00',\n",
      "          '12:00',\n",
      "          '13:00',\n",
      "          '14:00',\n",
      "          '15:00',\n",
      "          '16:00',\n",
      "          '17:00',\n",
      "          '18:00',\n",
      "          '19:00',\n",
      "          '20:00',\n",
      "          '21:00',\n",
      "          '22:00',\n",
      "          '23:00'],\n",
      " 'variable': ['precipitation'],\n",
      " 'year': ['1979',\n",
      "          '1980',\n",
      "          '1981',\n",
      "          '1982',\n",
      "          '1983',\n",
      "          '1984',\n",
      "          '1985',\n",
      "          '1986',\n",
      "          '1987',\n",
      "          '1988',\n",
      "          '1989',\n",
      "          '1990',\n",
      "          '1991',\n",
      "          '1992',\n",
      "          '1993',\n",
      "          '1994',\n",
      "          '1995',\n",
      "          '1996',\n",
      "          '1997',\n",
      "          '1998',\n",
      "          '1999',\n",
      "          '2000',\n",
      "          '2001',\n",
      "          '2002',\n",
      "          '2003',\n",
      "          '2004',\n",
      "          '2005',\n",
      "          '2006',\n",
      "          '2007',\n",
      "          '2008',\n",
      "          '2009',\n",
      "          '2010',\n",
      "          '2011',\n",
      "          '2012',\n",
      "          '2013',\n",
      "          '2014',\n",
      "          '2015',\n",
      "          '2016',\n",
      "          '2017',\n",
      "          '2018',\n",
      "          '2019']}\n",
      "------------------------\n"
     ]
    },
    {
     "ename": "KeyboardInterrupt",
     "evalue": "",
     "output_type": "error",
     "traceback": [
      "\u001b[0;31m---------------------------------------------------------------------------\u001b[0m",
      "\u001b[0;31mKeyboardInterrupt\u001b[0m                         Traceback (most recent call last)",
      "\u001b[0;32m<ipython-input-15-38cefd2d7225>\u001b[0m in \u001b[0;36m<module>\u001b[0;34m\u001b[0m\n\u001b[0;32m----> 1\u001b[0;31m \u001b[0mexporter\u001b[0m\u001b[0;34m.\u001b[0m\u001b[0mexport\u001b[0m\u001b[0;34m(\u001b[0m\u001b[0;34m'precipitation'\u001b[0m\u001b[0;34m,\u001b[0m \u001b[0mshow_api_request\u001b[0m\u001b[0;34m=\u001b[0m\u001b[0;32mTrue\u001b[0m\u001b[0;34m)\u001b[0m\u001b[0;34m\u001b[0m\u001b[0;34m\u001b[0m\u001b[0m\n\u001b[0m",
      "\u001b[0;32m~/github/ml_drought/src/exporters/cds.py\u001b[0m in \u001b[0;36mexport\u001b[0;34m(self, variable, dataset, granularity, show_api_request, selection_request)\u001b[0m\n\u001b[1;32m    217\u001b[0m             \u001b[0mself\u001b[0m\u001b[0;34m.\u001b[0m\u001b[0mprint_api_request\u001b[0m\u001b[0;34m(\u001b[0m\u001b[0mprocessed_selection_request\u001b[0m\u001b[0;34m)\u001b[0m\u001b[0;34m\u001b[0m\u001b[0;34m\u001b[0m\u001b[0m\n\u001b[1;32m    218\u001b[0m \u001b[0;34m\u001b[0m\u001b[0m\n\u001b[0;32m--> 219\u001b[0;31m         \u001b[0;32mreturn\u001b[0m \u001b[0mself\u001b[0m\u001b[0;34m.\u001b[0m\u001b[0m_export\u001b[0m\u001b[0;34m(\u001b[0m\u001b[0mdataset\u001b[0m\u001b[0;34m,\u001b[0m \u001b[0mprocessed_selection_request\u001b[0m\u001b[0;34m)\u001b[0m\u001b[0;34m\u001b[0m\u001b[0;34m\u001b[0m\u001b[0m\n\u001b[0m",
      "\u001b[0;32m~/github/ml_drought/src/exporters/cds.py\u001b[0m in \u001b[0;36m_export\u001b[0;34m(self, dataset, selection_request)\u001b[0m\n\u001b[1;32m    116\u001b[0m \u001b[0;34m\u001b[0m\u001b[0m\n\u001b[1;32m    117\u001b[0m         \u001b[0;32mif\u001b[0m \u001b[0;32mnot\u001b[0m \u001b[0moutput_file\u001b[0m\u001b[0;34m.\u001b[0m\u001b[0mexists\u001b[0m\u001b[0;34m(\u001b[0m\u001b[0;34m)\u001b[0m\u001b[0;34m:\u001b[0m\u001b[0;34m\u001b[0m\u001b[0;34m\u001b[0m\u001b[0m\n\u001b[0;32m--> 118\u001b[0;31m             \u001b[0mself\u001b[0m\u001b[0;34m.\u001b[0m\u001b[0mclient\u001b[0m\u001b[0;34m.\u001b[0m\u001b[0mretrieve\u001b[0m\u001b[0;34m(\u001b[0m\u001b[0mdataset\u001b[0m\u001b[0;34m,\u001b[0m \u001b[0mselection_request\u001b[0m\u001b[0;34m,\u001b[0m \u001b[0mstr\u001b[0m\u001b[0;34m(\u001b[0m\u001b[0moutput_file\u001b[0m\u001b[0;34m)\u001b[0m\u001b[0;34m)\u001b[0m\u001b[0;34m\u001b[0m\u001b[0;34m\u001b[0m\u001b[0m\n\u001b[0m\u001b[1;32m    119\u001b[0m \u001b[0;34m\u001b[0m\u001b[0m\n\u001b[1;32m    120\u001b[0m         \u001b[0;32mreturn\u001b[0m \u001b[0moutput_file\u001b[0m\u001b[0;34m\u001b[0m\u001b[0;34m\u001b[0m\u001b[0m\n",
      "\u001b[0;32m~/miniconda3/envs/crop/lib/python3.7/site-packages/cdsapi/api.py\u001b[0m in \u001b[0;36mretrieve\u001b[0;34m(self, name, request, target)\u001b[0m\n\u001b[1;32m    228\u001b[0m \u001b[0;34m\u001b[0m\u001b[0m\n\u001b[1;32m    229\u001b[0m     \u001b[0;32mdef\u001b[0m \u001b[0mretrieve\u001b[0m\u001b[0;34m(\u001b[0m\u001b[0mself\u001b[0m\u001b[0;34m,\u001b[0m \u001b[0mname\u001b[0m\u001b[0;34m,\u001b[0m \u001b[0mrequest\u001b[0m\u001b[0;34m,\u001b[0m \u001b[0mtarget\u001b[0m\u001b[0;34m=\u001b[0m\u001b[0;32mNone\u001b[0m\u001b[0;34m)\u001b[0m\u001b[0;34m:\u001b[0m\u001b[0;34m\u001b[0m\u001b[0;34m\u001b[0m\u001b[0m\n\u001b[0;32m--> 230\u001b[0;31m         \u001b[0mresult\u001b[0m \u001b[0;34m=\u001b[0m \u001b[0mself\u001b[0m\u001b[0;34m.\u001b[0m\u001b[0m_api\u001b[0m\u001b[0;34m(\u001b[0m\u001b[0;34m'%s/resources/%s'\u001b[0m \u001b[0;34m%\u001b[0m \u001b[0;34m(\u001b[0m\u001b[0mself\u001b[0m\u001b[0;34m.\u001b[0m\u001b[0murl\u001b[0m\u001b[0;34m,\u001b[0m \u001b[0mname\u001b[0m\u001b[0;34m)\u001b[0m\u001b[0;34m,\u001b[0m \u001b[0mrequest\u001b[0m\u001b[0;34m)\u001b[0m\u001b[0;34m\u001b[0m\u001b[0;34m\u001b[0m\u001b[0m\n\u001b[0m\u001b[1;32m    231\u001b[0m         \u001b[0;32mif\u001b[0m \u001b[0mtarget\u001b[0m \u001b[0;32mis\u001b[0m \u001b[0;32mnot\u001b[0m \u001b[0;32mNone\u001b[0m\u001b[0;34m:\u001b[0m\u001b[0;34m\u001b[0m\u001b[0;34m\u001b[0m\u001b[0m\n\u001b[1;32m    232\u001b[0m             \u001b[0mresult\u001b[0m\u001b[0;34m.\u001b[0m\u001b[0mdownload\u001b[0m\u001b[0;34m(\u001b[0m\u001b[0mtarget\u001b[0m\u001b[0;34m)\u001b[0m\u001b[0;34m\u001b[0m\u001b[0;34m\u001b[0m\u001b[0m\n",
      "\u001b[0;32m~/miniconda3/envs/crop/lib/python3.7/site-packages/cdsapi/api.py\u001b[0m in \u001b[0;36m_api\u001b[0;34m(self, url, request)\u001b[0m\n\u001b[1;32m    294\u001b[0m \u001b[0;34m\u001b[0m\u001b[0m\n\u001b[1;32m    295\u001b[0m                 \u001b[0mself\u001b[0m\u001b[0;34m.\u001b[0m\u001b[0mdebug\u001b[0m\u001b[0;34m(\u001b[0m\u001b[0;34m\"Request ID is %s, sleep %s\"\u001b[0m\u001b[0;34m,\u001b[0m \u001b[0mrid\u001b[0m\u001b[0;34m,\u001b[0m \u001b[0msleep\u001b[0m\u001b[0;34m)\u001b[0m\u001b[0;34m\u001b[0m\u001b[0;34m\u001b[0m\u001b[0m\n\u001b[0;32m--> 296\u001b[0;31m                 \u001b[0mtime\u001b[0m\u001b[0;34m.\u001b[0m\u001b[0msleep\u001b[0m\u001b[0;34m(\u001b[0m\u001b[0msleep\u001b[0m\u001b[0;34m)\u001b[0m\u001b[0;34m\u001b[0m\u001b[0;34m\u001b[0m\u001b[0m\n\u001b[0m\u001b[1;32m    297\u001b[0m                 \u001b[0msleep\u001b[0m \u001b[0;34m*=\u001b[0m \u001b[0;36m1.5\u001b[0m\u001b[0;34m\u001b[0m\u001b[0;34m\u001b[0m\u001b[0m\n\u001b[1;32m    298\u001b[0m                 \u001b[0;32mif\u001b[0m \u001b[0msleep\u001b[0m \u001b[0;34m>\u001b[0m \u001b[0mself\u001b[0m\u001b[0;34m.\u001b[0m\u001b[0msleep_max\u001b[0m\u001b[0;34m:\u001b[0m\u001b[0;34m\u001b[0m\u001b[0;34m\u001b[0m\u001b[0m\n",
      "\u001b[0;31mKeyboardInterrupt\u001b[0m: "
     ]
    }
   ],
   "source": [
    "exporter.export('precipitation', show_api_request=True)"
   ]
  },
  {
   "cell_type": "code",
   "execution_count": null,
   "metadata": {},
   "outputs": [],
   "source": []
  }
 ],
 "metadata": {
  "kernelspec": {
   "display_name": "Python 3",
   "language": "python",
   "name": "python3"
  },
  "language_info": {
   "codemirror_mode": {
    "name": "ipython",
    "version": 3
   },
   "file_extension": ".py",
   "mimetype": "text/x-python",
   "name": "python",
   "nbconvert_exporter": "python",
   "pygments_lexer": "ipython3",
   "version": "3.7.2"
  }
 },
 "nbformat": 4,
 "nbformat_minor": 2
}
