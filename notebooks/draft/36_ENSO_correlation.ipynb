{
 "cells": [
  {
   "cell_type": "markdown",
   "metadata": {},
   "source": [
    "# Analyse the correlations with ENSO Index"
   ]
  },
  {
   "cell_type": "code",
   "execution_count": 8,
   "metadata": {},
   "outputs": [],
   "source": [
    "# !pip install netcdf4"
   ]
  },
  {
   "cell_type": "code",
   "execution_count": 1,
   "metadata": {},
   "outputs": [],
   "source": [
    "# !conda install -c conda-forge shap==0.30 --yes"
   ]
  },
  {
   "cell_type": "code",
   "execution_count": 2,
   "metadata": {},
   "outputs": [],
   "source": [
    "# !conda update matplotlib"
   ]
  },
  {
   "cell_type": "code",
   "execution_count": 3,
   "metadata": {},
   "outputs": [
    {
     "name": "stdout",
     "output_type": "stream",
     "text": [
      "/home/jovyan/ml_drought\n"
     ]
    }
   ],
   "source": [
    "from pathlib import Path\n",
    "import os\n",
    "import warnings\n",
    "from typing import Tuple, Optional, Union, Dict, List\n",
    "\n",
    "%load_ext autoreload\n",
    "%autoreload\n",
    "\n",
    "# ignore warnings for now ...\n",
    "warnings.filterwarnings('ignore')\n",
    "\n",
    "if Path('.').absolute().parents[1].name == 'ml_drought':\n",
    "    os.chdir(Path('.').absolute().parents[1])\n",
    "\n",
    "!pwd"
   ]
  },
  {
   "cell_type": "code",
   "execution_count": 4,
   "metadata": {},
   "outputs": [],
   "source": [
    "import xarray as xr\n",
    "import pandas as pd\n",
    "import numpy as np\n",
    "import matplotlib.pyplot as plt\n",
    "import pickle\n",
    "\n",
    "data_dir = Path('data/')\n",
    "\n",
    "assert data_dir.exists()"
   ]
  },
  {
   "cell_type": "code",
   "execution_count": 5,
   "metadata": {},
   "outputs": [],
   "source": [
    "import seaborn as sns\n",
    "from src.utils import drop_nans_and_flatten\n",
    "\n",
    "from src.analysis import read_train_data, read_test_data, read_pred_data\n",
    "from src.utils import get_ds_mask"
   ]
  },
  {
   "cell_type": "markdown",
   "metadata": {},
   "source": [
    "# Get the VCI data"
   ]
  },
  {
   "cell_type": "code",
   "execution_count": 54,
   "metadata": {},
   "outputs": [],
   "source": [
    "X_train, y_train  = read_train_data(\n",
    "    data_dir, experiment='one_month_forecast_BOKU_boku_VCI_our_vars'\n",
    ")\n",
    "X_test, y_test = read_test_data(\n",
    "    data_dir, experiment='one_month_forecast_BOKU_boku_VCI_our_vars'\n",
    ")\n",
    "\n",
    "ds = xr.merge([y_train, y_test]).sortby('time').sortby('lat')\n",
    "d_ = xr.merge([X_train, X_test]).sortby('time').sortby('lat')\n",
    "ds = xr.merge([ds, d_])"
   ]
  },
  {
   "cell_type": "code",
   "execution_count": 55,
   "metadata": {},
   "outputs": [
    {
     "data": {
      "text/html": [
       "<pre>&lt;xarray.Dataset&gt;\n",
       "Dimensions:     (lat: 45, lon: 35, time: 205)\n",
       "Coordinates:\n",
       "  * time        (time) datetime64[ns] 2001-12-31 2002-01-31 ... 2018-12-31\n",
       "  * lat         (lat) float32 -5.0 -4.75 -4.5 -4.25 -4.0 ... 5.25 5.5 5.75 6.0\n",
       "  * lon         (lon) float32 33.75 34.0 34.25 34.5 ... 41.5 41.75 42.0 42.25\n",
       "Data variables:\n",
       "    boku_VCI    (time, lat, lon) float64 100.0 100.0 98.82 ... 11.94 78.34 40.51\n",
       "    p84.162     (time, lat, lon) float64 1.45e-05 -5.456e-05 ... nan nan\n",
       "    pev         (time, lat, lon) float64 -0.005993 -0.006077 ... nan nan\n",
       "    sp          (time, lat, lon) float64 8.862e+04 8.927e+04 ... nan nan\n",
       "    t2m         (time, lat, lon) float64 297.5 298.4 297.4 296.2 ... nan nan nan\n",
       "    tp          (time, lat, lon) float64 0.003657 0.00285 0.004386 ... nan nan\n",
       "    VCI         (time, lat, lon) float64 57.69 89.55 63.82 45.12 ... nan nan nan\n",
       "    precip      (time, lat, lon) float64 102.0 107.6 122.3 111.1 ... nan nan nan\n",
       "    E           (time, lat, lon) float64 85.9 60.61 60.61 57.43 ... nan nan nan\n",
       "    Eb          (time, lat, lon) float64 3.518 1.266 1.266 2.995 ... nan nan nan\n",
       "    SMroot      (time, lat, lon) float64 0.2638 0.2245 0.2245 ... nan nan nan\n",
       "    SMsurf      (time, lat, lon) float64 0.2978 0.2648 0.2648 ... nan nan nan\n",
       "    VCI3M       (time, lat, lon) float64 nan nan nan nan nan ... nan nan nan nan\n",
       "    modis_ndvi  (time, lat, lon) float64 0.688 0.5456 0.7328 ... nan nan nan</pre>"
      ],
      "text/plain": [
       "<xarray.Dataset>\n",
       "Dimensions:     (lat: 45, lon: 35, time: 205)\n",
       "Coordinates:\n",
       "  * time        (time) datetime64[ns] 2001-12-31 2002-01-31 ... 2018-12-31\n",
       "  * lat         (lat) float32 -5.0 -4.75 -4.5 -4.25 -4.0 ... 5.25 5.5 5.75 6.0\n",
       "  * lon         (lon) float32 33.75 34.0 34.25 34.5 ... 41.5 41.75 42.0 42.25\n",
       "Data variables:\n",
       "    boku_VCI    (time, lat, lon) float64 100.0 100.0 98.82 ... 11.94 78.34 40.51\n",
       "    p84.162     (time, lat, lon) float64 1.45e-05 -5.456e-05 ... nan nan\n",
       "    pev         (time, lat, lon) float64 -0.005993 -0.006077 ... nan nan\n",
       "    sp          (time, lat, lon) float64 8.862e+04 8.927e+04 ... nan nan\n",
       "    t2m         (time, lat, lon) float64 297.5 298.4 297.4 296.2 ... nan nan nan\n",
       "    tp          (time, lat, lon) float64 0.003657 0.00285 0.004386 ... nan nan\n",
       "    VCI         (time, lat, lon) float64 57.69 89.55 63.82 45.12 ... nan nan nan\n",
       "    precip      (time, lat, lon) float64 102.0 107.6 122.3 111.1 ... nan nan nan\n",
       "    E           (time, lat, lon) float64 85.9 60.61 60.61 57.43 ... nan nan nan\n",
       "    Eb          (time, lat, lon) float64 3.518 1.266 1.266 2.995 ... nan nan nan\n",
       "    SMroot      (time, lat, lon) float64 0.2638 0.2245 0.2245 ... nan nan nan\n",
       "    SMsurf      (time, lat, lon) float64 0.2978 0.2648 0.2648 ... nan nan nan\n",
       "    VCI3M       (time, lat, lon) float64 nan nan nan nan nan ... nan nan nan nan\n",
       "    modis_ndvi  (time, lat, lon) float64 0.688 0.5456 0.7328 ... nan nan nan"
      ]
     },
     "execution_count": 55,
     "metadata": {},
     "output_type": "execute_result"
    }
   ],
   "source": [
    "ds"
   ]
  },
  {
   "cell_type": "markdown",
   "metadata": {},
   "source": [
    "# Get the ENSO data"
   ]
  },
  {
   "cell_type": "code",
   "execution_count": 62,
   "metadata": {},
   "outputs": [
    {
     "data": {
      "text/html": [
       "<pre>&lt;xarray.Dataset&gt;\n",
       "Dimensions:  (lat: 45, lon: 35, time: 216)\n",
       "Coordinates:\n",
       "  * time     (time) datetime64[ns] 2001-12-31 2002-01-31 ... 2019-11-30\n",
       "  * lat      (lat) float32 6.0 5.75 5.5 5.25 5.0 ... -4.0 -4.25 -4.5 -4.75 -5.0\n",
       "  * lon      (lon) float32 33.75 34.0 34.25 34.5 34.75 ... 41.5 41.75 42.0 42.25\n",
       "Data variables:\n",
       "    nino34   (time, lat, lon) float64 -0.46 -0.46 -0.46 -0.46 ... nan nan nan</pre>"
      ],
      "text/plain": [
       "<xarray.Dataset>\n",
       "Dimensions:  (lat: 45, lon: 35, time: 216)\n",
       "Coordinates:\n",
       "  * time     (time) datetime64[ns] 2001-12-31 2002-01-31 ... 2019-11-30\n",
       "  * lat      (lat) float32 6.0 5.75 5.5 5.25 5.0 ... -4.0 -4.25 -4.5 -4.75 -5.0\n",
       "  * lon      (lon) float32 33.75 34.0 34.25 34.5 34.75 ... 41.5 41.75 42.0 42.25\n",
       "Data variables:\n",
       "    nino34   (time, lat, lon) float64 -0.46 -0.46 -0.46 -0.46 ... nan nan nan"
      ]
     },
     "execution_count": 62,
     "metadata": {},
     "output_type": "execute_result"
    }
   ],
   "source": [
    "def download_preprocess_enso(data_dir: Path) -> xr.Dataset:\n",
    "    \"\"\"Get Nino3.4 index and convert to xarray obj\"\"\"\n",
    "    nino34_link = \"https://www.esrl.noaa.gov/psd/data/correlation/nina34.data\"\n",
    "    nino34_link = \"https://www.esrl.noaa.gov/psd/gcos_wgsp/Timeseries/Data/nino34.long.anom.data\"\n",
    "    name = 'nino34'\n",
    "\n",
    "    # 1. PREPROCESS DATAFRAME\n",
    "    # Download data and clean the table\n",
    "    if 'anom' in nino34_link:\n",
    "        df = pd.read_table(nino34_link, skiprows=0, nrows=149)\n",
    "    else:\n",
    "        df = pd.read_table(nino34_link, skiprows=0, nrows=73)\n",
    "    # spaces to columns\n",
    "    df = df.iloc[:, 0].str.split(expand=True)\n",
    "\n",
    "    # wide to long format\n",
    "    df = df.set_index(0).stack()\n",
    "    df.name = name\n",
    "    df = df.reset_index().rename(columns={0: 'year', 'level_1': 'month'})\n",
    "\n",
    "    # create datetime index\n",
    "    df['time'] = df.apply(lambda x: pd.to_datetime(f'{x.year}-{x.month}'), axis=1)\n",
    "    df = df.set_index('time').drop(columns=['year', 'month'])\n",
    "\n",
    "    # replace missing data\n",
    "    df = df.astype({name: float}).replace(-99.99, np.nan)\n",
    "\n",
    "    # resample to month end (same as other data)\n",
    "    df = df.resample('M').first()\n",
    "\n",
    "    # 2. CONVERT TO XARRAY\n",
    "    vci = xr.open_dataset(\n",
    "        data_dir / 'interim/boku_ndvi_1000_preprocessed/data_kenya.nc'\n",
    "    )['boku_VCI']\n",
    "    mask = vci.isnull()\n",
    "\n",
    "    # for each MONTH TIMESTEP multiply by the nino value\n",
    "    nino_xr = xr.ones_like(vci)\n",
    "    nino_ts = df.loc[nino_xr.time.values]\n",
    "    nino_xr = nino_xr * pd.DataFrame.to_xarray(nino_ts)\n",
    "    nino_xr = nino_xr.where(~mask)\n",
    "\n",
    "    if not (data_dir / 'analysis/sst').exists():\n",
    "        (data_dir / 'analysis/sst').mkdir(parents=True, exist_ok=True)\n",
    "\n",
    "    # save to netcdf\n",
    "    nino_xr.to_netcdf(data_dir / f'analysis/sst/data_{name}.nc')\n",
    "    return nino_xr\n",
    "\n",
    "\n",
    "nino_xr = download_preprocess_enso(data_dir)\n",
    "nino_xr"
   ]
  },
  {
   "cell_type": "code",
   "execution_count": 196,
   "metadata": {},
   "outputs": [
    {
     "data": {
      "image/png": "[encoded data removed]",
      "text/plain": [
       "<Figure size 432x288 with 1 Axes>"
      ]
     },
     "metadata": {
      "needs_background": "light"
     },
     "output_type": "display_data"
    }
   ],
   "source": [
    "fig, ax = plt.subplots()\n",
    "nino_xr.nino34.mean(dim=['lat', 'lon']).plot(ax=ax)\n",
    "ax.set_title('NINO3.4 Index\\n[Anomaly from 1981-2010]')\n",
    "\n",
    "ax.axhline(0, ls=':')\n",
    "ax.spines['top'].set_visible(False)\n",
    "ax.spines['right'].set_visible(False)\n",
    "\n",
    "for item in ([ax.title, ax.xaxis.label, ax.yaxis.label] \n",
    "             + ax.get_xticklabels() + ax.get_yticklabels()):\n",
    "    item.set_fontsize(14)"
   ]
  },
  {
   "cell_type": "markdown",
   "metadata": {},
   "source": [
    "# Correlations with VCI"
   ]
  },
  {
   "cell_type": "code",
   "execution_count": 64,
   "metadata": {},
   "outputs": [],
   "source": [
    "# !pip install git+https://github.com/hrishikeshac/mvstats.git"
   ]
  },
  {
   "cell_type": "code",
   "execution_count": 75,
   "metadata": {},
   "outputs": [],
   "source": [
    "# https://github.com/hrishikeshac/mvstats/blob/master/mvstats/mvstats.py\n",
    "\n",
    "def cov(x, y, time_axis = 0, lagx=0, lagy=0):\n",
    "    \"\"\"\n",
    "    Computes covariance between x and y along time dimension, accounting for given lags (if any)\n",
    "    Input: Two single- or multi-dimensional xrarray DataArray objects (x and y) which have 'time' as the first dimension.\n",
    "        Default time axis is considered as 0, but can be changed using the 'time_axis' argument.\n",
    "        Lag values (lagx for input data x, and lagy for input data y) can also be prescribed. Default lag values are zero.\n",
    "    Output: An xarray DataArray object showing covariance between x and y along the 'time' dimension.\n",
    "        If lag values are provided, the returned object will show lagged covariance.\n",
    "    \"\"\"\n",
    "    #1. Add lag information if any, and shift the data accordingly\n",
    "    if lagx!=0:\n",
    "        #If x lags y by 1, x must be shifted 1 step backwards.\n",
    "        #But as the 'zero-th' value is nonexistant, xr assigns it as invalid (nan). Hence it needs to be dropped\n",
    "        x   = x.shift(time = -lagx).dropna(dim='time', how = 'all')\n",
    "\n",
    "    if lagy!=0:\n",
    "        y   = y.shift(time = -lagy).dropna(dim='time', how = 'all')\n",
    "\n",
    "    #2. Ensure that the data are properly alinged to each other.\n",
    "    x,y = xr.align(x,y)\n",
    "\n",
    "    #3. Compute data length, mean and standard deviation along time dimension for further use:\n",
    "    n     = x.time.shape[0]\n",
    "    xmean = x.mean(dim='time')\n",
    "    ymean = y.mean(dim='time')\n",
    "    xstd  = x.std(dim='time')\n",
    "    ystd  = y.std(dim='time')\n",
    "\n",
    "    #4. Compute covariance along time dimension\n",
    "    cov   =  np.sum((x - xmean)*(y - ymean), axis=time_axis)/(n)\n",
    "\n",
    "    return cov\n",
    "\n",
    "def cor(x, y, time_axis = 0,lagx=0, lagy=0):\n",
    "    \"\"\"\n",
    "    Computes Pearson Correlation coefficient between x and y along time dimension, accounting for given lags (if any)\n",
    "    Input: Two single- or multi-dimensional xrarray DataArray objects (x and y) which have 'time' as the first dimension\n",
    "        Default time axis is considered as 0, but can be changed using the 'time_axis' argument.\n",
    "        Lag values (lagx for input data x, and lagy for input data y) can also be prescribed. Default lag values are zero.\n",
    "    Output: An xarray DataArray object showing Pearson Correlation coefficient between x and y along the 'time' dimension\n",
    "        If lag values are provided, the returned object will show lagged correlation.\n",
    "    \"\"\"\n",
    "    #1. Add lag information if any, and shift the data accordingly\n",
    "    if lagx!=0:\n",
    "        #If x lags y by 1, x must be shifted 1 step backwards.\n",
    "        #But as the 'zero-th' value is nonexistant, xr assigns it as invalid (nan). Hence it needs to be dropped\n",
    "        x   = x.shift(time = -lagx).dropna(dim='time', how = 'all')\n",
    "\n",
    "    if lagy!=0:\n",
    "        y   = y.shift(time = -lagy).dropna(dim='time', how = 'all')\n",
    "\n",
    "    #2. Ensure that the data are properly alinged to each other.\n",
    "    x,y = xr.align(x,y)\n",
    "\n",
    "    #3. Compute data length, mean and standard deviation along time dimension for further use:\n",
    "    n     = x.time.shape[0]\n",
    "    xmean = x.mean(dim='time')\n",
    "    ymean = y.mean(dim='time')\n",
    "    xstd  = x.std(dim='time')\n",
    "    ystd  = y.std(dim='time')\n",
    "\n",
    "    #4. Compute covariance along time dimension\n",
    "    cov   =  np.sum((x - xmean)*(y - ymean), axis=time_axis)/(n)\n",
    "\n",
    "    #5. Compute correlation along time dimension\n",
    "    cor   = cov/(xstd*ystd)\n",
    "\n",
    "    return cor\n",
    "\n",
    "def reg(x, y, time_axis = 0,lagx=0, lagy=0):\n",
    "    \"\"\"\n",
    "    Computes simple linear regression slope and intercept for y with respect to x, accounting for given lags (if any)\n",
    "    Input: Two single- or multi-dimensional xrarray DataArray objects (x and y) which have 'time' as the first dimension.\n",
    "        Default time axis is considered as 0, but can be changed using the 'time_axis' argument.\n",
    "        Lag values (lagx for input data x, and lagy for input data y) can also be prescribed. Default lag values are zero.\n",
    "    Output: Two xarray DataArray objects showing estimated regression slope and intercept values for y with respect to x along the 'time' dimension.\n",
    "        If lag values are provided, the returned object will show lagged regression.\n",
    "    \"\"\"\n",
    "    #1. Add lag information if any, and shift the data accordingly\n",
    "    if lagx!=0:\n",
    "        #If x lags y by 1, x must be shifted 1 step backwards.\n",
    "        #But as the 'zero-th' value is nonexistant, xr assigns it as invalid (nan). Hence it needs to be dropped\n",
    "        x   = x.shift(time = -lagx).dropna(dim='time', how = 'all')\n",
    "\n",
    "    if lagy!=0:\n",
    "        y   = y.shift(time = -lagy).dropna(dim='time', how = 'all')\n",
    "\n",
    "    #2. Ensure that the data are properly alinged to each other.\n",
    "    x,y = xr.align(x,y)\n",
    "\n",
    "    #3. Compute data length, mean and standard deviation along time dimension for further use:\n",
    "    n     = x.time.shape[0]\n",
    "    xmean = x.mean(dim='time')\n",
    "    ymean = y.mean(dim='time')\n",
    "    xstd  = x.std(dim='time')\n",
    "    ystd  = y.std(dim='time')\n",
    "\n",
    "    #4. Compute covariance along time dimension\n",
    "    cov   =  np.sum((x - xmean)*(y - ymean), axis=time_axis)/(n)\n",
    "\n",
    "    #5. Compute regression slope and intercept:\n",
    "    slope     = cov/(xstd**2)\n",
    "    intercept = ymean - xmean*slope\n",
    "\n",
    "    return slope, intercept\n",
    "\n",
    "def linregress_ND(x, y,time_axis = 0,lagx=0, lagy=0):\n",
    "    \"\"\"\n",
    "    Multidimensional equivalent of scipy.stats.linregress()\n",
    "    Input: Two single- or multi-dimensional xrarray DataArray objects (x and y) which have 'time' as the first dimension.\n",
    "        Default time axis is considered as 0, but can be changed using the 'time_axis' argument.\n",
    "        Lag values (lagx for input data x, and lagy for input data y) can also be prescribed. Default lag values are zero.\n",
    "    Output: Xarray DataArray objects showing Covariance, correlation, regression slope and intercept, p-value, and standard error on regression (short: cov,cor,slope,intercept,pval,stderr)\n",
    "    for y with respect to x along time dimension, accounting for given lags (if any)\n",
    "    \"\"\"\n",
    "    #1. Add lag information if any, and shift the data accordingly\n",
    "    if lagx!=0:\n",
    "        #If x lags y by 1, x must be shifted 1 step backwards.\n",
    "        #But as the 'zero-th' value is nonexistant, xr assigns it as invalid (nan). Hence it needs to be dropped\n",
    "        x   = x.shift(time = -lagx).dropna(dim='time', how = 'all')\n",
    "\n",
    "    if lagy!=0:\n",
    "        y   = y.shift(time = -lagy).dropna(dim='time', how = 'all')\n",
    "\n",
    "    #2. Ensure that the data are properly alinged to each other.\n",
    "    x,y = xr.align(x,y)\n",
    "\n",
    "    #3. Compute data length, mean and standard deviation along time axis for further use:\n",
    "    n     = x.time.shape[0]\n",
    "    xmean = x.mean(dim='time')\n",
    "    ymean = y.mean(dim='time')\n",
    "    xstd  = x.std(dim='time')\n",
    "    ystd  = y.std(dim='time')\n",
    "\n",
    "    #4. Compute covariance along time axis\n",
    "    cov   =  np.sum((x - xmean)*(y - ymean), axis=time_axis)/(n)\n",
    "\n",
    "    #5. Compute correlation along time axis\n",
    "    cor   = cov/(xstd*ystd)\n",
    "\n",
    "    #6. Compute regression slope and intercept:\n",
    "    slope     = cov/(xstd**2)\n",
    "    intercept = ymean - xmean*slope\n",
    "\n",
    "    #7. Compute P-value and standard error\n",
    "    #Compute t-statistics\n",
    "    tstats = cor*np.sqrt(n-2)/np.sqrt(1-cor**2)\n",
    "    stderr = slope/tstats\n",
    "\n",
    "    from scipy.stats import t\n",
    "    pval   = t.sf(np.abs(tstats), n-2)*2\n",
    "    pval   = xr.DataArray(pval, dims=cor.dims, coords=cor.coords)\n",
    "\n",
    "    return cov,cor,slope,intercept,pval,stderr\n",
    "\n",
    "def detrend_ND_xr(y, rolling_mean_window = 0):\n",
    "    \"\"\"\n",
    "    Use the reg() to detrend the data\n",
    "    Input: An xarray DataArray object\n",
    "        If seasonlity is not removed from the input array, a moving average filter can be applied by prescribing a value to rolling_mean_window\n",
    "        (e.g. for monthly data, rolling_mean_window = 12 will remove seasonality). Default: rolling_mean_window = 0\n",
    "    Output: Detrended input array. If a rolling_mean_window value is prescribed, the output data will have trimmed ends\n",
    "    detrended data = y - (slope*x + intercept) + y.mean()\n",
    "    \"\"\"\n",
    "    #1 Apply boxcar filter to remove seasonality\n",
    "    y_deseason = y.rolling(time= rolling_mean_window, center=True).mean()#.dropna(dim='time', how = 'all')\n",
    "\n",
    "    #2. Create index array 'x' for y\n",
    "    x = xr.DataArray(np.arange(y.shape[0]), dims = ['time'], coords=[y.time])\n",
    "\n",
    "    #3. Compute regression for deseaonsed y with respect to x\n",
    "    slope, intercept = reg(x,y_deseason)\n",
    "\n",
    "    #4 Compute trend for y\n",
    "    y_trend = (slope*x + intercept)\n",
    "\n",
    "    #5. Subtract the estimated trend from y\n",
    "    det = y - y_trend + y.mean(dim='time')\n",
    "\n",
    "    return det\n"
   ]
  },
  {
   "cell_type": "code",
   "execution_count": 152,
   "metadata": {},
   "outputs": [],
   "source": [
    "def build_multi_lagged_ds(\n",
    "    da_x: xr.DataArray, da_y: xr.DataArray, lags: List[int], v_str: Optional[str] = None\n",
    ") -> xr.Dataset:\n",
    "    \"\"\"lag the y variable\n",
    "        x    y \n",
    "        -------\n",
    "        t   t-1\n",
    "        t   t-2\n",
    "        t   t-3\n",
    "        \n",
    "        Jan -> Dec\n",
    "        Feb -> Jan\n",
    "        Mar -> Feb\n",
    "    \"\"\"\n",
    "    da_x = da_x.sortby(['time', 'lat', 'lon'])\n",
    "    da_y = da_y.sortby(['time', 'lat', 'lon'])\n",
    "    if v_str is None:\n",
    "        v_str = f'{da_x.name}_{da_y.name}'\n",
    "    all_ = []\n",
    "    for lag in lags:\n",
    "        print(f\"Variable {da_y.name} Lag {lag}\")\n",
    "        var_name = f\"cor_{da_y.name}_lag{lag}\"\n",
    "        all_.append(\n",
    "            cor(da_x, da_y, lagy=lag).rename(var_name).values\n",
    "        )\n",
    "\n",
    "        cor_data = np.array(all_)  # lag, lat, lon\n",
    "    \n",
    "    # create xarray object\n",
    "    ds = xr.Dataset(\n",
    "        {\n",
    "            v_str: (\n",
    "                [\"lag\", \"lat\", \"lon\"],\n",
    "                cor_data,\n",
    "            )\n",
    "        },\n",
    "        coords={\n",
    "            \"lag\": lags,\n",
    "            \"lon\": da_y.lon,\n",
    "            \"lat\": da_y.lat,\n",
    "        },\n",
    "    )\n",
    "\n",
    "    return ds"
   ]
  },
  {
   "cell_type": "code",
   "execution_count": 153,
   "metadata": {},
   "outputs": [
    {
     "name": "stdout",
     "output_type": "stream",
     "text": [
      "Variable nino34 Lag 0\n",
      "Variable nino34 Lag 1\n",
      "Variable nino34 Lag 2\n",
      "Variable nino34 Lag 3\n"
     ]
    }
   ],
   "source": [
    "cor_ds = build_multi_lagged_ds(\n",
    "    da_x=ds.boku_VCI,\n",
    "    da_y=nino_xr.nino34,\n",
    "    lags=[0, 1, 2, 3],\n",
    ")"
   ]
  },
  {
   "cell_type": "code",
   "execution_count": 197,
   "metadata": {},
   "outputs": [
    {
     "data": {
      "text/plain": [
       "(-0.4, 0.4)"
      ]
     },
     "execution_count": 197,
     "metadata": {},
     "output_type": "execute_result"
    },
    {
     "data": {
      "image/png": "[encoded data removed]",
      "text/plain": [
       "<Figure size 432x288 with 1 Axes>"
      ]
     },
     "metadata": {
      "needs_background": "light"
     },
     "output_type": "display_data"
    }
   ],
   "source": [
    "fig, ax = plt.subplots()\n",
    "cor_ds.mean(dim=['lat', 'lon']).to_dataframe().plot.bar(ax=ax, legend=False)\n",
    "ax.set_title('Correlation VCI - Nino3.4')\n",
    "ax.set_ylabel('Correlation');\n",
    "ax.set_xlabel('lag timesteps');\n",
    "ax.set_ylim([-0.4, 0.4])\n",
    "# plt.legend(fontsize=14)"
   ]
  },
  {
   "cell_type": "code",
   "execution_count": 193,
   "metadata": {},
   "outputs": [
    {
     "data": {
      "image/png": "[encoded data removed]",
      "text/plain": [
       "<Figure size 432x432 with 5 Axes>"
      ]
     },
     "metadata": {
      "needs_background": "light"
     },
     "output_type": "display_data"
    }
   ],
   "source": [
    "kwargs = {'vmin': -0.4, 'vmax':0.4, 'cmap':'RdBu_r'} #, 'add_colorbar': False}\n",
    "\n",
    "fig, axs = plt.subplots(2, 2, figsize=(6, 6))\n",
    "for ix, lag in enumerate(cor_ds.lag.values):\n",
    "    ax_ix = np.unravel_index(ix, (2,2))\n",
    "    ax = axs[ax_ix]\n",
    "    vals = cor_ds.sel(lag=lag).boku_VCI_nino34.values[::-1, :]\n",
    "    im = ax.imshow(vals, **kwargs)\n",
    "    ax.set_title(f'Lag-{lag}')\n",
    "    ax.axis('off')\n",
    "\n",
    "cbar_ax = fig.add_axes([0.90, 0.15, 0.05, 0.7])\n",
    "cbar = fig.colorbar(im, cax=cbar_ax)\n",
    "cbar.ax.set_ylabel('correlation', rotation=270, size=14)\n",
    "fig.suptitle('VCI correlation with Lagged ENSO', size=14);"
   ]
  },
  {
   "cell_type": "code",
   "execution_count": null,
   "metadata": {},
   "outputs": [],
   "source": []
  }
 ],
 "metadata": {
  "kernelspec": {
   "display_name": "Python 3",
   "language": "python",
   "name": "python3"
  },
  "language_info": {
   "codemirror_mode": {
    "name": "ipython",
    "version": 3
   },
   "file_extension": ".py",
   "mimetype": "text/x-python",
   "name": "python",
   "nbconvert_exporter": "python",
   "pygments_lexer": "ipython3",
   "version": "3.7.6"
  }
 },
 "nbformat": 4,
 "nbformat_minor": 4
}
