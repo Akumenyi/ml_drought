{
 "cells": [
  {
   "cell_type": "markdown",
   "metadata": {},
   "source": [
    "# Explore Model Embeddings"
   ]
  },
  {
   "cell_type": "code",
   "execution_count": 1,
   "metadata": {},
   "outputs": [
    {
     "name": "stdout",
     "output_type": "stream",
     "text": [
      "/Users/tommylees/github/ml_drought\n"
     ]
    }
   ],
   "source": [
    "from pathlib import Path\n",
    "import os\n",
    "import warnings\n",
    "\n",
    "%load_ext autoreload\n",
    "%autoreload 2\n",
    "\n",
    "# ignore warnings for now ...\n",
    "warnings.filterwarnings('ignore')\n",
    "\n",
    "if Path('.').absolute().parents[1].name == 'ml_drought':\n",
    "    os.chdir(Path('.').absolute().parents[1])\n",
    "\n",
    "!pwd"
   ]
  },
  {
   "cell_type": "code",
   "execution_count": 2,
   "metadata": {},
   "outputs": [],
   "source": [
    "import xarray as xr\n",
    "import pandas as pd\n",
    "import numpy as np\n",
    "import matplotlib.pyplot as plt\n",
    "import pickle\n",
    "\n",
    "data_dir = Path('data/')\n",
    "# data_dir = Path('/Volumes/Lees_Extend/data/zip_data')\n",
    "data_dir = Path('/Volumes/Lees_Extend/data/ecmwf_sowc/data/')\n",
    "plot_dir = Path('/Users/tommylees/Downloads')\n",
    "\n",
    "assert data_dir.exists()"
   ]
  },
  {
   "cell_type": "code",
   "execution_count": 3,
   "metadata": {},
   "outputs": [],
   "source": [
    "import seaborn as sns\n",
    "from src.utils import drop_nans_and_flatten\n",
    "\n",
    "from src.analysis import read_train_data, read_test_data, read_pred_data"
   ]
  },
  {
   "cell_type": "code",
   "execution_count": 4,
   "metadata": {},
   "outputs": [],
   "source": [
    "EXPERIMENT =      'one_month_forecast_BOKU_VCI3M_adede_only_vars'\n",
    "TRUE_EXPERIMENT = 'one_month_forecast_BOKU_VCI3M_our_vars_20205006_1550'\n",
    "TARGET_VAR =      'VCI3M'"
   ]
  },
  {
   "cell_type": "code",
   "execution_count": 5,
   "metadata": {},
   "outputs": [],
   "source": [
    "EXPERIMENT =      'one_month_forecast_BOKU_boku_VCI_our_vars'\n",
    "TRUE_EXPERIMENT = 'one_month_forecast_BOKU_boku_VCI_our_vars'\n",
    "TARGET_VAR =      'boku_VCI'"
   ]
  },
  {
   "cell_type": "markdown",
   "metadata": {},
   "source": [
    "# Read in the data"
   ]
  },
  {
   "cell_type": "code",
   "execution_count": 6,
   "metadata": {},
   "outputs": [],
   "source": [
    "X_train, y_train = read_train_data(data_dir, experiment=EXPERIMENT)\n",
    "X_test, y_test = read_test_data(data_dir, experiment=EXPERIMENT)\n",
    "static_ds = xr.open_dataset(data_dir / \"features/static/data.nc\")\n",
    "\n",
    "ds = xr.merge([y_train, y_test]).sortby('time').sortby('lat')\n",
    "d_ = xr.merge([X_train, X_test]).sortby('time').sortby('lat')\n",
    "ds = xr.merge([ds, d_])"
   ]
  },
  {
   "cell_type": "code",
   "execution_count": 7,
   "metadata": {},
   "outputs": [
    {
     "name": "stdout",
     "output_type": "stream",
     "text": [
      "TRAINING DATA\n"
     ]
    },
    {
     "data": {
      "text/plain": [
       "<xarray.Dataset>\n",
       "Dimensions:     (lat: 45, lon: 35, time: 205)\n",
       "Coordinates:\n",
       "  * time        (time) datetime64[ns] 2001-12-31 2002-01-31 ... 2018-12-31\n",
       "  * lon         (lon) float64 33.75 34.0 34.25 34.5 ... 41.5 41.75 42.0 42.25\n",
       "  * lat         (lat) float64 -5.0 -4.75 -4.5 -4.25 -4.0 ... 5.25 5.5 5.75 6.0\n",
       "Data variables:\n",
       "    boku_VCI    (time, lat, lon) float64 100.0 100.0 98.82 ... 11.94 78.34 40.51\n",
       "    p84.162     (time, lat, lon) float64 1.45e-05 -5.456e-05 ... nan nan\n",
       "    pev         (time, lat, lon) float64 -0.005993 -0.006077 ... nan nan\n",
       "    sp          (time, lat, lon) float64 8.862e+04 8.927e+04 ... nan nan\n",
       "    t2m         (time, lat, lon) float64 297.5 298.4 297.4 296.2 ... nan nan nan\n",
       "    tp          (time, lat, lon) float64 0.003657 0.00285 0.004386 ... nan nan\n",
       "    VCI         (time, lat, lon) float64 57.69 89.55 63.82 45.12 ... nan nan nan\n",
       "    precip      (time, lat, lon) float64 102.0 107.6 122.3 111.1 ... nan nan nan\n",
       "    E           (time, lat, lon) float64 85.9 60.61 60.61 57.43 ... nan nan nan\n",
       "    Eb          (time, lat, lon) float64 3.518 1.266 1.266 2.995 ... nan nan nan\n",
       "    SMroot      (time, lat, lon) float64 0.2638 0.2245 0.2245 ... nan nan nan\n",
       "    SMsurf      (time, lat, lon) float64 0.2978 0.2648 0.2648 ... nan nan nan\n",
       "    VCI3M       (time, lat, lon) float64 nan nan nan nan nan ... nan nan nan nan\n",
       "    modis_ndvi  (time, lat, lon) float64 0.688 0.5456 0.7328 ... nan nan nan"
      ]
     },
     "metadata": {},
     "output_type": "display_data"
    },
    {
     "name": "stdout",
     "output_type": "stream",
     "text": [
      "\n",
      "\n",
      "\n",
      "TARGET DATA\n"
     ]
    },
    {
     "data": {
      "text/plain": [
       "<xarray.Dataset>\n",
       "Dimensions:   (lat: 45, lon: 35, time: 36)\n",
       "Coordinates:\n",
       "  * lon       (lon) float64 33.75 34.0 34.25 34.5 ... 41.5 41.75 42.0 42.25\n",
       "  * lat       (lat) float64 6.0 5.75 5.5 5.25 5.0 ... -4.0 -4.25 -4.5 -4.75 -5.0\n",
       "  * time      (time) datetime64[ns] 2016-01-31 2016-02-29 ... 2018-12-31\n",
       "Data variables:\n",
       "    boku_VCI  (time, lat, lon) float64 64.45 52.16 97.37 96.48 ... nan nan nan"
      ]
     },
     "metadata": {},
     "output_type": "display_data"
    }
   ],
   "source": [
    "print(\"TRAINING DATA\")\n",
    "display(ds)\n",
    "print('\\n\\n')\n",
    "print(\"TARGET DATA\")\n",
    "display(y_test)"
   ]
  },
  {
   "cell_type": "code",
   "execution_count": 8,
   "metadata": {},
   "outputs": [],
   "source": [
    "from src.utils import get_ds_mask\n",
    "mask = get_ds_mask(X_train.VCI)\n",
    "\n",
    "bline_pred = read_pred_data('previous_month', data_dir, experiment=EXPERIMENT)[-1].where(~mask)\n",
    "lstm_pred = read_pred_data('rnn', data_dir, experiment=EXPERIMENT)[-1].where(~mask)\n",
    "ealstm_pred = read_pred_data('ealstm', data_dir, experiment=EXPERIMENT)[-1].where(~mask)"
   ]
  },
  {
   "cell_type": "code",
   "execution_count": 9,
   "metadata": {},
   "outputs": [
    {
     "data": {
      "image/png": "[encoded data removed]",
      "text/plain": [
       "<Figure size 432x288 with 2 Axes>"
      ]
     },
     "metadata": {
      "needs_background": "light"
     },
     "output_type": "display_data"
    }
   ],
   "source": [
    "fig, ax = plt.subplots()\n",
    "time_ix = 0\n",
    "time = ealstm_pred.isel(time=time_ix).time.values\n",
    "ealstm_pred.isel(time=time_ix).plot(ax=ax)\n",
    "ax.set_title(f\"** PREDICTED VALUES {str(time).split('T')[0]}**\", size=16);"
   ]
  },
  {
   "cell_type": "markdown",
   "metadata": {},
   "source": [
    "# Read in the models\n",
    "Input data:\n",
    "* boku_VCI    \n",
    "* pev         \n",
    "* t2m         \n",
    "* precip      \n",
    "* E           \n",
    "* SMroot      \n",
    "* SMsurf\n",
    "\n",
    "\n",
    "\\+ each variables SPATIAL MEAN (therefore 14 input variables)"
   ]
  },
  {
   "cell_type": "code",
   "execution_count": 10,
   "metadata": {},
   "outputs": [],
   "source": [
    "from src.models import load_model"
   ]
  },
  {
   "cell_type": "code",
   "execution_count": 11,
   "metadata": {},
   "outputs": [],
   "source": [
    "ealstm = load_model(data_dir / 'models' / EXPERIMENT / 'ealstm' / 'model.pt')\n",
    "lstm = load_model(data_dir / 'models' / EXPERIMENT / 'rnn' / 'model.pt')"
   ]
  },
  {
   "cell_type": "code",
   "execution_count": 12,
   "metadata": {},
   "outputs": [
    {
     "data": {
      "text/html": [
       "['__annotations__', '__class__', '__delattr__', '__dict__', '__dir__', '__doc__', '__eq__', '__format__', '__ge__', '__getattribute__', '__gt__', '__hash__', '__init__', '__init_subclass__', '__le__', '__lt__', '__module__', '__ne__', '__new__', '__reduce__', '__reduce_ex__', '__repr__', '__setattr__', '__sizeof__', '__str__', '__subclasshook__', '__weakref__', '_concatenate_data', '_convert_delta_to_raw_values', '_get_background', '_get_morris_explanations', '_get_shap_explanations', '_initialize_model', '_input_to_tuple', '_load_spatial_mask', '_make_analysis_folder', '_one_hot', 'batch_size', 'current_size', 'data_path', 'data_vars', 'denormalize_y', 'dense_features', 'device', 'evaluate', 'experiment', 'explain', 'explainer', 'features_per_month', 'get_dataloader', 'get_static_embedding', 'hidden_size', 'ignore_vars', 'include_latlons', 'include_monthly_aggs', 'include_pred_month', 'include_prev_y', 'include_yearly_aggs', 'input_dense', 'load', 'model', 'model_dir', 'model_name', 'models_dir', 'normalize_y', 'normalizing_dict', 'num_locations', 'pred_months', 'predict', 'predict_delta', 'rnn_dropout', 'save_model', 'spatial_mask', 'static', 'static_embedding_size', 'static_size', 'surrounding_pixels', 'to', 'train', 'yearly_agg_size']"
      ],
      "text/plain": [
       "['__annotations__',\n",
       " '__class__',\n",
       " '__delattr__',\n",
       " '__dict__',\n",
       " '__dir__',\n",
       " '__doc__',\n",
       " '__eq__',\n",
       " '__format__',\n",
       " '__ge__',\n",
       " '__getattribute__',\n",
       " '__gt__',\n",
       " '__hash__',\n",
       " '__init__',\n",
       " '__init_subclass__',\n",
       " '__le__',\n",
       " '__lt__',\n",
       " '__module__',\n",
       " '__ne__',\n",
       " '__new__',\n",
       " '__reduce__',\n",
       " '__reduce_ex__',\n",
       " '__repr__',\n",
       " '__setattr__',\n",
       " '__sizeof__',\n",
       " '__str__',\n",
       " '__subclasshook__',\n",
       " '__weakref__',\n",
       " '_concatenate_data',\n",
       " '_convert_delta_to_raw_values',\n",
       " '_get_background',\n",
       " '_get_morris_explanations',\n",
       " '_get_shap_explanations',\n",
       " '_initialize_model',\n",
       " '_input_to_tuple',\n",
       " '_load_spatial_mask',\n",
       " '_make_analysis_folder',\n",
       " '_one_hot',\n",
       " 'batch_size',\n",
       " 'current_size',\n",
       " 'data_path',\n",
       " 'data_vars',\n",
       " 'denormalize_y',\n",
       " 'dense_features',\n",
       " 'device',\n",
       " 'evaluate',\n",
       " 'experiment',\n",
       " 'explain',\n",
       " 'explainer',\n",
       " 'features_per_month',\n",
       " 'get_dataloader',\n",
       " 'get_static_embedding',\n",
       " 'hidden_size',\n",
       " 'ignore_vars',\n",
       " 'include_latlons',\n",
       " 'include_monthly_aggs',\n",
       " 'include_pred_month',\n",
       " 'include_prev_y',\n",
       " 'include_yearly_aggs',\n",
       " 'input_dense',\n",
       " 'load',\n",
       " 'model',\n",
       " 'model_dir',\n",
       " 'model_name',\n",
       " 'models_dir',\n",
       " 'normalize_y',\n",
       " 'normalizing_dict',\n",
       " 'num_locations',\n",
       " 'pred_months',\n",
       " 'predict',\n",
       " 'predict_delta',\n",
       " 'rnn_dropout',\n",
       " 'save_model',\n",
       " 'spatial_mask',\n",
       " 'static',\n",
       " 'static_embedding_size',\n",
       " 'static_size',\n",
       " 'surrounding_pixels',\n",
       " 'to',\n",
       " 'train',\n",
       " 'yearly_agg_size']"
      ]
     },
     "execution_count": 12,
     "metadata": {},
     "output_type": "execute_result"
    }
   ],
   "source": [
    "dir(ealstm)"
   ]
  },
  {
   "cell_type": "code",
   "execution_count": 13,
   "metadata": {},
   "outputs": [
    {
     "data": {
      "text/plain": [
       "14"
      ]
     },
     "execution_count": 13,
     "metadata": {},
     "output_type": "execute_result"
    }
   ],
   "source": [
    "ealstm.models_dir = data_dir / 'models' / EXPERIMENT\n",
    "lstm.models_dir = data_dir / 'models' / EXPERIMENT\n",
    "\n",
    "ealstm.ignore_vars = [v for v in ealstm.ignore_vars if v not in ['VCI3M', 'modis_ndvi']]\n",
    "lstm.ignore_vars =[v for v in lstm.ignore_vars if v not in ['VCI3M', 'modis_ndvi']]\n",
    "\n",
    "ealstm.features_per_month  # x.shape[-1] = the number of features in dynamic data "
   ]
  },
  {
   "cell_type": "markdown",
   "metadata": {},
   "source": [
    "# Interpret Model"
   ]
  },
  {
   "cell_type": "code",
   "execution_count": 14,
   "metadata": {},
   "outputs": [
    {
     "data": {
      "text/html": [
       "['__call__', '__class__', '__constants__', '__delattr__', '__dict__', '__dir__', '__doc__', '__eq__', '__format__', '__ge__', '__getattr__', '__getattribute__', '__gt__', '__hash__', '__init__', '__init_subclass__', '__le__', '__lt__', '__module__', '__ne__', '__new__', '__reduce__', '__reduce_ex__', '__repr__', '__setattr__', '__setstate__', '__sizeof__', '__str__', '__subclasshook__', '__weakref__', '_apply', '_backward_hooks', '_buffers', '_forward_hooks', '_forward_pre_hooks', '_get_name', '_load_from_state_dict', '_load_state_dict_pre_hooks', '_modules', '_named_members', '_parameters', '_register_load_state_dict_pre_hook', '_register_state_dict_hook', '_save_to_state_dict', '_slow_forward', '_state_dict_hooks', '_tracing_name', '_version', 'add_module', 'apply', 'bias', 'buffers', 'children', 'cpu', 'cuda', 'double', 'dump_patches', 'eval', 'extra_repr', 'float', 'forward', 'half', 'in_features', 'load_state_dict', 'modules', 'named_buffers', 'named_children', 'named_modules', 'named_parameters', 'out_features', 'parameters', 'register_backward_hook', 'register_buffer', 'register_forward_hook', 'register_forward_pre_hook', 'register_parameter', 'requires_grad_', 'reset_parameters', 'share_memory', 'state_dict', 'to', 'train', 'training', 'type', 'weight', 'zero_grad']"
      ],
      "text/plain": [
       "['__call__',\n",
       " '__class__',\n",
       " '__constants__',\n",
       " '__delattr__',\n",
       " '__dict__',\n",
       " '__dir__',\n",
       " '__doc__',\n",
       " '__eq__',\n",
       " '__format__',\n",
       " '__ge__',\n",
       " '__getattr__',\n",
       " '__getattribute__',\n",
       " '__gt__',\n",
       " '__hash__',\n",
       " '__init__',\n",
       " '__init_subclass__',\n",
       " '__le__',\n",
       " '__lt__',\n",
       " '__module__',\n",
       " '__ne__',\n",
       " '__new__',\n",
       " '__reduce__',\n",
       " '__reduce_ex__',\n",
       " '__repr__',\n",
       " '__setattr__',\n",
       " '__setstate__',\n",
       " '__sizeof__',\n",
       " '__str__',\n",
       " '__subclasshook__',\n",
       " '__weakref__',\n",
       " '_apply',\n",
       " '_backward_hooks',\n",
       " '_buffers',\n",
       " '_forward_hooks',\n",
       " '_forward_pre_hooks',\n",
       " '_get_name',\n",
       " '_load_from_state_dict',\n",
       " '_load_state_dict_pre_hooks',\n",
       " '_modules',\n",
       " '_named_members',\n",
       " '_parameters',\n",
       " '_register_load_state_dict_pre_hook',\n",
       " '_register_state_dict_hook',\n",
       " '_save_to_state_dict',\n",
       " '_slow_forward',\n",
       " '_state_dict_hooks',\n",
       " '_tracing_name',\n",
       " '_version',\n",
       " 'add_module',\n",
       " 'apply',\n",
       " 'bias',\n",
       " 'buffers',\n",
       " 'children',\n",
       " 'cpu',\n",
       " 'cuda',\n",
       " 'double',\n",
       " 'dump_patches',\n",
       " 'eval',\n",
       " 'extra_repr',\n",
       " 'float',\n",
       " 'forward',\n",
       " 'half',\n",
       " 'in_features',\n",
       " 'load_state_dict',\n",
       " 'modules',\n",
       " 'named_buffers',\n",
       " 'named_children',\n",
       " 'named_modules',\n",
       " 'named_parameters',\n",
       " 'out_features',\n",
       " 'parameters',\n",
       " 'register_backward_hook',\n",
       " 'register_buffer',\n",
       " 'register_forward_hook',\n",
       " 'register_forward_pre_hook',\n",
       " 'register_parameter',\n",
       " 'requires_grad_',\n",
       " 'reset_parameters',\n",
       " 'share_memory',\n",
       " 'state_dict',\n",
       " 'to',\n",
       " 'train',\n",
       " 'training',\n",
       " 'type',\n",
       " 'weight',\n",
       " 'zero_grad']"
      ]
     },
     "execution_count": 14,
     "metadata": {},
     "output_type": "execute_result"
    }
   ],
   "source": [
    "dir(ealstm.model.static_embedding)"
   ]
  },
  {
   "cell_type": "code",
   "execution_count": 15,
   "metadata": {},
   "outputs": [],
   "source": [
    "od = ealstm.model.static_embedding.state_dict()\n",
    "weight = od['weight'].numpy()\n",
    "bias = od['bias'].numpy()"
   ]
  },
  {
   "cell_type": "code",
   "execution_count": 18,
   "metadata": {},
   "outputs": [
    {
     "name": "stdout",
     "output_type": "stream",
     "text": [
      "/Volumes/Lees_Extend/data/ecmwf_sowc/data/features/one_month_forecast/train/1985_1 returns no values. Skipping\n",
      "/Volumes/Lees_Extend/data/ecmwf_sowc/data/features/one_month_forecast/train/1985_2 returns no values. Skipping\n",
      "/Volumes/Lees_Extend/data/ecmwf_sowc/data/features/one_month_forecast/train/1986_1 returns no values. Skipping\n",
      "/Volumes/Lees_Extend/data/ecmwf_sowc/data/features/one_month_forecast/train/1986_2 returns no values. Skipping\n",
      "/Volumes/Lees_Extend/data/ecmwf_sowc/data/features/one_month_forecast/train/1994_10 returns no values. Skipping\n",
      "/Volumes/Lees_Extend/data/ecmwf_sowc/data/features/one_month_forecast/train/1994_11 returns no values. Skipping\n",
      "/Volumes/Lees_Extend/data/ecmwf_sowc/data/features/one_month_forecast/train/1994_12 returns no values. Skipping\n",
      "/Volumes/Lees_Extend/data/ecmwf_sowc/data/features/one_month_forecast/train/1995_1 returns no values. Skipping\n",
      "/Volumes/Lees_Extend/data/ecmwf_sowc/data/features/one_month_forecast/train/1995_10 returns no values. Skipping\n",
      "/Volumes/Lees_Extend/data/ecmwf_sowc/data/features/one_month_forecast/train/1995_11 returns no values. Skipping\n",
      "/Volumes/Lees_Extend/data/ecmwf_sowc/data/features/one_month_forecast/train/1995_12 returns no values. Skipping\n",
      "/Volumes/Lees_Extend/data/ecmwf_sowc/data/features/one_month_forecast/train/1995_2 returns no values. Skipping\n",
      "/Volumes/Lees_Extend/data/ecmwf_sowc/data/features/one_month_forecast/train/1995_3 returns no values. Skipping\n",
      "/Volumes/Lees_Extend/data/ecmwf_sowc/data/features/one_month_forecast/train/2004_4 returns no values. Skipping\n",
      "/Volumes/Lees_Extend/data/ecmwf_sowc/data/features/one_month_forecast/train/2004_5 returns no values. Skipping\n",
      "/Volumes/Lees_Extend/data/ecmwf_sowc/data/features/one_month_forecast/train/2005_4 returns no values. Skipping\n",
      "/Volumes/Lees_Extend/data/ecmwf_sowc/data/features/one_month_forecast/train/2005_5 returns no values. Skipping\n"
     ]
    }
   ],
   "source": [
    "ealstm.ignore_vars =[v for v in ealstm.ignore_vars if v not in ['VCI3M', 'modis_ndvi']]\n",
    "dl = ealstm.get_dataloader('train')\n",
    "x = [x for x in dl]"
   ]
  },
  {
   "cell_type": "code",
   "execution_count": 16,
   "metadata": {},
   "outputs": [
    {
     "data": {
      "text/plain": [
       "(64, 24)"
      ]
     },
     "execution_count": 16,
     "metadata": {},
     "output_type": "execute_result"
    }
   ],
   "source": [
    "w,b = ealstm.get_static_embedding()\n",
    "w.shape\n",
    "# b.shape\n",
    "# ealstm.static_embedding_size\n",
    "# ealstm.static_size"
   ]
  },
  {
   "cell_type": "code",
   "execution_count": 51,
   "metadata": {},
   "outputs": [
    {
     "name": "stdout",
     "output_type": "stream",
     "text": [
      "No. of static features:  24\n",
      "Static X Data Shape:  (1402, 24)\n"
     ]
    }
   ],
   "source": [
    "# BUILD the static input data (for each pixel)\n",
    "pred_month_data = x[0][0][1]\n",
    "latlons_data = x[0][0][2]\n",
    "yearly_aggs_data = x[0][0][4]\n",
    "static_data = x[0][0][5]\n",
    "prev_y_data = x[0][0][6]\n",
    "\n",
    "static_data.shape\n",
    "yearly_aggs_data.shape\n",
    "\n",
    "ea_static_size = 0\n",
    "\n",
    "# calculate the static size\n",
    "include_pred_month = True\n",
    "ea_static_size = ea_static_size + 12 if include_pred_month else ea_static_size\n",
    "\n",
    "latlons = True\n",
    "ea_static_size = ea_static_size + 2 if latlons else ea_static_size\n",
    "\n",
    "yearly_agg = True\n",
    "yearly_agg_size = yearly_aggs_data.shape[-1]\n",
    "ea_static_size = ea_static_size + yearly_agg_size if yearly_agg else ea_static_size\n",
    "\n",
    "static = True\n",
    "static_size = static_data.shape[-1]\n",
    "ea_static_size = ea_static_size + static_size if static else ea_static_size\n",
    "\n",
    "include_prev_y = True\n",
    "ea_static_size = ea_static_size + 1 if include_prev_y else ea_static_size\n",
    "\n",
    "print(\"No. of static features: \", ea_static_size)\n",
    "# check w^Tx + b is a valid matrix operation\n",
    "assert w.T.shape[0] == ea_static_size\n",
    "\n",
    "# append the static_arrays\n",
    "static_x = []\n",
    "static_x.append(ealstm._one_hot(torch.from_numpy(pred_month_data), 12).numpy())\n",
    "static_x.append(latlons_data)\n",
    "static_x.append(yearly_aggs_data)\n",
    "static_x.append(static_data)\n",
    "static_x.append(prev_y_data)\n",
    "\n",
    "static_x = np.concatenate(static_x, axis=-1)\n",
    "\n",
    "print(\"Static X Data Shape: \", static_x.shape)\n",
    "# check w^Tx + b is a valid matrix operation\n",
    "assert w.T.shape[0] == static_x.shape[-1]"
   ]
  },
  {
   "cell_type": "code",
   "execution_count": 88,
   "metadata": {},
   "outputs": [
    {
     "data": {
      "text/plain": [
       "(64, 24)"
      ]
     },
     "execution_count": 88,
     "metadata": {},
     "output_type": "execute_result"
    }
   ],
   "source": [
    "def sigmoid(x):\n",
    "    return 1/(1 + np.exp(-x))\n",
    "\n",
    "w.shape"
   ]
  },
  {
   "cell_type": "code",
   "execution_count": 179,
   "metadata": {},
   "outputs": [],
   "source": [
    "# calculate the embedding\n",
    "embedding = []\n",
    "for pixel_ix in range(static_x.shape[0]):\n",
    "    embedding.append(sigmoid(np.dot(w, static_x[pixel_ix]) + b))\n",
    "    \n",
    "embedding = np.array(embedding)"
   ]
  },
  {
   "cell_type": "markdown",
   "metadata": {},
   "source": [
    "# Visualise the Static Embedding"
   ]
  },
  {
   "cell_type": "code",
   "execution_count": 103,
   "metadata": {},
   "outputs": [
    {
     "data": {
      "text/plain": [
       "Text(0, 0.5, 'Activation')"
      ]
     },
     "execution_count": 103,
     "metadata": {},
     "output_type": "execute_result"
    },
    {
     "data": {
      "image/png": "[encoded data removed]",
      "text/plain": [
       "<Figure size 864x360 with 2 Axes>"
      ]
     },
     "metadata": {
      "needs_background": "light"
     },
     "output_type": "display_data"
    }
   ],
   "source": [
    "fig, ax = plt.subplots(figsize=(12,5))\n",
    "img = ax.pcolor(embedding.T, cmap='plasma')\n",
    "ax.set_xlabel(\"Pixels\")\n",
    "ax.set_ylabel(\"Input gate neuron\")\n",
    "ax.set_title(\"Input gate activations\")\n",
    "cbar = plt.colorbar(img, ax=ax)\n",
    "cbar.ax.set_ylabel(\"Activation\")"
   ]
  },
  {
   "cell_type": "markdown",
   "metadata": {},
   "source": [
    "### which of these neurons actually vary?"
   ]
  },
  {
   "cell_type": "code",
   "execution_count": 156,
   "metadata": {},
   "outputs": [
    {
     "name": "stdout",
     "output_type": "stream",
     "text": [
      "How many neurons have the same values (thresh 0.01):       40\n",
      "How many neurons are left:                                 24\n"
     ]
    }
   ],
   "source": [
    "threshold = 0.01\n",
    "\n",
    "mask_same = np.all(np.isclose(a, a[0,:], threshold), axis=0)\n",
    "print(f\"How many neurons have the same values (thresh {threshold}): \".ljust(58), mask_same.sum())\n",
    "print(f\"How many neurons are left: \".ljust(58), len(mask_same) - mask_same.sum())\n",
    "remove_constants = embedding[:, ~mask_same]"
   ]
  },
  {
   "cell_type": "code",
   "execution_count": 178,
   "metadata": {},
   "outputs": [
    {
     "data": {
      "image/png": "[encoded data removed]",
      "text/plain": [
       "<Figure size 864x576 with 1 Axes>"
      ]
     },
     "metadata": {
      "needs_background": "light"
     },
     "output_type": "display_data"
    }
   ],
   "source": [
    "fig, ax = plt.subplots(figsize=(12, 8))\n",
    "pd.DataFrame({'std': np.std(embedding, axis=0)}, index=np.arange(0, 64)).plot.bar(ax=ax)\n",
    "\n",
    "plt.legend(fontsize=16)\n",
    "ax.set_title('Variability of the Static Embedding')\n",
    "ax.set_ylabel('Standard Deviation')\n",
    "ax.set_xlabel('Neuron')\n",
    "\n",
    "for item in ([ax.title, ax.xaxis.label, ax.yaxis.label] # + ax.get_xticklabels()\n",
    "              + ax.get_yticklabels()):\n",
    "    item.set_fontsize(20)"
   ]
  },
  {
   "cell_type": "markdown",
   "metadata": {},
   "source": [
    "### Remove the Non-Varying neurons"
   ]
  },
  {
   "cell_type": "code",
   "execution_count": 157,
   "metadata": {},
   "outputs": [
    {
     "data": {
      "text/plain": [
       "Text(0, 0.5, 'Activation')"
      ]
     },
     "execution_count": 157,
     "metadata": {},
     "output_type": "execute_result"
    },
    {
     "data": {
      "image/png": "[encoded data removed]",
      "text/plain": [
       "<Figure size 864x360 with 2 Axes>"
      ]
     },
     "metadata": {
      "needs_background": "light"
     },
     "output_type": "display_data"
    }
   ],
   "source": [
    "fig, ax = plt.subplots(figsize=(12,5))\n",
    "img = ax.pcolor(remove_constants.T, cmap='plasma')\n",
    "ax.set_xlabel(\"Pixels\")\n",
    "ax.set_ylabel(\"Input gate neuron\")\n",
    "ax.set_title(\"Input gate activations\")\n",
    "cbar = plt.colorbar(img, ax=ax)\n",
    "cbar.ax.set_ylabel(\"Activation\")"
   ]
  },
  {
   "cell_type": "markdown",
   "metadata": {},
   "source": [
    "### Explore how these activations vary with inputs"
   ]
  },
  {
   "cell_type": "code",
   "execution_count": 187,
   "metadata": {},
   "outputs": [],
   "source": [
    "from sklearn.cluster import KMeans"
   ]
  },
  {
   "cell_type": "code",
   "execution_count": 322,
   "metadata": {},
   "outputs": [],
   "source": [
    "# Taken directly from Kratzert et al (2019) \n",
    "# https://github.com/kratzert/ealstm_regional_modeling/blob/master/papercode/clusterutils.py\n",
    "from collections import defaultdict\n",
    "\n",
    "ks = [4, 5]\n",
    "clusters = {k: {} for k in ks}\n",
    "for k in ks:\n",
    "    clusterer = KMeans(n_clusters=k, random_state=0, init='k-means++',\n",
    "                       n_init=200).fit(embedding)\n",
    "\n",
    "    for pixel in range(embedding.shape[0]):\n",
    "        emb = embedding[pixel, :]\n",
    "        clusters[k][pixel] = clusterer.predict(emb.reshape(1, -1))[0]"
   ]
  },
  {
   "cell_type": "code",
   "execution_count": 210,
   "metadata": {},
   "outputs": [
    {
     "data": {
      "text/plain": [
       "array([33.75, 34.  , 34.25, ..., 38.5 , 38.75, 39.  ], dtype=float32)"
      ]
     },
     "execution_count": 210,
     "metadata": {},
     "output_type": "execute_result"
    }
   ],
   "source": [
    "np.array([v for v in clusters[5].values()]).shape"
   ]
  },
  {
   "cell_type": "code",
   "execution_count": 326,
   "metadata": {},
   "outputs": [],
   "source": [
    "latitudes = latlons_data[:, 0]\n",
    "longitudes = latlons_data[:, 1]\n",
    "pixels = latlons\n",
    "\n",
    "out = []\n",
    "for k in ks:\n",
    "    cluster = np.array([v for v in clusters[k].values()])\n",
    "    coords = {'pixel': pixels}\n",
    "    dims = ['pixel']\n",
    "    cluster_ds = xr.Dataset({f'cluster_{k}': (dims, cluster), 'lat': (dims, latitudes), 'lon': (dims, longitudes),})\n",
    "    out.append(cluster_ds)\n",
    "\n",
    "cluster_ds = xr.auto_combine(out)\n",
    "cluster_ds = cluster_ds.to_dataframe().set_index(['lat','lon']).to_xarray()"
   ]
  },
  {
   "cell_type": "code",
   "execution_count": 327,
   "metadata": {},
   "outputs": [
    {
     "data": {
      "image/png": "[encoded data removed]",
      "text/plain": [
       "<Figure size 864x576 with 2 Axes>"
      ]
     },
     "metadata": {
      "needs_background": "light"
     },
     "output_type": "display_data"
    },
    {
     "data": {
      "image/png": "[encoded data removed]",
      "text/plain": [
       "<Figure size 864x576 with 2 Axes>"
      ]
     },
     "metadata": {
      "needs_background": "light"
     },
     "output_type": "display_data"
    }
   ],
   "source": [
    "for k in ks:\n",
    "    fig, ax = plt.subplots(figsize=(12,8))\n",
    "    cluster_ds[f'cluster_{k}'].plot(ax=ax)\n",
    "    ax.set_title(f'Output of Static Embedding Clustering [k={k}]');\n",
    "\n",
    "    for item in ([ax.title, ax.xaxis.label, ax.yaxis.label]): # + ax.get_xticklabels() + ax.get_yticklabels()):\n",
    "        item.set_fontsize(20)"
   ]
  },
  {
   "cell_type": "markdown",
   "metadata": {},
   "source": [
    "# Get Morris Gradients"
   ]
  },
  {
   "cell_type": "code",
   "execution_count": 55,
   "metadata": {},
   "outputs": [
    {
     "data": {
      "text/plain": [
       "\u001b[0;31mSignature:\u001b[0m\n",
       "\u001b[0mealstm\u001b[0m\u001b[0;34m.\u001b[0m\u001b[0mget_dataloader\u001b[0m\u001b[0;34m(\u001b[0m\u001b[0;34m\u001b[0m\n",
       "\u001b[0;34m\u001b[0m    \u001b[0mmode\u001b[0m\u001b[0;34m:\u001b[0m \u001b[0mstr\u001b[0m\u001b[0;34m,\u001b[0m\u001b[0;34m\u001b[0m\n",
       "\u001b[0;34m\u001b[0m    \u001b[0mto_tensor\u001b[0m\u001b[0;34m:\u001b[0m \u001b[0mbool\u001b[0m \u001b[0;34m=\u001b[0m \u001b[0;32mFalse\u001b[0m\u001b[0;34m,\u001b[0m\u001b[0;34m\u001b[0m\n",
       "\u001b[0;34m\u001b[0m    \u001b[0mshuffle_data\u001b[0m\u001b[0;34m:\u001b[0m \u001b[0mbool\u001b[0m \u001b[0;34m=\u001b[0m \u001b[0;32mFalse\u001b[0m\u001b[0;34m,\u001b[0m\u001b[0;34m\u001b[0m\n",
       "\u001b[0;34m\u001b[0m    \u001b[0;34m**\u001b[0m\u001b[0mkwargs\u001b[0m\u001b[0;34m,\u001b[0m\u001b[0;34m\u001b[0m\n",
       "\u001b[0;34m\u001b[0m\u001b[0;34m)\u001b[0m \u001b[0;34m->\u001b[0m \u001b[0msrc\u001b[0m\u001b[0;34m.\u001b[0m\u001b[0mmodels\u001b[0m\u001b[0;34m.\u001b[0m\u001b[0mdata\u001b[0m\u001b[0;34m.\u001b[0m\u001b[0mDataLoader\u001b[0m\u001b[0;34m\u001b[0m\u001b[0m\n",
       "\u001b[0;31mDocstring:\u001b[0m Return the correct dataloader for this model\n",
       "\u001b[0;31mFile:\u001b[0m      ~/github/ml_drought/src/models/base.py\n",
       "\u001b[0;31mType:\u001b[0m      method\n"
      ]
     },
     "metadata": {},
     "output_type": "display_data"
    }
   ],
   "source": [
    "?ealstm.get_dataloader"
   ]
  },
  {
   "cell_type": "code",
   "execution_count": 107,
   "metadata": {},
   "outputs": [
    {
     "name": "stdout",
     "output_type": "stream",
     "text": [
      "/Volumes/Lees_Extend/data/ecmwf_sowc/data/features/one_month_forecast/train/1985_1 returns no values. Skipping\n",
      "/Volumes/Lees_Extend/data/ecmwf_sowc/data/features/one_month_forecast/train/1985_2 returns no values. Skipping\n",
      "/Volumes/Lees_Extend/data/ecmwf_sowc/data/features/one_month_forecast/train/1986_1 returns no values. Skipping\n",
      "/Volumes/Lees_Extend/data/ecmwf_sowc/data/features/one_month_forecast/train/1986_2 returns no values. Skipping\n",
      "/Volumes/Lees_Extend/data/ecmwf_sowc/data/features/one_month_forecast/train/1994_10 returns no values. Skipping\n",
      "/Volumes/Lees_Extend/data/ecmwf_sowc/data/features/one_month_forecast/train/1994_11 returns no values. Skipping\n",
      "/Volumes/Lees_Extend/data/ecmwf_sowc/data/features/one_month_forecast/train/1994_12 returns no values. Skipping\n",
      "/Volumes/Lees_Extend/data/ecmwf_sowc/data/features/one_month_forecast/train/1995_1 returns no values. Skipping\n",
      "/Volumes/Lees_Extend/data/ecmwf_sowc/data/features/one_month_forecast/train/1995_10 returns no values. Skipping\n",
      "/Volumes/Lees_Extend/data/ecmwf_sowc/data/features/one_month_forecast/train/1995_11 returns no values. Skipping\n",
      "/Volumes/Lees_Extend/data/ecmwf_sowc/data/features/one_month_forecast/train/1995_12 returns no values. Skipping\n",
      "/Volumes/Lees_Extend/data/ecmwf_sowc/data/features/one_month_forecast/train/1995_2 returns no values. Skipping\n",
      "/Volumes/Lees_Extend/data/ecmwf_sowc/data/features/one_month_forecast/train/1995_3 returns no values. Skipping\n",
      "/Volumes/Lees_Extend/data/ecmwf_sowc/data/features/one_month_forecast/train/2004_4 returns no values. Skipping\n",
      "/Volumes/Lees_Extend/data/ecmwf_sowc/data/features/one_month_forecast/train/2004_5 returns no values. Skipping\n",
      "/Volumes/Lees_Extend/data/ecmwf_sowc/data/features/one_month_forecast/train/2005_4 returns no values. Skipping\n",
      "/Volumes/Lees_Extend/data/ecmwf_sowc/data/features/one_month_forecast/train/2005_5 returns no values. Skipping\n"
     ]
    }
   ],
   "source": [
    "ealstm.ignore_vars =[v for v in ealstm.ignore_vars if v not in ['VCI3M', 'modis_ndvi']]\n",
    "dl = ealstm.get_dataloader('train')\n",
    "x = [x for x in dl]"
   ]
  },
  {
   "cell_type": "code",
   "execution_count": 118,
   "metadata": {},
   "outputs": [
    {
     "name": "stdout",
     "output_type": "stream",
     "text": [
      "[[ 1.4883708  -0.74074964]\n",
      " [ 1.4883708  -0.70478326]\n",
      " [ 1.4883708  -0.64429435]\n",
      " [ 1.4883708   0.22707301]\n",
      " [ 1.4883708   0.06358946]\n",
      " [ 1.4883708   0.21562916]\n",
      " [ 1.4883708   0.65213026]\n",
      " [ 1.4883708   0.55567496]\n",
      " [ 1.4883708  -0.22741128]\n",
      " [ 1.4883708  -0.69660908]]\n",
      "[[ 1.4883708  -0.74074964]\n",
      " [ 1.4883708  -0.70478326]\n",
      " [ 1.4883708  -0.64429435]\n",
      " [ 1.4883708   0.22707301]\n",
      " [ 1.4883708   0.06358946]\n",
      " [ 1.4883708   0.21562916]\n",
      " [ 1.4883708   0.65213026]\n",
      " [ 1.4883708   0.55567496]\n",
      " [ 1.4883708  -0.22741128]\n",
      " [ 1.4883708  -0.69660908]]\n"
     ]
    }
   ],
   "source": [
    "print(x[0][0][5][:10])\n",
    "print(x[1][0][5][:10])"
   ]
  },
  {
   "cell_type": "code",
   "execution_count": null,
   "metadata": {},
   "outputs": [],
   "source": [
    "test_arrays_loader = ealstm.get_dataloader(\n",
    "                mode=\"train\", batch_file_size=1, to_tensor=True\n",
    ")\n",
    "_, val = list(next(iter(test_arrays_loader)).items())[0]\n",
    "var_names = val.var_names\n",
    "x = val.x"
   ]
  },
  {
   "cell_type": "code",
   "execution_count": 65,
   "metadata": {},
   "outputs": [
    {
     "data": {
      "text/plain": [
       "\u001b[0;31mSignature:\u001b[0m \u001b[0mealstm\u001b[0m\u001b[0;34m.\u001b[0m\u001b[0m_get_morris_explanations\u001b[0m\u001b[0;34m(\u001b[0m\u001b[0mx\u001b[0m\u001b[0;34m:\u001b[0m \u001b[0msrc\u001b[0m\u001b[0;34m.\u001b[0m\u001b[0mmodels\u001b[0m\u001b[0;34m.\u001b[0m\u001b[0mdata\u001b[0m\u001b[0;34m.\u001b[0m\u001b[0mTrainData\u001b[0m\u001b[0;34m)\u001b[0m \u001b[0;34m->\u001b[0m \u001b[0mDict\u001b[0m\u001b[0;34m[\u001b[0m\u001b[0mstr\u001b[0m\u001b[0;34m,\u001b[0m \u001b[0mnumpy\u001b[0m\u001b[0;34m.\u001b[0m\u001b[0mndarray\u001b[0m\u001b[0;34m]\u001b[0m\u001b[0;34m\u001b[0m\u001b[0m\n",
       "\u001b[0;31mDocstring:\u001b[0m\n",
       "https://github.com/kratzert/ealstm_regional_modeling/blob/master/papercode/morris.py\n",
       "\n",
       "Will return a train data object with the Morris gradients of the inputs\n",
       "\u001b[0;31mFile:\u001b[0m      ~/github/ml_drought/src/models/neural_networks/base.py\n",
       "\u001b[0;31mType:\u001b[0m      method\n"
      ]
     },
     "metadata": {},
     "output_type": "display_data"
    }
   ],
   "source": [
    "?ealstm._get_morris_explanations"
   ]
  },
  {
   "cell_type": "code",
   "execution_count": 67,
   "metadata": {},
   "outputs": [
    {
     "ename": "TypeError",
     "evalue": "__init__() got an unexpected keyword argument 'shuffle'",
     "output_type": "error",
     "traceback": [
      "\u001b[0;31m---------------------------------------------------------------------------\u001b[0m",
      "\u001b[0;31mTypeError\u001b[0m                                 Traceback (most recent call last)",
      "\u001b[0;32m<ipython-input-67-1fc08899f944>\u001b[0m in \u001b[0;36m<module>\u001b[0;34m\u001b[0m\n\u001b[0;32m----> 1\u001b[0;31m \u001b[0mealstm\u001b[0m\u001b[0;34m.\u001b[0m\u001b[0mexplain\u001b[0m\u001b[0;34m(\u001b[0m\u001b[0mmethod\u001b[0m\u001b[0;34m=\u001b[0m\u001b[0;34m'morris'\u001b[0m\u001b[0;34m)\u001b[0m\u001b[0;34m\u001b[0m\u001b[0m\n\u001b[0m",
      "\u001b[0;32m~/github/ml_drought/src/models/neural_networks/base.py\u001b[0m in \u001b[0;36mexplain\u001b[0;34m(self, x, var_names, save_explanations, background_size, start_idx, num_inputs, method)\u001b[0m\n\u001b[1;32m    375\u001b[0m             \u001b[0;31m# if no input is passed to explain, take 10 values and explain them\u001b[0m\u001b[0;34m\u001b[0m\u001b[0;34m\u001b[0m\u001b[0m\n\u001b[1;32m    376\u001b[0m             test_arrays_loader = self.get_dataloader(\n\u001b[0;32m--> 377\u001b[0;31m                 \u001b[0mmode\u001b[0m\u001b[0;34m=\u001b[0m\u001b[0;34m\"test\"\u001b[0m\u001b[0;34m,\u001b[0m \u001b[0mshuffle\u001b[0m\u001b[0;34m=\u001b[0m\u001b[0;32mFalse\u001b[0m\u001b[0;34m,\u001b[0m \u001b[0mbatch_file_size\u001b[0m\u001b[0;34m=\u001b[0m\u001b[0;36m1\u001b[0m\u001b[0;34m,\u001b[0m \u001b[0mto_tensor\u001b[0m\u001b[0;34m=\u001b[0m\u001b[0;32mTrue\u001b[0m\u001b[0;34m\u001b[0m\u001b[0m\n\u001b[0m\u001b[1;32m    378\u001b[0m             )\n\u001b[1;32m    379\u001b[0m             \u001b[0m_\u001b[0m\u001b[0;34m,\u001b[0m \u001b[0mval\u001b[0m \u001b[0;34m=\u001b[0m \u001b[0mlist\u001b[0m\u001b[0;34m(\u001b[0m\u001b[0mnext\u001b[0m\u001b[0;34m(\u001b[0m\u001b[0miter\u001b[0m\u001b[0;34m(\u001b[0m\u001b[0mtest_arrays_loader\u001b[0m\u001b[0;34m)\u001b[0m\u001b[0;34m)\u001b[0m\u001b[0;34m.\u001b[0m\u001b[0mitems\u001b[0m\u001b[0;34m(\u001b[0m\u001b[0;34m)\u001b[0m\u001b[0;34m)\u001b[0m\u001b[0;34m[\u001b[0m\u001b[0;36m0\u001b[0m\u001b[0;34m]\u001b[0m\u001b[0;34m\u001b[0m\u001b[0m\n",
      "\u001b[0;32m~/github/ml_drought/src/models/base.py\u001b[0m in \u001b[0;36mget_dataloader\u001b[0;34m(self, mode, to_tensor, shuffle_data, **kwargs)\u001b[0m\n\u001b[1;32m    367\u001b[0m             \u001b[0mdefault_args\u001b[0m\u001b[0;34m[\u001b[0m\u001b[0mkey\u001b[0m\u001b[0;34m]\u001b[0m \u001b[0;34m=\u001b[0m \u001b[0mval\u001b[0m\u001b[0;34m\u001b[0m\u001b[0m\n\u001b[1;32m    368\u001b[0m \u001b[0;34m\u001b[0m\u001b[0m\n\u001b[0;32m--> 369\u001b[0;31m         \u001b[0mdl\u001b[0m \u001b[0;34m=\u001b[0m \u001b[0mDataLoader\u001b[0m\u001b[0;34m(\u001b[0m\u001b[0;34m**\u001b[0m\u001b[0mdefault_args\u001b[0m\u001b[0;34m)\u001b[0m\u001b[0;34m\u001b[0m\u001b[0m\n\u001b[0m\u001b[1;32m    370\u001b[0m \u001b[0;34m\u001b[0m\u001b[0m\n\u001b[1;32m    371\u001b[0m         \u001b[0;32mif\u001b[0m \u001b[0;34m(\u001b[0m\u001b[0mself\u001b[0m\u001b[0;34m.\u001b[0m\u001b[0mstatic\u001b[0m \u001b[0;34m==\u001b[0m \u001b[0;34m\"embeddings\"\u001b[0m\u001b[0;34m)\u001b[0m \u001b[0;32mand\u001b[0m \u001b[0;34m(\u001b[0m\u001b[0mself\u001b[0m\u001b[0;34m.\u001b[0m\u001b[0mnum_locations\u001b[0m \u001b[0;32mis\u001b[0m \u001b[0;32mNone\u001b[0m\u001b[0;34m)\u001b[0m\u001b[0;34m:\u001b[0m\u001b[0;34m\u001b[0m\u001b[0m\n",
      "\u001b[0;31mTypeError\u001b[0m: __init__() got an unexpected keyword argument 'shuffle'"
     ]
    }
   ],
   "source": [
    "ealstm.explain(method='morris')"
   ]
  },
  {
   "cell_type": "code",
   "execution_count": null,
   "metadata": {},
   "outputs": [],
   "source": []
  }
 ],
 "metadata": {
  "kernelspec": {
   "display_name": "Python 3",
   "language": "python",
   "name": "python3"
  },
  "language_info": {
   "codemirror_mode": {
    "name": "ipython",
    "version": 3
   },
   "file_extension": ".py",
   "mimetype": "text/x-python",
   "name": "python",
   "nbconvert_exporter": "python",
   "pygments_lexer": "ipython3",
   "version": "3.7.0"
  }
 },
 "nbformat": 4,
 "nbformat_minor": 2
}
