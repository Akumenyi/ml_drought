{
 "cells": [
  {
   "cell_type": "code",
   "execution_count": 32,
   "metadata": {},
   "outputs": [
    {
     "name": "stdout",
     "output_type": "stream",
     "text": [
      "The autoreload extension is already loaded. To reload it, use:\n",
      "  %reload_ext autoreload\n"
     ]
    }
   ],
   "source": [
    "from pathlib import Path\n",
    "import os\n",
    "import warnings\n",
    "import sys\n",
    "\n",
    "%load_ext autoreload\n",
    "%autoreload\n",
    "\n",
    "# ignore warnings for now ...\n",
    "warnings.filterwarnings('ignore')\n",
    "\n",
    "os.chdir('/Users/tommylees/github/ml_drought')"
   ]
  },
  {
   "cell_type": "code",
   "execution_count": 55,
   "metadata": {},
   "outputs": [],
   "source": [
    "import xarray as xr\n",
    "import pandas as pd\n",
    "import numpy as np\n",
    "import matplotlib.pyplot as plt"
   ]
  },
  {
   "cell_type": "code",
   "execution_count": 56,
   "metadata": {},
   "outputs": [],
   "source": [
    "from src.exporters import ERA5Exporter, VHIExporter\n",
    "from src.preprocess import ERA5MonthlyMeanPreprocessor, VHIPreprocessor\n",
    "from src.engineer import Engineer\n",
    "from src.models import LinearRegression, RecurrentNetwork"
   ]
  },
  {
   "cell_type": "markdown",
   "metadata": {},
   "source": [
    "# Exporters"
   ]
  },
  {
   "cell_type": "code",
   "execution_count": 52,
   "metadata": {},
   "outputs": [],
   "source": [
    "data_dir = Path('data')\n",
    "data_dir = Path('/Volumes/Lees_Extend/data/ecmwf_sowc/data2')\n",
    "assert data_dir.exists()\n",
    "\n",
    "e_exporter = ERA5Exporter(data_dir)"
   ]
  },
  {
   "cell_type": "code",
   "execution_count": 54,
   "metadata": {},
   "outputs": [],
   "source": [
    "years = [2010, 2011]\n",
    "\n",
    "for variable in ['2m_temperature', 'total_precipitation', 'evaporation']:\n",
    "    e_exporter.export(variable=variable, granularity=\"monthly\", selection_request={'year': years}, show_api_request=False)"
   ]
  },
  {
   "cell_type": "code",
   "execution_count": 62,
   "metadata": {},
   "outputs": [
    {
     "data": {
      "text/plain": [
       "<matplotlib.collections.QuadMesh at 0x126931f28>"
      ]
     },
     "execution_count": 62,
     "metadata": {},
     "output_type": "execute_result"
    },
    {
     "data": {
      "image/png": "[encoded data removed]",
      "text/plain": [
       "<Figure size 432x288 with 2 Axes>"
      ]
     },
     "metadata": {
      "needs_background": "light"
     },
     "output_type": "display_data"
    }
   ],
   "source": [
    "raw_data = xr.open_dataset(data_dir / 'raw' / 'reanalysis-era5-single-levels-monthly-means/2m_temperature/2010_2011' / '01_12.nc')\n",
    "raw_data.mean(dim='time').t2m.plot()"
   ]
  },
  {
   "cell_type": "markdown",
   "metadata": {},
   "source": [
    "# Preprocessors"
   ]
  },
  {
   "cell_type": "code",
   "execution_count": 57,
   "metadata": {},
   "outputs": [
    {
     "name": "stdout",
     "output_type": "stream",
     "text": [
      "Reading data from /Volumes/Lees_Extend/data/ecmwf_sowc/data2/raw. Writing to /Volumes/Lees_Extend/data/ecmwf_sowc/data2/interim/reanalysis-era5-single-levels-monthly-means_interim\n",
      "Processing 01_12.nc\n",
      "selecting region: kenya from ds\n",
      "Saving to /Volumes/Lees_Extend/data/ecmwf_sowc/data2/interim/reanalysis-era5-single-levels-monthly-means_interim/2010_01_12_2m_temperature_kenya.nc\n",
      "Done for ERA5 01_12.nc\n",
      "Processing 01_12.nc\n",
      "selecting region: kenya from ds\n",
      "Saving to /Volumes/Lees_Extend/data/ecmwf_sowc/data2/interim/reanalysis-era5-single-levels-monthly-means_interim/2010_2011_01_12_2m_temperature_kenya.nc\n",
      "Done for ERA5 01_12.nc\n",
      "Processing 01_12.nc\n",
      "selecting region: kenya from ds\n",
      "Saving to /Volumes/Lees_Extend/data/ecmwf_sowc/data2/interim/reanalysis-era5-single-levels-monthly-means_interim/2010_01_12_evaporation_kenya.nc\n",
      "Done for ERA5 01_12.nc\n",
      "Processing 01_12.nc\n",
      "selecting region: kenya from ds\n",
      "Saving to /Volumes/Lees_Extend/data/ecmwf_sowc/data2/interim/reanalysis-era5-single-levels-monthly-means_interim/2010_2011_01_12_evaporation_kenya.nc\n",
      "Done for ERA5 01_12.nc\n",
      "Processing 01_12.nc\n",
      "selecting region: kenya from ds\n",
      "Saving to /Volumes/Lees_Extend/data/ecmwf_sowc/data2/interim/reanalysis-era5-single-levels-monthly-means_interim/2010_01_12_total_precipitation_kenya.nc\n",
      "Done for ERA5 01_12.nc\n",
      "Processing 01_12.nc\n",
      "selecting region: kenya from ds\n",
      "Saving to /Volumes/Lees_Extend/data/ecmwf_sowc/data2/interim/reanalysis-era5-single-levels-monthly-means_interim/2010_2011_01_12_total_precipitation_kenya.nc\n",
      "Done for ERA5 01_12.nc\n",
      "\n",
      "**** /Volumes/Lees_Extend/data/ecmwf_sowc/data2/interim/reanalysis-era5-single-levels-monthly-means_preprocessed/data_kenya.nc Created! ****\n",
      "\n",
      "[]\n"
     ]
    }
   ],
   "source": [
    "e = ERA5MonthlyMeanPreprocessor(data_dir)\n",
    "e.preprocess()"
   ]
  },
  {
   "cell_type": "code",
   "execution_count": 63,
   "metadata": {},
   "outputs": [
    {
     "data": {
      "text/plain": [
       "<xarray.Dataset>\n",
       "Dimensions:  (lat: 45, lon: 35, time: 24)\n",
       "Coordinates:\n",
       "  * time     (time) datetime64[ns] 2010-01-31 2010-02-28 ... 2011-12-31\n",
       "  * lon      (lon) float32 33.75 34.0 34.25 34.5 34.75 ... 41.5 41.75 42.0 42.25\n",
       "  * lat      (lat) float32 6.0 5.75 5.5 5.25 5.0 ... -4.0 -4.25 -4.5 -4.75 -5.0\n",
       "Data variables:\n",
       "    e        (time, lat, lon) float32 ...\n",
       "    t2m      (time, lat, lon) float32 ...\n",
       "    tp       (time, lat, lon) float32 ..."
      ]
     },
     "execution_count": 63,
     "metadata": {},
     "output_type": "execute_result"
    }
   ],
   "source": [
    "processed_data = xr.open_dataset(data_dir / 'interim/reanalysis-era5-single-levels-monthly-means_preprocessed/data_kenya.nc')\n",
    "processed_data"
   ]
  },
  {
   "cell_type": "markdown",
   "metadata": {},
   "source": [
    "# Engineer"
   ]
  },
  {
   "cell_type": "code",
   "execution_count": 68,
   "metadata": {},
   "outputs": [
    {
     "name": "stdout",
     "output_type": "stream",
     "text": [
      "Processing /Volumes/Lees_Extend/data/ecmwf_sowc/data2/interim/reanalysis-era5-single-levels-monthly-means_preprocessed/data_kenya.nc\n",
      "Generating data for year: 2011, target month: 1\n",
      "Max date: 2011-01-31, max input date: 2010-12-31, min input date: 2010-09-30\n",
      "Saving data to /Volumes/Lees_Extend/data/ecmwf_sowc/data2/features/one_month_forecast/test/2011_1/x.nc\n",
      "Saving data to /Volumes/Lees_Extend/data/ecmwf_sowc/data2/features/one_month_forecast/test/2011_1/y.nc\n",
      "Generating data for year: 2011, target month: 2\n",
      "Max date: 2011-02-28, max input date: 2011-01-31, min input date: 2010-10-31\n",
      "Saving data to /Volumes/Lees_Extend/data/ecmwf_sowc/data2/features/one_month_forecast/test/2011_2/x.nc\n",
      "Saving data to /Volumes/Lees_Extend/data/ecmwf_sowc/data2/features/one_month_forecast/test/2011_2/y.nc\n",
      "Generating data for year: 2011, target month: 3\n",
      "Max date: 2011-03-31, max input date: 2011-02-28, min input date: 2010-11-30\n",
      "Saving data to /Volumes/Lees_Extend/data/ecmwf_sowc/data2/features/one_month_forecast/test/2011_3/x.nc\n",
      "Saving data to /Volumes/Lees_Extend/data/ecmwf_sowc/data2/features/one_month_forecast/test/2011_3/y.nc\n",
      "Generating data for year: 2011, target month: 4\n",
      "Max date: 2011-04-30, max input date: 2011-03-31, min input date: 2010-12-31\n",
      "Saving data to /Volumes/Lees_Extend/data/ecmwf_sowc/data2/features/one_month_forecast/test/2011_4/x.nc\n",
      "Saving data to /Volumes/Lees_Extend/data/ecmwf_sowc/data2/features/one_month_forecast/test/2011_4/y.nc\n",
      "Generating data for year: 2011, target month: 5\n",
      "Max date: 2011-05-31, max input date: 2011-04-30, min input date: 2011-01-31\n",
      "Saving data to /Volumes/Lees_Extend/data/ecmwf_sowc/data2/features/one_month_forecast/test/2011_5/x.nc\n",
      "Saving data to /Volumes/Lees_Extend/data/ecmwf_sowc/data2/features/one_month_forecast/test/2011_5/y.nc\n",
      "Generating data for year: 2011, target month: 6\n",
      "Max date: 2011-06-30, max input date: 2011-05-31, min input date: 2011-02-28\n",
      "Saving data to /Volumes/Lees_Extend/data/ecmwf_sowc/data2/features/one_month_forecast/test/2011_6/x.nc\n",
      "Saving data to /Volumes/Lees_Extend/data/ecmwf_sowc/data2/features/one_month_forecast/test/2011_6/y.nc\n",
      "Generating data for year: 2011, target month: 7\n",
      "Max date: 2011-07-31, max input date: 2011-06-30, min input date: 2011-03-31\n",
      "Saving data to /Volumes/Lees_Extend/data/ecmwf_sowc/data2/features/one_month_forecast/test/2011_7/x.nc\n",
      "Saving data to /Volumes/Lees_Extend/data/ecmwf_sowc/data2/features/one_month_forecast/test/2011_7/y.nc\n",
      "Generating data for year: 2011, target month: 8\n",
      "Max date: 2011-08-31, max input date: 2011-07-31, min input date: 2011-04-30\n",
      "Saving data to /Volumes/Lees_Extend/data/ecmwf_sowc/data2/features/one_month_forecast/test/2011_8/x.nc\n",
      "Saving data to /Volumes/Lees_Extend/data/ecmwf_sowc/data2/features/one_month_forecast/test/2011_8/y.nc\n",
      "Generating data for year: 2011, target month: 9\n",
      "Max date: 2011-09-30, max input date: 2011-08-31, min input date: 2011-05-31\n",
      "Saving data to /Volumes/Lees_Extend/data/ecmwf_sowc/data2/features/one_month_forecast/test/2011_9/x.nc\n",
      "Saving data to /Volumes/Lees_Extend/data/ecmwf_sowc/data2/features/one_month_forecast/test/2011_9/y.nc\n",
      "Generating data for year: 2011, target month: 10\n",
      "Max date: 2011-10-31, max input date: 2011-09-30, min input date: 2011-06-30\n",
      "Saving data to /Volumes/Lees_Extend/data/ecmwf_sowc/data2/features/one_month_forecast/test/2011_10/x.nc\n",
      "Saving data to /Volumes/Lees_Extend/data/ecmwf_sowc/data2/features/one_month_forecast/test/2011_10/y.nc\n",
      "Generating data for year: 2011, target month: 11\n",
      "Max date: 2011-11-30, max input date: 2011-10-31, min input date: 2011-07-31\n",
      "Saving data to /Volumes/Lees_Extend/data/ecmwf_sowc/data2/features/one_month_forecast/test/2011_11/x.nc\n",
      "Saving data to /Volumes/Lees_Extend/data/ecmwf_sowc/data2/features/one_month_forecast/test/2011_11/y.nc\n",
      "Generating data for year: 2011, target month: 12\n",
      "Max date: 2011-12-31, max input date: 2011-11-30, min input date: 2011-08-31\n",
      "Saving data to /Volumes/Lees_Extend/data/ecmwf_sowc/data2/features/one_month_forecast/test/2011_12/x.nc\n",
      "Saving data to /Volumes/Lees_Extend/data/ecmwf_sowc/data2/features/one_month_forecast/test/2011_12/y.nc\n",
      "Generating data for year: 2010, target month: 12\n",
      "Max date: 2010-12-31, max input date: 2010-11-30, min input date: 2010-08-31\n",
      "Saving data to /Volumes/Lees_Extend/data/ecmwf_sowc/data2/features/one_month_forecast/train/2010_12/x.nc\n",
      "Saving data to /Volumes/Lees_Extend/data/ecmwf_sowc/data2/features/one_month_forecast/train/2010_12/y.nc\n",
      "Generating data for year: 2010, target month: 11\n",
      "Max date: 2010-11-30, max input date: 2010-10-31, min input date: 2010-07-31\n",
      "Saving data to /Volumes/Lees_Extend/data/ecmwf_sowc/data2/features/one_month_forecast/train/2010_11/x.nc\n",
      "Saving data to /Volumes/Lees_Extend/data/ecmwf_sowc/data2/features/one_month_forecast/train/2010_11/y.nc\n",
      "Generating data for year: 2010, target month: 10\n",
      "Max date: 2010-10-31, max input date: 2010-09-30, min input date: 2010-06-30\n",
      "Saving data to /Volumes/Lees_Extend/data/ecmwf_sowc/data2/features/one_month_forecast/train/2010_10/x.nc\n",
      "Saving data to /Volumes/Lees_Extend/data/ecmwf_sowc/data2/features/one_month_forecast/train/2010_10/y.nc\n",
      "Generating data for year: 2010, target month: 9\n",
      "Max date: 2010-09-30, max input date: 2010-08-31, min input date: 2010-05-31\n",
      "Saving data to /Volumes/Lees_Extend/data/ecmwf_sowc/data2/features/one_month_forecast/train/2010_9/x.nc\n",
      "Saving data to /Volumes/Lees_Extend/data/ecmwf_sowc/data2/features/one_month_forecast/train/2010_9/y.nc\n",
      "Generating data for year: 2010, target month: 8\n",
      "Max date: 2010-08-31, max input date: 2010-07-31, min input date: 2010-04-30\n",
      "Saving data to /Volumes/Lees_Extend/data/ecmwf_sowc/data2/features/one_month_forecast/train/2010_8/x.nc\n",
      "Saving data to /Volumes/Lees_Extend/data/ecmwf_sowc/data2/features/one_month_forecast/train/2010_8/y.nc\n",
      "Generating data for year: 2010, target month: 7\n",
      "Max date: 2010-07-31, max input date: 2010-06-30, min input date: 2010-03-31\n",
      "Saving data to /Volumes/Lees_Extend/data/ecmwf_sowc/data2/features/one_month_forecast/train/2010_7/x.nc\n",
      "Saving data to /Volumes/Lees_Extend/data/ecmwf_sowc/data2/features/one_month_forecast/train/2010_7/y.nc\n",
      "Generating data for year: 2010, target month: 6\n",
      "Max date: 2010-06-30, max input date: 2010-05-31, min input date: 2010-02-28\n",
      "Saving data to /Volumes/Lees_Extend/data/ecmwf_sowc/data2/features/one_month_forecast/train/2010_6/x.nc\n",
      "Saving data to /Volumes/Lees_Extend/data/ecmwf_sowc/data2/features/one_month_forecast/train/2010_6/y.nc\n",
      "Generating data for year: 2010, target month: 5\n",
      "Max date: 2010-05-31, max input date: 2010-04-30, min input date: 2010-01-31\n",
      "Saving data to /Volumes/Lees_Extend/data/ecmwf_sowc/data2/features/one_month_forecast/train/2010_5/x.nc\n",
      "Saving data to /Volumes/Lees_Extend/data/ecmwf_sowc/data2/features/one_month_forecast/train/2010_5/y.nc\n",
      "Generating data for year: 2010, target month: 4\n",
      "Max date: 2010-04-30, max input date: 2010-03-31, min input date: 2009-12-31\n",
      "Saving data to /Volumes/Lees_Extend/data/ecmwf_sowc/data2/features/one_month_forecast/train/2010_4/x.nc\n",
      "Saving data to /Volumes/Lees_Extend/data/ecmwf_sowc/data2/features/one_month_forecast/train/2010_4/y.nc\n",
      "Generating data for year: 2010, target month: 3\n",
      "Max date: 2010-03-31, max input date: 2010-02-28, min input date: 2009-11-30\n",
      "Wrong number of x values! Got 2 Returning None\n",
      "Generating data for year: 2010, target month: 2\n",
      "Max date: 2010-02-28, max input date: 2010-01-31, min input date: 2009-10-31\n",
      "Wrong number of x values! Got 1 Returning None\n",
      "Generating data for year: 2010, target month: 1\n",
      "Max date: 2010-01-31, max input date: 2009-12-31, min input date: 2009-09-30\n",
      "Wrong number of x values! Got 0 Returning None\n"
     ]
    }
   ],
   "source": [
    "engineer = Engineer(data_dir, process_static=False)\n",
    "engineer.engineer(test_year=2011, target_variable='e', pred_months=3, expected_length=3)"
   ]
  },
  {
   "cell_type": "code",
   "execution_count": 71,
   "metadata": {},
   "outputs": [
    {
     "data": {
      "text/html": [
       "['2011_1', '2011_10', '2011_11', '2011_12', '2011_2', '2011_3', '2011_4', '2011_5', '2011_6', '2011_7', '2011_8', '2011_9']"
      ],
      "text/plain": [
       "['2011_1',\n",
       " '2011_10',\n",
       " '2011_11',\n",
       " '2011_12',\n",
       " '2011_2',\n",
       " '2011_3',\n",
       " '2011_4',\n",
       " '2011_5',\n",
       " '2011_6',\n",
       " '2011_7',\n",
       " '2011_8',\n",
       " '2011_9']"
      ]
     },
     "execution_count": 71,
     "metadata": {},
     "output_type": "execute_result"
    }
   ],
   "source": [
    "[f.name for f in (data_dir / 'features' / 'one_month_forecast' / 'test').iterdir()]"
   ]
  },
  {
   "cell_type": "markdown",
   "metadata": {},
   "source": [
    "# Models"
   ]
  },
  {
   "cell_type": "code",
   "execution_count": 83,
   "metadata": {},
   "outputs": [],
   "source": [
    "rnn = RecurrentNetwork(data_dir, include_static=False)\n",
    "lr = LinearRegression(data_dir, include_static=False)"
   ]
  },
  {
   "cell_type": "code",
   "execution_count": 84,
   "metadata": {},
   "outputs": [
    {
     "name": "stdout",
     "output_type": "stream",
     "text": [
      "Training linear_regression for experiment one_month_forecast\n",
      "8.435938941991433e-06\n",
      "4.252922811054797e-06\n",
      "4.77262839760287e-06\n",
      "2.945667235162429e-06\n",
      "2.2924270936802816e-06\n",
      "4.737922992210149e-06\n",
      "9.497308063034223e-06\n",
      "7.164324284080522e-06\n",
      "1.3638623711269807e-05\n",
      "7.786606944227144e-06\n",
      "8.29728857393483e-06\n",
      "5.579561050800995e-06\n",
      "2.6481699876071494e-06\n",
      "5.977620212763001e-06\n",
      "2.3583773955333233e-06\n",
      "7.184274600172735e-06\n",
      "5.455164630401247e-06\n",
      "2.667688316833873e-06\n",
      "1.1527970110698009e-05\n",
      "8.036898688782692e-06\n",
      "9.951159549929426e-06\n",
      "8.202316165158158e-06\n",
      "1.2764464487702143e-05\n",
      "7.519289703100486e-06\n",
      "2.725911836886895e-06\n",
      "8.165320769050065e-06\n",
      "3.4959158247321686e-06\n",
      "1.5552037473619564e-05\n",
      "2.7701409779225136e-06\n",
      "5.696215782850286e-06\n",
      "6.070142394870923e-06\n",
      "4.595166225539463e-06\n",
      "2.5835622846973395e-06\n",
      "7.470239608353309e-06\n",
      "4.812949374558225e-06\n",
      "2.9038617674114668e-06\n",
      "6.733855365388954e-06\n",
      "3.1601725364471806e-06\n",
      "4.571700000430468e-06\n",
      "1.8366088658886002e-06\n",
      "1.2864827545122854e-05\n",
      "2.4017165014164703e-06\n",
      "3.881282876798894e-06\n",
      "2.769697666888398e-06\n",
      "4.80225517739834e-06\n",
      "5.7928660444718246e-06\n",
      "2.7311043244708233e-06\n",
      "3.93549424043451e-06\n",
      "5.728815700167251e-06\n",
      "1.5650489024693268e-06\n",
      "1.938296522182813e-06\n",
      "1.02055237491288e-06\n",
      "1.1322361052897672e-05\n",
      "7.55261495930787e-06\n",
      "Epoch 1, train RMSE: 0.00\n",
      "RMSE: 0.00243049513988297\n"
     ]
    }
   ],
   "source": [
    "lr.train()\n",
    "lr.evaluate()"
   ]
  },
  {
   "cell_type": "markdown",
   "metadata": {},
   "source": [
    "# Analysis"
   ]
  },
  {
   "cell_type": "code",
   "execution_count": null,
   "metadata": {},
   "outputs": [],
   "source": []
  }
 ],
 "metadata": {
  "kernelspec": {
   "display_name": "Python 3",
   "language": "python",
   "name": "python3"
  },
  "language_info": {
   "codemirror_mode": {
    "name": "ipython",
    "version": 3
   },
   "file_extension": ".py",
   "mimetype": "text/x-python",
   "name": "python",
   "nbconvert_exporter": "python",
   "pygments_lexer": "ipython3",
   "version": "3.7.0"
  }
 },
 "nbformat": 4,
 "nbformat_minor": 2
}
