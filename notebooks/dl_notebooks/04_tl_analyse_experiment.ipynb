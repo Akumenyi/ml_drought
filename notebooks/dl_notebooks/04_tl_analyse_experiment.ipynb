{
 "cells": [
  {
   "cell_type": "markdown",
   "metadata": {},
   "source": [
    "# Analyse the different train/test period experiments"
   ]
  },
  {
   "cell_type": "code",
   "execution_count": 28,
   "metadata": {},
   "outputs": [],
   "source": [
    "# !pip install netcdf4"
   ]
  },
  {
   "cell_type": "code",
   "execution_count": 29,
   "metadata": {},
   "outputs": [],
   "source": [
    "# !conda install -c conda-forge shap==0.30"
   ]
  },
  {
   "cell_type": "code",
   "execution_count": 30,
   "metadata": {},
   "outputs": [],
   "source": [
    "# !conda update matplotlib"
   ]
  },
  {
   "cell_type": "code",
   "execution_count": 31,
   "metadata": {},
   "outputs": [
    {
     "name": "stdout",
     "output_type": "stream",
     "text": [
      "The autoreload extension is already loaded. To reload it, use:\n",
      "  %reload_ext autoreload\n",
      "/home/jovyan/ml_drought\n"
     ]
    }
   ],
   "source": [
    "from pathlib import Path\n",
    "import os\n",
    "import warnings\n",
    "from typing import Tuple, Optional, Union, Dict, List\n",
    "\n",
    "%load_ext autoreload\n",
    "%autoreload\n",
    "\n",
    "# ignore warnings for now ...\n",
    "warnings.filterwarnings('ignore')\n",
    "\n",
    "if Path('.').absolute().parents[1].name == 'ml_drought':\n",
    "    os.chdir(Path('.').absolute().parents[1])\n",
    "\n",
    "!pwd"
   ]
  },
  {
   "cell_type": "code",
   "execution_count": 32,
   "metadata": {},
   "outputs": [],
   "source": [
    "import xarray as xr\n",
    "import pandas as pd\n",
    "import numpy as np\n",
    "import matplotlib.pyplot as plt\n",
    "import pickle\n",
    "\n",
    "data_dir = Path('data/')\n",
    "\n",
    "assert data_dir.exists()"
   ]
  },
  {
   "cell_type": "code",
   "execution_count": 33,
   "metadata": {},
   "outputs": [],
   "source": [
    "import seaborn as sns\n",
    "from src.utils import drop_nans_and_flatten\n",
    "\n",
    "from src.analysis import read_train_data, read_test_data, read_pred_data\n",
    "from src.utils import get_ds_mask"
   ]
  },
  {
   "cell_type": "markdown",
   "metadata": {},
   "source": [
    "# Get all experiment files"
   ]
  },
  {
   "cell_type": "code",
   "execution_count": 360,
   "metadata": {},
   "outputs": [
    {
     "name": "stdout",
     "output_type": "stream",
     "text": [
      "No. Driving Data:  27\n",
      "No. Modelled Data: 27\n",
      "data/features/2020_02_18:161206_one_month_forecast_TRhigh_TEhigh_LEN51\n",
      "data/models/2020_02_18:161206_one_month_forecast_TRhigh_TEhigh_LEN51\n"
     ]
    }
   ],
   "source": [
    "features = [d for d in (data_dir / 'features/').glob('2020*TR*')]\n",
    "features.sort()\n",
    "model_dirs = [d for d in (data_dir / 'models/').glob('2020*TR*')]\n",
    "model_dirs.sort()\n",
    "\n",
    "print(f\"No. Driving Data:  {len(features)}\")\n",
    "print(f\"No. Modelled Data: {len(model_dirs)}\")\n",
    "\n",
    "print(features[0])\n",
    "print(model_dirs[0])"
   ]
  },
  {
   "cell_type": "code",
   "execution_count": 361,
   "metadata": {},
   "outputs": [],
   "source": [
    "# get parameters for experiments\n",
    "test_length = 12\n",
    "pred_timesteps = 3\n",
    "\n",
    "train_hilos = [m.name.split('_')[-3][2:] for m in model_dirs]\n",
    "test_hilos = [m.name.split('_')[-2][2:] for m in model_dirs]\n",
    "train_lengths = [int(m.name.split('_')[-1][3:]) for m in model_dirs]"
   ]
  },
  {
   "cell_type": "code",
   "execution_count": 362,
   "metadata": {},
   "outputs": [
    {
     "name": "stdout",
     "output_type": "stream",
     "text": [
      "[51, 102, 153, 51, 102, 153, 51, 102, 153, 51, 102, 153, 51, 102, 153, 51, 102, 153, 51, 102, 153, 51, 102, 153, 51, 102, 153]\n",
      "[51, 114, 154, 51, 114, 154, 51, 113, 153, 51, 114, 153, 51, 113, 154, 51, 110, 154, 51, 115, 155, 51, 112, 153, 51, 114, 156]\n",
      "[12, 12, 12, 12, 12, 12, 12, 12, 12, 12, 12, 12, 12, 12, 12, 12, 10, 12, 12, 12, 12, 12, 12, 12, 12, 10, 12]\n",
      "[12, 12, 12, 12, 12, 12, 12, 12, 12, 12, 12, 12, 12, 12, 12, 12, 10, 12, 12, 12, 12, 12, 12, 12, 12, 10, 12]\n"
     ]
    }
   ],
   "source": [
    "from pandas.tseries.offsets import MonthEnd\n",
    "\n",
    "# GET TEST TIMES\n",
    "test_times = [\n",
    "    np.array([\n",
    "        pd.to_datetime('-'.join(d.name.split('preds_')[-1].replace('.nc', '').split('_'))) + MonthEnd(1)\n",
    "        for d in (model / 'ealstm').glob('*.nc')\n",
    "    ])\n",
    "    for model in model_dirs\n",
    "]\n",
    "\n",
    "test_times2 = [\n",
    "    np.array([\n",
    "        pd.to_datetime('-'.join(dir_.name.split('_'))) + MonthEnd(1)\n",
    "        for dir_ in (feature / 'test').iterdir() if dir_.name != 'ERROR'\n",
    "    ])\n",
    "    for feature in features\n",
    "]\n",
    "\n",
    "# GET TRAIN TIMES\n",
    "train_times = [\n",
    "    np.array([\n",
    "        pd.to_datetime('-'.join(d.name.split('_'))) + MonthEnd(1)\n",
    "        for d in (feature / 'train').iterdir()\n",
    "    ])\n",
    "    for feature in features\n",
    "]\n",
    "\n",
    "# check no. test timesteps is \n",
    "# assert all([test_length == len(tt) for tt in test_times2])\n",
    "\n",
    "# check no. train timesteps are equivalent\n",
    "assert all([np.isclose(train_lengths[i], len(train_times[i]), atol=15) for i in range(len(train_times))])\n",
    "\n",
    "print(train_lengths)\n",
    "print([len(train_times[i]) for i in range(len(train_times))])\n",
    "\n",
    "# TODO: why is the number of model preds.nc objects different?\n",
    "print([len(test_times[i]) for i in range(len(test_times))])\n",
    "print([len(test_times2[i]) for i in range(len(test_times2))])"
   ]
  },
  {
   "cell_type": "markdown",
   "metadata": {},
   "source": [
    "## Rebuild experiment objects"
   ]
  },
  {
   "cell_type": "code",
   "execution_count": 363,
   "metadata": {},
   "outputs": [],
   "source": [
    "from scripts.experiments.experiment import Experiment"
   ]
  },
  {
   "cell_type": "code",
   "execution_count": 380,
   "metadata": {},
   "outputs": [],
   "source": [
    "sorted_timesteps = pd.date_range('2002-01-01', '2019-01-01', freq='M')\n",
    "all_experiments = {}\n",
    "for (\n",
    "    train_hilo, test_hilo, train_timesteps, test_timesteps, train_length\n",
    ") in zip(train_hilos, test_hilos, train_times, test_times2, train_lengths):\n",
    "    \n",
    "    expt_name = f\"one_month_forecast_TR{train_hilo}_TE{test_hilo}_LEN{train_length}\"\n",
    "    e = Experiment(\n",
    "        train_length=train_length,\n",
    "        train_hilo=train_hilo,\n",
    "        test_hilo=test_hilo,\n",
    "        test_length=12,\n",
    "        sorted_timesteps=sorted_timesteps,\n",
    "        pred_timesteps = 3,\n",
    "    )\n",
    "    e.train_timesteps = train_timesteps\n",
    "    e.test_timesteps = test_timesteps\n",
    "    \n",
    "    all_experiments[expt_name] = e"
   ]
  },
  {
   "cell_type": "code",
   "execution_count": 381,
   "metadata": {},
   "outputs": [
    {
     "name": "stdout",
     "output_type": "stream",
     "text": [
      "one_month_forecast_TRmed_TEhigh_LEN153\n"
     ]
    },
    {
     "data": {
      "text/plain": [
       "<matplotlib.axes._subplots.AxesSubplot at 0x7f77053757d0>"
      ]
     },
     "execution_count": 381,
     "metadata": {},
     "output_type": "execute_result"
    },
    {
     "data": {
      "image/png": "[encoded data removed]",
      "text/plain": [
       "<Figure size 432x288 with 2 Axes>"
      ]
     },
     "metadata": {
      "needs_background": "light"
     },
     "output_type": "display_data"
    }
   ],
   "source": [
    "experiment = [k for k in all_experiments.keys()][11]\n",
    "print(experiment)\n",
    "# print(dir(all_experiments['one_month_forecast_TRhigh_TEhigh_LEN51']))\n",
    "\n",
    "fig, ax = plt.subplots()\n",
    "all_experiments[experiment].plot_experiment_split(ax=ax)\n",
    "# all_experiments[experiment].test_timesteps"
   ]
  },
  {
   "cell_type": "markdown",
   "metadata": {},
   "source": [
    "# Load in the data"
   ]
  },
  {
   "cell_type": "code",
   "execution_count": 53,
   "metadata": {},
   "outputs": [],
   "source": [
    "# Experiment names\n",
    "experiments = [d.name for d in model_dirs]\n",
    "true_data_experiments = [d.name for d in features]\n",
    "\n",
    "TARGET_VAR = 'boku_VCI'\n",
    "\n",
    "# check the experiments are aligned properly\n",
    "assert all(\n",
    "    [\n",
    "        '_'.join(experiments[i].split('_')[3:]) == '_'.join(true_data_experiments[i].split('_')[3:])\n",
    "        for i in range(len(experiments))\n",
    "    ]\n",
    ")"
   ]
  },
  {
   "cell_type": "code",
   "execution_count": 54,
   "metadata": {},
   "outputs": [
    {
     "name": "stdout",
     "output_type": "stream",
     "text": [
      "one_month_forecast_TRhigh_TEhigh_LEN51\n",
      "one_month_forecast_TRhigh_TEhigh_LEN51\n"
     ]
    }
   ],
   "source": [
    "print('_'.join(experiments[0].split('_')[3:]))\n",
    "print('_'.join(true_data_experiments[0].split('_')[3:]))"
   ]
  },
  {
   "cell_type": "code",
   "execution_count": 55,
   "metadata": {},
   "outputs": [],
   "source": [
    "from src.utils import get_ds_mask\n",
    "\n",
    "X_train, _ = read_train_data(data_dir, experiment=true_data_experiments[0])\n",
    "mask = get_ds_mask(X_train.VCI)"
   ]
  },
  {
   "cell_type": "code",
   "execution_count": 59,
   "metadata": {},
   "outputs": [
    {
     "name": "stdout",
     "output_type": "stream",
     "text": [
      "Saving to data/tommy\n",
      "** DONE! **\n"
     ]
    }
   ],
   "source": [
    "import pickle\n",
    "\n",
    "# ONLY RUN IF DATA NOT SAVED!\n",
    "if False:# (data_dir / 'tommy/obs_dict.pkl').exists() and (data_dir / 'tommy/model_dict.pkl').exists():\n",
    "    obs_dict = pickle.load(open(data_dir / 'tommy/obs_dict.pkl', 'rb'))\n",
    "    model_dict = pickle.load(open(data_dir / 'tommy/model_dict.pkl', 'rb'))\n",
    "else:\n",
    "    obs_dict = {}\n",
    "    model_dict = {}\n",
    "\n",
    "    for TRUE_EXPERIMENT, EXPERIMENT in zip(true_data_experiments, experiments):\n",
    "        expt_name = '_'.join(EXPERIMENT.split('_')[3:])\n",
    "        obs_dict[expt_name] = {}\n",
    "        model_dict[expt_name] = {}\n",
    "\n",
    "        # get the observed X, y data\n",
    "        X_train, y_train = read_train_data(data_dir, experiment=TRUE_EXPERIMENT)\n",
    "        X_test, y_test = read_test_data(data_dir, experiment=TRUE_EXPERIMENT)\n",
    "\n",
    "        obs_dict[expt_name]['X_train'] = X_train\n",
    "        obs_dict[expt_name]['y_train'] = y_train\n",
    "        obs_dict[expt_name]['X_test'] = X_test\n",
    "        obs_dict[expt_name]['y_test'] = y_test\n",
    "\n",
    "        # Get the model predictions\n",
    "        lstm_pred = read_pred_data('rnn', data_dir, experiment=EXPERIMENT)[-1].where(~mask)\n",
    "        bline_pred = read_pred_data('previous_month', data_dir, experiment=EXPERIMENT)[-1].where(~mask)\n",
    "        ealstm_pred = read_pred_data('ealstm', data_dir, experiment=EXPERIMENT)[-1].where(~mask)\n",
    "\n",
    "        model_dict[expt_name]['lstm_pred'] = lstm_pred\n",
    "        model_dict[expt_name]['bline_pred'] = bline_pred\n",
    "        model_dict[expt_name]['ealstm_pred'] = ealstm_pred\n",
    "\n",
    "    \n",
    "    print(f'Saving to {data_dir / \"tommy\"}')\n",
    "    with open(data_dir / 'tommy/obs_dict.pkl', 'wb') as fp:\n",
    "        pickle.dump(obs_dict, fp)\n",
    "    with open(data_dir / 'tommy/model_dict.pkl', 'wb') as fp:\n",
    "        pickle.dump(model_dict, fp)\n",
    "\n",
    "print('** DONE! **')"
   ]
  },
  {
   "cell_type": "code",
   "execution_count": 57,
   "metadata": {},
   "outputs": [
    {
     "data": {
      "text/plain": [
       "<matplotlib.axes._subplots.AxesSubplot at 0x7f7725645110>"
      ]
     },
     "execution_count": 57,
     "metadata": {},
     "output_type": "execute_result"
    },
    {
     "data": {
      "image/png": "[encoded data removed]",
      "text/plain": [
       "<Figure size 432x288 with 2 Axes>"
      ]
     },
     "metadata": {
      "needs_background": "light"
     },
     "output_type": "display_data"
    },
    {
     "data": {
      "image/png": "[encoded data removed]",
      "text/plain": [
       "<Figure size 432x288 with 2 Axes>"
      ]
     },
     "metadata": {
      "needs_background": "light"
     },
     "output_type": "display_data"
    }
   ],
   "source": [
    "fig, ax = plt.subplots()\n",
    "time_ix = 1\n",
    "kwargs = dict(vmin=0, vmax=100, cmap='viridis')\n",
    "\n",
    "experiment_name = [k for k in model_dict.keys()][-12]\n",
    "time = model_dict[experiment_name]['ealstm_pred'].time.values\n",
    "model_dict[experiment_name]['ealstm_pred'].isel(time=time_ix).plot(ax=ax, **kwargs)\n",
    "ax.set_title(f\"** PREDICTED VALUES {str(time).split('T')[0][2:]} **\\n{experiment_name} - ealstm\", size=16);\n",
    "\n",
    "all_experiments[experiment_name].plot_experiment_split()"
   ]
  },
  {
   "cell_type": "markdown",
   "metadata": {},
   "source": [
    "## Clean up the missing/extra preds (TODO: WHY?)"
   ]
  },
  {
   "cell_type": "code",
   "execution_count": 45,
   "metadata": {},
   "outputs": [
    {
     "name": "stdout",
     "output_type": "stream",
     "text": [
      "[12, 12, 12, 12, 12, 12, 12, 12, 12, 12, 12, 12, 12, 12, 12, 12, 10, 12, 12, 12, 12, 12, 12, 12, 12, 10, 12]\n",
      "[12, 12, 12, 12, 12, 12, 12, 12, 12, 12, 12, 12, 12, 12, 12, 12, 10, 12, 12, 12, 12, 12, 12, 12, 12, 10, 12]\n"
     ]
    }
   ],
   "source": [
    "print([len(test_times[i]) for i in range(len(test_times))])\n",
    "print([len(test_times2[i]) for i in range(len(test_times2))])"
   ]
  },
  {
   "cell_type": "code",
   "execution_count": 46,
   "metadata": {},
   "outputs": [
    {
     "name": "stdout",
     "output_type": "stream",
     "text": [
      "[12, 12, 12, 12, 12, 12, 12, 12, 12, 12, 12, 12, 12, 12, 12, 12, 10, 12, 12, 12, 12, 12, 12, 12, 12, 10, 12]\n",
      "[12, 12, 12, 12, 12, 12, 12, 12, 12, 12, 12, 12, 12, 12, 12, 12, 10, 12, 12, 12, 12, 12, 12, 12, 12, 10, 12]\n"
     ]
    }
   ],
   "source": [
    "print([len(test_times[i]) for i in range(len(test_times))])\n",
    "print([len(test_times2[i]) for i in range(len(test_times2))])\n",
    "\n",
    "if False:\n",
    "    # which datetimes are missing / extra?\n",
    "    # GET TEST TIMES\n",
    "    model_test_dirs = [\n",
    "        np.array([\n",
    "            d.name.split('preds_')[-1].replace('.nc', '')\n",
    "            for d in (model / 'ealstm').glob('*.nc')\n",
    "        ])\n",
    "        for model in model_dirs\n",
    "    ]\n",
    "\n",
    "    obs_test_dirs = [\n",
    "        np.array([\n",
    "            d.name\n",
    "            for d in (feature / 'test').iterdir()\n",
    "        ])\n",
    "        for feature in features\n",
    "    ]\n",
    "    # sort the files\n",
    "    [a.sort() for a in model_test_dirs]\n",
    "    [a.sort() for a in obs_test_dirs]\n",
    "\n",
    "    # WHICH EXPERIMENTS HAVE ISSUES WITH NUMBER OF PREDS?\n",
    "    bool_have_issue = [len(model_test_dirs[i]) != len(obs_test_dirs[i]) for i in range(len(model_test_dirs))]\n",
    "    model_dirs_with_issues = np.array(model_dirs)[bool_have_issue]\n",
    "    obs_dirs_with_issues = np.array(features)[bool_have_issue]\n",
    "\n",
    "    # create a dictionary of EXPERIMENT NAME -> valid preds (obs)\n",
    "    expts_with_issues = [d.name for d in model_dirs_with_issues]\n",
    "    valid_obs_test_timesteps = [[d.name for d in list(dir_.glob('test/*'))] for dir_ in obs_dirs_with_issues]\n",
    "    model_valid_timesteps_lookup = dict(zip(expts_with_issues, valid_obs_test_timesteps))\n",
    "\n",
    "    expts_with_issues = [d.name for d in model_dirs_with_issues]\n",
    "    valid_model_test_timesteps = [\n",
    "        np.unique(\n",
    "            [d.name.split('preds_')[-1].replace('.nc', '') for d in list(dir_.glob('**/**/*.nc'))]\n",
    "        ) \n",
    "        for dir_ in model_dirs_with_issues\n",
    "    ]\n",
    "    obs_valid_timesteps_lookup = dict(zip(expts_with_issues, valid_model_test_timesteps))\n",
    "\n",
    "    # Two possibilities:\n",
    "    # a) too many preds in the model dirs (in model but not obs)\n",
    "    # b) too few preds in the model dirs (in obs but not model)\n",
    "\n",
    "    ## -------- MODELS -------- ##\n",
    "    # Create a dataframe (easier to visualise/work with)\n",
    "    a = [list(parent_d.glob('**/*.nc')) for parent_d in model_dirs_with_issues]\n",
    "    all_array = np.array([])\n",
    "    all_array = np.append(all_array, a[0])\n",
    "    all_array = np.append(all_array, a[1])\n",
    "    all_array = np.append(all_array, a[2])\n",
    "    model_names = [d.parents[0].name for d in all_array]\n",
    "    experiment_names = [d.parents[1].name for d in all_array]\n",
    "    all_times = [d.name.split('preds_')[-1].replace('.nc', '') for d in all_array]\n",
    "\n",
    "    model_dirs_df = pd.DataFrame({\n",
    "        'experiment': experiment_names,\n",
    "        'model': model_names,\n",
    "        'path': all_array,\n",
    "        'time': all_times,\n",
    "    })\n",
    "    model_dirs_df['is_valid'] = model_dirs_df.apply(lambda row: row.time in model_valid_timesteps_lookup[row.experiment], axis=1)\n",
    "\n",
    "\n",
    "    ## -------- OBSERVATIONS -------- ##\n",
    "    obs_dirs_with_issues = np.array(features)[bool_have_issue]\n",
    "    a = [list(parent_d.glob('test/*')) for parent_d in obs_dirs_with_issues]\n",
    "    all_array = np.array([])\n",
    "    all_array = np.append(all_array, a[0])\n",
    "    all_array = np.append(all_array, a[1])\n",
    "    all_array = np.append(all_array, a[2])\n",
    "    experiment_names = [d.parents[1].name for d in all_array]\n",
    "    all_times = [d.name for d in all_array]\n",
    "    obs_dirs_df = pd.DataFrame({\n",
    "        'experiment': experiment_names,\n",
    "        'path': all_array,\n",
    "        'time': all_times,\n",
    "    })\n",
    "    obs_dirs_df['is_valid'] = obs_dirs_df.apply(lambda row: row.time in obs_valid_timesteps_lookup[row.experiment], axis=1)\n",
    "\n",
    "    display(model_dirs_df.head())\n",
    "    display(obs_dirs_df.head())"
   ]
  },
  {
   "cell_type": "code",
   "execution_count": 47,
   "metadata": {},
   "outputs": [],
   "source": [
    "import shutil\n",
    "\n",
    "\n",
    "def move_model_path(file_path: Path) -> None:\n",
    "    error_dir = (file_path.parents[0] / 'ERROR')\n",
    "    # MAKE Error Direcory\n",
    "    if not error_dir.exists():\n",
    "        error_dir.mkdir(exist_ok=True, parents=False)\n",
    "\n",
    "    # DEFINE the to path\n",
    "    to_path = error_dir / file_path.name\n",
    "    # MOVE the file\n",
    "    shutil.move((file_path).as_posix(), (to_path).as_posix())\n",
    "    print(f\"Moved: {file_path} to {to_path}\")\n",
    "\n",
    "\n",
    "if False:\n",
    "    ### Move the invalid paths to a new location\n",
    "    models_to_move = model_dirs_df.loc[~model_dirs_df.is_valid]\n",
    "    obs_to_move = obs_dirs_df.loc[~obs_dirs_df.is_valid]\n",
    "\n",
    "    for file_path in models_to_move.path:\n",
    "        move_model_path(file_path)\n",
    "\n",
    "    for file_path in obs_to_move.path:\n",
    "        move_model_path(file_path)\n"
   ]
  },
  {
   "cell_type": "markdown",
   "metadata": {},
   "source": [
    "# Model Performance Scores"
   ]
  },
  {
   "cell_type": "markdown",
   "metadata": {},
   "source": [
    "### Pixel wise performance"
   ]
  },
  {
   "cell_type": "code",
   "execution_count": 48,
   "metadata": {},
   "outputs": [
    {
     "name": "stdout",
     "output_type": "stream",
     "text": [
      "[12, 12, 12, 12, 12, 12, 12, 12, 12, 12, 12, 12, 12, 12, 12, 12, 10, 12, 12, 12, 12, 12, 12, 12, 12, 10, 12]\n",
      "[12, 12, 12, 12, 12, 12, 12, 12, 12, 12, 12, 12, 12, 12, 12, 12, 10, 12, 12, 12, 12, 12, 12, 12, 12, 10, 12]\n"
     ]
    }
   ],
   "source": [
    "# how many preds in each \n",
    "[d for d in model_dirs[0].iterdir()]\n",
    "\n",
    "print([len(a) for a in test_times])\n",
    "print([len(a) for a in test_times2])"
   ]
  },
  {
   "cell_type": "code",
   "execution_count": 66,
   "metadata": {},
   "outputs": [
    {
     "name": "stdout",
     "output_type": "stream",
     "text": [
      "one_month_forecast_TRhigh_TEhigh_LEN51\n",
      "one_month_forecast_TRhigh_TEhigh_LEN102\n",
      "one_month_forecast_TRhigh_TEhigh_LEN153\n",
      "one_month_forecast_TRhigh_TEmed_LEN51\n",
      "one_month_forecast_TRhigh_TEmed_LEN102\n",
      "one_month_forecast_TRhigh_TEmed_LEN153\n",
      "one_month_forecast_TRhigh_TElow_LEN51\n",
      "one_month_forecast_TRhigh_TElow_LEN102\n",
      "one_month_forecast_TRhigh_TElow_LEN153\n",
      "one_month_forecast_TRmed_TEhigh_LEN51\n",
      "one_month_forecast_TRmed_TEhigh_LEN102\n",
      "one_month_forecast_TRmed_TEhigh_LEN153\n",
      "one_month_forecast_TRmed_TEmed_LEN51\n",
      "one_month_forecast_TRmed_TEmed_LEN102\n",
      "one_month_forecast_TRmed_TEmed_LEN153\n",
      "one_month_forecast_TRmed_TElow_LEN51\n",
      "one_month_forecast_TRmed_TElow_LEN102\n",
      "one_month_forecast_TRmed_TElow_LEN153\n",
      "one_month_forecast_TRlow_TEhigh_LEN51\n",
      "one_month_forecast_TRlow_TEhigh_LEN102\n",
      "one_month_forecast_TRlow_TEhigh_LEN153\n",
      "one_month_forecast_TRlow_TEmed_LEN51\n",
      "one_month_forecast_TRlow_TEmed_LEN102\n",
      "one_month_forecast_TRlow_TEmed_LEN153\n",
      "one_month_forecast_TRlow_TElow_LEN51\n",
      "one_month_forecast_TRlow_TElow_LEN102\n",
      "one_month_forecast_TRlow_TElow_LEN153\n"
     ]
    }
   ],
   "source": [
    "from src.analysis import spatial_rmse, spatial_r2\n",
    "\n",
    "rmse_dict = {}\n",
    "r2_dict = {}\n",
    "mean_performances = {}\n",
    "\n",
    "for experiment_name in [k for k in model_dict.keys()]:\n",
    "    print(experiment_name)\n",
    "    rmse_dict[experiment_name] = {}\n",
    "    r2_dict[experiment_name] = {}\n",
    "    \n",
    "    # iterate over each model defined for that experiment\n",
    "    models = [k for k in model_dict[experiment_name].keys()]\n",
    "    \n",
    "    for model in models:\n",
    "        obs = obs_dict[experiment_name]['y_test'][TARGET_VAR].transpose(\"time\", \"lat\", \"lon\").sortby([\"time\", \"lat\", \"lon\"])\n",
    "        preds = model_dict[experiment_name][model].transpose(\"time\", \"lat\", \"lon\").sortby([\"time\", \"lat\", \"lon\"])\n",
    "        \n",
    "        # ONLY SELECT MATCHING TIMES (Why are there errors here anyway?)\n",
    "        preds = preds.sel(time=np.isin(preds.time, obs.time))\n",
    "        obs = obs.sel(time=np.isin(obs.time, preds.time))\n",
    "\n",
    "        # ------- RMSE -------\n",
    "        model_rmse = spatial_rmse(\n",
    "            obs, preds\n",
    "        )\n",
    "        rmse_dict[experiment_name][model] = model_rmse\n",
    "        \n",
    "        # ------- R2 -------\n",
    "        model_r2 = spatial_r2(\n",
    "            obs, preds\n",
    "        )\n",
    "        r2_dict[experiment_name][model] = model_r2\n",
    "\n",
    "        # calculate mean performance scores\n",
    "        model_mean_rmse = model_rmse.mean().values\n",
    "#         print(f\"{experiment_name} {model} mean RMSE: \".ljust(20), f\"{model_mean:.2f}\")\n",
    "        model_mean_r2 = model_r2.mean().values\n",
    "#         print(f\"{experiment_name} {model} mean R2: \".ljust(20), f\"{model_mean:.2f}\")\n",
    "        \n",
    "        # build mean performance dictionaries\n",
    "        mean_performances[experiment_name] = {}\n",
    "        mean_performances[experiment_name][model] = {}\n",
    "        mean_performances[experiment_name][model]['rmse'] = model_mean_rmse\n",
    "        mean_performances[experiment_name][model]['r2'] = model_mean_r2"
   ]
  },
  {
   "cell_type": "markdown",
   "metadata": {},
   "source": [
    "### Build DataFrame for plotting"
   ]
  },
  {
   "cell_type": "code",
   "execution_count": 317,
   "metadata": {},
   "outputs": [],
   "source": [
    "def dict_to_arrays(dict_object) -> Tuple[List[str], List[str], List[xr.Dataset]]:\n",
    "    \"\"\"\n",
    "    Convert the dictionaries calculated above into lists for \n",
    "    the creation of a pandas.DataFrame\n",
    "    \n",
    "    Dict should be in format\n",
    "    {'experiment_name' : { 'model_name': xr.Dataset } }\n",
    "    \"\"\"\n",
    "    experiments = [e for e in dict_object.keys()]\n",
    "    models_list = np.array(\n",
    "        [\n",
    "            [m for m in dict_object[expt].keys()] \n",
    "            for expt in [e for e in dict_object.keys()]\n",
    "        ]\n",
    "    ).flatten()\n",
    "    models = np.unique(models_list)\n",
    "    experiments_list = np.array(experiments).repeat(len(models))\n",
    "\n",
    "    values = []\n",
    "    for model, experiment in zip(models_list, experiments_list):\n",
    "        values.append(dict_object[experiment][model])\n",
    "\n",
    "    assert len(models_list) == len(experiments_list)\n",
    "    assert len(values) == len(models_list)\n",
    "    \n",
    "    return models_list, experiments_list, values\n",
    "\n",
    "\n",
    "# experiments = [e for e in rmse_dict.keys()]\n",
    "# models_list = np.array([[m for m in rmse_dict[expt].keys()] for expt in [e for e in rmse_dict.keys()]]).flatten()\n",
    "# models = np.unique(models_list)\n",
    "# experiments_list = np.array(experiments).repeat(3)\n",
    "\n",
    "# all_rmses = []\n",
    "# for model, experiment in zip(models_list, experiments_list):\n",
    "#     all_rmses.append(rmse_dict[experiment][model])\n",
    "    \n",
    "\n",
    "models_list, experiments_list, all_rmses = dict_to_arrays(rmse_dict)\n",
    "rmse_means = [rmse.compute().mean().values for rmse in all_rmses]\n",
    "\n",
    "models_list, experiments_list, all_r2s = dict_to_arrays(r2_dict)\n",
    "r2_means = [r2.compute().mean().values for r2 in all_r2s]"
   ]
  },
  {
   "cell_type": "code",
   "execution_count": 318,
   "metadata": {},
   "outputs": [
    {
     "data": {
      "text/html": [
       "['one_month_forecast_TRhigh_TEhigh_LEN51', 'one_month_forecast_TRhigh_TEhigh_LEN51', 'one_month_forecast_TRhigh_TEhigh_LEN51', 'one_month_forecast_TRhigh_TEhigh_LEN102', 'one_month_forecast_TRhigh_TEhigh_LEN102']"
      ],
      "text/plain": [
       "['one_month_forecast_TRhigh_TEhigh_LEN51',\n",
       " 'one_month_forecast_TRhigh_TEhigh_LEN51',\n",
       " 'one_month_forecast_TRhigh_TEhigh_LEN51',\n",
       " 'one_month_forecast_TRhigh_TEhigh_LEN102',\n",
       " 'one_month_forecast_TRhigh_TEhigh_LEN102']"
      ]
     },
     "execution_count": 318,
     "metadata": {},
     "output_type": "execute_result"
    }
   ],
   "source": [
    "[m for m in experiments_list][:5]"
   ]
  },
  {
   "cell_type": "code",
   "execution_count": 319,
   "metadata": {},
   "outputs": [
    {
     "data": {
      "text/html": [
       "<div>\n",
       "<style scoped>\n",
       "    .dataframe tbody tr th:only-of-type {\n",
       "        vertical-align: middle;\n",
       "    }\n",
       "\n",
       "    .dataframe tbody tr th {\n",
       "        vertical-align: top;\n",
       "    }\n",
       "\n",
       "    .dataframe thead th {\n",
       "        text-align: right;\n",
       "    }\n",
       "</style>\n",
       "<table border=\"1\" class=\"dataframe\">\n",
       "  <thead>\n",
       "    <tr style=\"text-align: right;\">\n",
       "      <th></th>\n",
       "      <th>experiment</th>\n",
       "      <th>model</th>\n",
       "      <th>test_hilo</th>\n",
       "      <th>train_hilo</th>\n",
       "      <th>train_length</th>\n",
       "      <th>RMSE</th>\n",
       "    </tr>\n",
       "  </thead>\n",
       "  <tbody>\n",
       "    <tr>\n",
       "      <th>0</th>\n",
       "      <td>one_month_forecast_TRhigh_TEhigh_LEN51</td>\n",
       "      <td>lstm_pred</td>\n",
       "      <td>high</td>\n",
       "      <td>high</td>\n",
       "      <td>51</td>\n",
       "      <td>21.431805</td>\n",
       "    </tr>\n",
       "    <tr>\n",
       "      <th>1</th>\n",
       "      <td>one_month_forecast_TRhigh_TEhigh_LEN51</td>\n",
       "      <td>bline_pred</td>\n",
       "      <td>high</td>\n",
       "      <td>high</td>\n",
       "      <td>51</td>\n",
       "      <td>25.865590</td>\n",
       "    </tr>\n",
       "    <tr>\n",
       "      <th>2</th>\n",
       "      <td>one_month_forecast_TRhigh_TEhigh_LEN51</td>\n",
       "      <td>ealstm_pred</td>\n",
       "      <td>high</td>\n",
       "      <td>high</td>\n",
       "      <td>51</td>\n",
       "      <td>20.413579</td>\n",
       "    </tr>\n",
       "    <tr>\n",
       "      <th>3</th>\n",
       "      <td>one_month_forecast_TRhigh_TEhigh_LEN102</td>\n",
       "      <td>lstm_pred</td>\n",
       "      <td>high</td>\n",
       "      <td>high</td>\n",
       "      <td>102</td>\n",
       "      <td>18.856507</td>\n",
       "    </tr>\n",
       "    <tr>\n",
       "      <th>4</th>\n",
       "      <td>one_month_forecast_TRhigh_TEhigh_LEN102</td>\n",
       "      <td>bline_pred</td>\n",
       "      <td>high</td>\n",
       "      <td>high</td>\n",
       "      <td>102</td>\n",
       "      <td>24.182788</td>\n",
       "    </tr>\n",
       "  </tbody>\n",
       "</table>\n",
       "</div>"
      ],
      "text/plain": [
       "                                experiment        model test_hilo train_hilo  \\\n",
       "0   one_month_forecast_TRhigh_TEhigh_LEN51    lstm_pred      high       high   \n",
       "1   one_month_forecast_TRhigh_TEhigh_LEN51   bline_pred      high       high   \n",
       "2   one_month_forecast_TRhigh_TEhigh_LEN51  ealstm_pred      high       high   \n",
       "3  one_month_forecast_TRhigh_TEhigh_LEN102    lstm_pred      high       high   \n",
       "4  one_month_forecast_TRhigh_TEhigh_LEN102   bline_pred      high       high   \n",
       "\n",
       "   train_length       RMSE  \n",
       "0            51  21.431805  \n",
       "1            51  25.865590  \n",
       "2            51  20.413579  \n",
       "3           102  18.856507  \n",
       "4           102  24.182788  "
      ]
     },
     "metadata": {},
     "output_type": "display_data"
    },
    {
     "data": {
      "text/html": [
       "<div>\n",
       "<style scoped>\n",
       "    .dataframe tbody tr th:only-of-type {\n",
       "        vertical-align: middle;\n",
       "    }\n",
       "\n",
       "    .dataframe tbody tr th {\n",
       "        vertical-align: top;\n",
       "    }\n",
       "\n",
       "    .dataframe thead th {\n",
       "        text-align: right;\n",
       "    }\n",
       "</style>\n",
       "<table border=\"1\" class=\"dataframe\">\n",
       "  <thead>\n",
       "    <tr style=\"text-align: right;\">\n",
       "      <th></th>\n",
       "      <th>experiment</th>\n",
       "      <th>model</th>\n",
       "      <th>test_hilo</th>\n",
       "      <th>train_hilo</th>\n",
       "      <th>train_length</th>\n",
       "      <th>R2</th>\n",
       "    </tr>\n",
       "  </thead>\n",
       "  <tbody>\n",
       "    <tr>\n",
       "      <th>0</th>\n",
       "      <td>one_month_forecast_TRhigh_TEhigh_LEN51</td>\n",
       "      <td>lstm_pred</td>\n",
       "      <td>high</td>\n",
       "      <td>high</td>\n",
       "      <td>51</td>\n",
       "      <td>0.426466</td>\n",
       "    </tr>\n",
       "    <tr>\n",
       "      <th>1</th>\n",
       "      <td>one_month_forecast_TRhigh_TEhigh_LEN51</td>\n",
       "      <td>bline_pred</td>\n",
       "      <td>high</td>\n",
       "      <td>high</td>\n",
       "      <td>51</td>\n",
       "      <td>0.121839</td>\n",
       "    </tr>\n",
       "    <tr>\n",
       "      <th>2</th>\n",
       "      <td>one_month_forecast_TRhigh_TEhigh_LEN51</td>\n",
       "      <td>ealstm_pred</td>\n",
       "      <td>high</td>\n",
       "      <td>high</td>\n",
       "      <td>51</td>\n",
       "      <td>0.466974</td>\n",
       "    </tr>\n",
       "    <tr>\n",
       "      <th>3</th>\n",
       "      <td>one_month_forecast_TRhigh_TEhigh_LEN102</td>\n",
       "      <td>lstm_pred</td>\n",
       "      <td>high</td>\n",
       "      <td>high</td>\n",
       "      <td>102</td>\n",
       "      <td>0.523342</td>\n",
       "    </tr>\n",
       "    <tr>\n",
       "      <th>4</th>\n",
       "      <td>one_month_forecast_TRhigh_TEhigh_LEN102</td>\n",
       "      <td>bline_pred</td>\n",
       "      <td>high</td>\n",
       "      <td>high</td>\n",
       "      <td>102</td>\n",
       "      <td>0.195182</td>\n",
       "    </tr>\n",
       "  </tbody>\n",
       "</table>\n",
       "</div>"
      ],
      "text/plain": [
       "                                experiment        model test_hilo train_hilo  \\\n",
       "0   one_month_forecast_TRhigh_TEhigh_LEN51    lstm_pred      high       high   \n",
       "1   one_month_forecast_TRhigh_TEhigh_LEN51   bline_pred      high       high   \n",
       "2   one_month_forecast_TRhigh_TEhigh_LEN51  ealstm_pred      high       high   \n",
       "3  one_month_forecast_TRhigh_TEhigh_LEN102    lstm_pred      high       high   \n",
       "4  one_month_forecast_TRhigh_TEhigh_LEN102   bline_pred      high       high   \n",
       "\n",
       "   train_length        R2  \n",
       "0            51  0.426466  \n",
       "1            51  0.121839  \n",
       "2            51  0.466974  \n",
       "3           102  0.523342  \n",
       "4           102  0.195182  "
      ]
     },
     "metadata": {},
     "output_type": "display_data"
    }
   ],
   "source": [
    "def create_experiment_dataframe(\n",
    "    experiments_list: List[str], \n",
    "    models_list: List[str], \n",
    "    values: List[float],\n",
    "    col_name: str = 'RMSE',\n",
    ") -> pd.DataFrame:\n",
    "    train_hilos = [m.split('_')[-3][2:] for m in experiments_list]\n",
    "    test_hilos = [m.split('_')[-2][2:] for m in experiments_list]\n",
    "    train_lengths = [int(m.split('_')[-1][3:]) for m in experiments_list]\n",
    "\n",
    "    values_df = pd.DataFrame({\n",
    "        'experiment': experiments_list,\n",
    "        'model': models_list,\n",
    "        'test_hilo': test_hilos,\n",
    "        'train_hilo': train_hilos,\n",
    "        'train_length': train_lengths,\n",
    "        col_name: values,\n",
    "    })\n",
    "    return values_df.astype({col_name: float, 'train_length': int})\n",
    "\n",
    "# \n",
    "mean_rmse_df = create_experiment_dataframe(\n",
    "    experiments_list=experiments_list,\n",
    "    models_list=models_list,\n",
    "    values=rmse_means\n",
    ")\n",
    "\n",
    "display(mean_rmse_df.head())\n",
    "\n",
    "# \n",
    "mean_r2_df = create_experiment_dataframe(\n",
    "    experiments_list=experiments_list,\n",
    "    models_list=models_list,\n",
    "    values=r2_means,\n",
    "    col_name='R2'\n",
    ")\n",
    "display(mean_r2_df.head())"
   ]
  },
  {
   "cell_type": "code",
   "execution_count": 288,
   "metadata": {},
   "outputs": [
    {
     "data": {
      "text/plain": [
       "test_hilo  train_hilo  train_length\n",
       "high       high        51              20.413579\n",
       "                       102             19.531255\n",
       "                       153             18.696899\n",
       "med        high        51              19.827745\n",
       "                       102             19.953286\n",
       "Name: RMSE, dtype: float64"
      ]
     },
     "execution_count": 288,
     "metadata": {},
     "output_type": "execute_result"
    }
   ],
   "source": [
    "# mean_rmse_df.model == 'ealstm_pred'\n",
    "(\n",
    "    mean_rmse_df.set_index(['test_hilo', 'train_hilo', 'train_length'])\n",
    "    .query('model == \"ealstm_pred\"')\n",
    "    .RMSE\n",
    ").head()"
   ]
  },
  {
   "cell_type": "code",
   "execution_count": 298,
   "metadata": {},
   "outputs": [
    {
     "data": {
      "text/html": [
       "<div>\n",
       "<style scoped>\n",
       "    .dataframe tbody tr th:only-of-type {\n",
       "        vertical-align: middle;\n",
       "    }\n",
       "\n",
       "    .dataframe tbody tr th {\n",
       "        vertical-align: top;\n",
       "    }\n",
       "\n",
       "    .dataframe thead th {\n",
       "        text-align: right;\n",
       "    }\n",
       "</style>\n",
       "<table border=\"1\" class=\"dataframe\">\n",
       "  <thead>\n",
       "    <tr style=\"text-align: right;\">\n",
       "      <th></th>\n",
       "      <th></th>\n",
       "      <th>RMSE</th>\n",
       "    </tr>\n",
       "    <tr>\n",
       "      <th>test_hilo</th>\n",
       "      <th>train_hilo</th>\n",
       "      <th></th>\n",
       "    </tr>\n",
       "  </thead>\n",
       "  <tbody>\n",
       "    <tr>\n",
       "      <th>high</th>\n",
       "      <th>high</th>\n",
       "      <td>20.413579</td>\n",
       "    </tr>\n",
       "    <tr>\n",
       "      <th>med</th>\n",
       "      <th>high</th>\n",
       "      <td>19.827745</td>\n",
       "    </tr>\n",
       "    <tr>\n",
       "      <th>low</th>\n",
       "      <th>high</th>\n",
       "      <td>19.297082</td>\n",
       "    </tr>\n",
       "    <tr>\n",
       "      <th>high</th>\n",
       "      <th>med</th>\n",
       "      <td>22.257396</td>\n",
       "    </tr>\n",
       "    <tr>\n",
       "      <th>med</th>\n",
       "      <th>med</th>\n",
       "      <td>20.441534</td>\n",
       "    </tr>\n",
       "    <tr>\n",
       "      <th>low</th>\n",
       "      <th>med</th>\n",
       "      <td>22.792179</td>\n",
       "    </tr>\n",
       "    <tr>\n",
       "      <th>high</th>\n",
       "      <th>low</th>\n",
       "      <td>19.875916</td>\n",
       "    </tr>\n",
       "    <tr>\n",
       "      <th>med</th>\n",
       "      <th>low</th>\n",
       "      <td>20.890595</td>\n",
       "    </tr>\n",
       "    <tr>\n",
       "      <th>low</th>\n",
       "      <th>low</th>\n",
       "      <td>18.147312</td>\n",
       "    </tr>\n",
       "  </tbody>\n",
       "</table>\n",
       "</div>"
      ],
      "text/plain": [
       "                           RMSE\n",
       "test_hilo train_hilo           \n",
       "high      high        20.413579\n",
       "med       high        19.827745\n",
       "low       high        19.297082\n",
       "high      med         22.257396\n",
       "med       med         20.441534\n",
       "low       med         22.792179\n",
       "high      low         19.875916\n",
       "med       low         20.890595\n",
       "low       low         18.147312"
      ]
     },
     "metadata": {},
     "output_type": "display_data"
    },
    {
     "data": {
      "text/html": [
       "<div>\n",
       "<style scoped>\n",
       "    .dataframe tbody tr th:only-of-type {\n",
       "        vertical-align: middle;\n",
       "    }\n",
       "\n",
       "    .dataframe tbody tr th {\n",
       "        vertical-align: top;\n",
       "    }\n",
       "\n",
       "    .dataframe thead th {\n",
       "        text-align: right;\n",
       "    }\n",
       "</style>\n",
       "<table border=\"1\" class=\"dataframe\">\n",
       "  <thead>\n",
       "    <tr style=\"text-align: right;\">\n",
       "      <th></th>\n",
       "      <th></th>\n",
       "      <th>RMSE</th>\n",
       "    </tr>\n",
       "    <tr>\n",
       "      <th>test_hilo</th>\n",
       "      <th>train_hilo</th>\n",
       "      <th></th>\n",
       "    </tr>\n",
       "  </thead>\n",
       "  <tbody>\n",
       "    <tr>\n",
       "      <th>high</th>\n",
       "      <th>high</th>\n",
       "      <td>25.865590</td>\n",
       "    </tr>\n",
       "    <tr>\n",
       "      <th>med</th>\n",
       "      <th>high</th>\n",
       "      <td>25.073907</td>\n",
       "    </tr>\n",
       "    <tr>\n",
       "      <th>low</th>\n",
       "      <th>high</th>\n",
       "      <td>21.690200</td>\n",
       "    </tr>\n",
       "    <tr>\n",
       "      <th>high</th>\n",
       "      <th>med</th>\n",
       "      <td>21.938027</td>\n",
       "    </tr>\n",
       "    <tr>\n",
       "      <th>med</th>\n",
       "      <th>med</th>\n",
       "      <td>27.807024</td>\n",
       "    </tr>\n",
       "    <tr>\n",
       "      <th>low</th>\n",
       "      <th>med</th>\n",
       "      <td>21.008051</td>\n",
       "    </tr>\n",
       "    <tr>\n",
       "      <th>high</th>\n",
       "      <th>low</th>\n",
       "      <td>22.830925</td>\n",
       "    </tr>\n",
       "    <tr>\n",
       "      <th>med</th>\n",
       "      <th>low</th>\n",
       "      <td>25.597232</td>\n",
       "    </tr>\n",
       "    <tr>\n",
       "      <th>low</th>\n",
       "      <th>low</th>\n",
       "      <td>21.498841</td>\n",
       "    </tr>\n",
       "  </tbody>\n",
       "</table>\n",
       "</div>"
      ],
      "text/plain": [
       "                           RMSE\n",
       "test_hilo train_hilo           \n",
       "high      high        25.865590\n",
       "med       high        25.073907\n",
       "low       high        21.690200\n",
       "high      med         21.938027\n",
       "med       med         27.807024\n",
       "low       med         21.008051\n",
       "high      low         22.830925\n",
       "med       low         25.597232\n",
       "low       low         21.498841"
      ]
     },
     "metadata": {},
     "output_type": "display_data"
    },
    {
     "data": {
      "text/plain": [
       "array([[20.41357869, 19.82774539, 19.29708217],\n",
       "       [22.25739594, 20.44153386, 22.79217925],\n",
       "       [19.87591575, 20.89059477, 18.14731247]])"
      ]
     },
     "metadata": {},
     "output_type": "display_data"
    }
   ],
   "source": [
    "train_lengths = [51, 102, 153]\n",
    "train_length = train_lengths[0]\n",
    "display(\n",
    "    mean_rmse_df\n",
    "    .query(f'model == \"ealstm_pred\" & train_length == {train_length}')\n",
    "    .drop(columns=['experiment', 'model', 'train_length'])\n",
    "    .set_index(['test_hilo', 'train_hilo'])\n",
    ")\n",
    "display(\n",
    "    mean_rmse_df\n",
    "    .query(f'model == \"bline_pred\" & train_length == {train_length}')\n",
    "    .drop(columns=['experiment', 'model', 'train_length'])\n",
    "    .set_index(['test_hilo', 'train_hilo'])\n",
    ")\n",
    "display(\n",
    "    mean_rmse_df\n",
    "    .query(f'model == \"ealstm_pred\" & train_length == {train_length}')\n",
    "    .drop(columns=['experiment', 'model', 'train_length'])\n",
    "    .set_index(['test_hilo', 'train_hilo'])\n",
    "    .values.reshape(3,3)\n",
    ")"
   ]
  },
  {
   "cell_type": "code",
   "execution_count": 350,
   "metadata": {},
   "outputs": [
    {
     "data": {
      "image/png": "[encoded data removed]",
      "text/plain": [
       "<Figure size 864x360 with 4 Axes>"
      ]
     },
     "metadata": {
      "needs_background": "light"
     },
     "output_type": "display_data"
    },
    {
     "data": {
      "image/png": "[encoded data removed]",
      "text/plain": [
       "<Figure size 864x360 with 4 Axes>"
      ]
     },
     "metadata": {
      "needs_background": "light"
     },
     "output_type": "display_data"
    }
   ],
   "source": [
    "# plot matrices\n",
    "model = 'ealstm'\n",
    "kwargs = dict(vmin=12, vmax=23)\n",
    "value_df = mean_rmse_df\n",
    "\n",
    "def plot_experiment_matrices(value_df: pd.DataFrame, model: str, value: str = 'RMSE', **kwargs):\n",
    "    fig, axs = plt.subplots(1, 3, figsize=(12, 5))\n",
    "\n",
    "    train_lengths = [51, 102, 153]  # df.train_length.unique()\n",
    "\n",
    "    for ix, train_length in enumerate(train_lengths):\n",
    "        ax_ix = np.unravel_index(ix, (3,))\n",
    "        ax = axs[ax_ix]\n",
    "        im = ax.imshow(\n",
    "            value_df\n",
    "            .query(f'model == \"{model}_pred\" & train_length == {train_length}')\n",
    "            .drop(columns=['experiment', 'model', 'train_length'])\n",
    "            .set_index(['test_hilo', 'train_hilo'])\n",
    "            .values.reshape(3,3),\n",
    "            **kwargs\n",
    "        )\n",
    "\n",
    "        ax.set_title(f'Train Length: {train_length} months')\n",
    "        ax.set_xlabel('Test Hilo')\n",
    "        ax.set_xticks(np.arange(0, 3))\n",
    "        ax.set_xticklabels(['High', 'Medium', 'Low'])\n",
    "\n",
    "        if ax_ix == (0, ):\n",
    "            ax.set_ylabel('Train Hilo')\n",
    "            ax.set_yticks(np.arange(0, 3))\n",
    "            ax.set_yticklabels(['High', 'Medium', 'Low'])\n",
    "        else:\n",
    "            ax.set_ylabel('')\n",
    "            ax.set_yticks([])\n",
    "            ax.set_yticklabels([])\n",
    "\n",
    "    cbar = fig.colorbar(im, ax=axs.ravel().tolist(), shrink=0.65)\n",
    "    cbar.set_label(value)\n",
    "    fig.suptitle(f'Comparison {value} for {model}', y=0.85, x=0.47, fontsize=16);\n",
    "    \n",
    "\n",
    "plot_experiment_matrices(value_df, model, value='RMSE', **kwargs)\n",
    "plot_experiment_matrices(value_df, model='bline', value='RMSE', **kwargs)"
   ]
  },
  {
   "cell_type": "markdown",
   "metadata": {},
   "source": [
    "* It looks like the LOWER test periods are MORE PERSISTENT (so poor vegetation conditions follow on from other poor vegetation conditions)\n",
    "* This means that this is inherently easier to predict (?)\n",
    "* We need to compare our results to "
   ]
  },
  {
   "cell_type": "code",
   "execution_count": 348,
   "metadata": {},
   "outputs": [
    {
     "data": {
      "image/png": "[encoded data removed]",
      "text/plain": [
       "<Figure size 864x360 with 4 Axes>"
      ]
     },
     "metadata": {
      "needs_background": "light"
     },
     "output_type": "display_data"
    },
    {
     "data": {
      "image/png": "[encoded data removed]",
      "text/plain": [
       "<Figure size 864x360 with 4 Axes>"
      ]
     },
     "metadata": {
      "needs_background": "light"
     },
     "output_type": "display_data"
    }
   ],
   "source": [
    "# plot matrices\n",
    "model = 'ealstm'\n",
    "kwargs = dict(vmin=0.4, vmax=0.6, cmap='viridis_r')\n",
    "plot_experiment_matrices(mean_r2_df, model, value='$R^2$', **kwargs)\n",
    "\n",
    "plot_experiment_matrices(mean_r2_df, model='bline', value='$R^2$', **kwargs)"
   ]
  },
  {
   "cell_type": "markdown",
   "metadata": {},
   "source": [
    "# TODO: calculate the difference from Persistence"
   ]
  },
  {
   "cell_type": "code",
   "execution_count": 336,
   "metadata": {},
   "outputs": [],
   "source": [
    "# experiment = experiments[0]\n",
    "diff_rmse_dict = {}\n",
    "diff_r2_dict = {}\n",
    "\n",
    "for experiment in experiments:\n",
    "    diff_rmse_dict[experiment] = {}\n",
    "    diff_r2_dict[experiment] = {}\n",
    "\n",
    "    for model in [k for k in rmse_dict[experiment].keys() if k != \"bline_pred\"]:\n",
    "        model_rmse_diff = rmse_dict[experiment]['bline_pred'] - rmse_dict[experiment][model]\n",
    "        model_r2_diff = r2_dict[experiment][model] - r2_dict[experiment]['bline_pred']\n",
    "\n",
    "        diff_rmse_dict[experiment][model] = model_rmse_diff\n",
    "        diff_r2_dict[experiment][model] = model_r2_diff"
   ]
  },
  {
   "cell_type": "code",
   "execution_count": 337,
   "metadata": {},
   "outputs": [
    {
     "data": {
      "text/html": [
       "<div>\n",
       "<style scoped>\n",
       "    .dataframe tbody tr th:only-of-type {\n",
       "        vertical-align: middle;\n",
       "    }\n",
       "\n",
       "    .dataframe tbody tr th {\n",
       "        vertical-align: top;\n",
       "    }\n",
       "\n",
       "    .dataframe thead th {\n",
       "        text-align: right;\n",
       "    }\n",
       "</style>\n",
       "<table border=\"1\" class=\"dataframe\">\n",
       "  <thead>\n",
       "    <tr style=\"text-align: right;\">\n",
       "      <th></th>\n",
       "      <th>experiment</th>\n",
       "      <th>model</th>\n",
       "      <th>test_hilo</th>\n",
       "      <th>train_hilo</th>\n",
       "      <th>train_length</th>\n",
       "      <th>RMSE</th>\n",
       "    </tr>\n",
       "  </thead>\n",
       "  <tbody>\n",
       "    <tr>\n",
       "      <th>0</th>\n",
       "      <td>one_month_forecast_TRhigh_TEhigh_LEN51</td>\n",
       "      <td>lstm_pred</td>\n",
       "      <td>high</td>\n",
       "      <td>high</td>\n",
       "      <td>51</td>\n",
       "      <td>4.433786</td>\n",
       "    </tr>\n",
       "    <tr>\n",
       "      <th>1</th>\n",
       "      <td>one_month_forecast_TRhigh_TEhigh_LEN51</td>\n",
       "      <td>ealstm_pred</td>\n",
       "      <td>high</td>\n",
       "      <td>high</td>\n",
       "      <td>51</td>\n",
       "      <td>5.452012</td>\n",
       "    </tr>\n",
       "    <tr>\n",
       "      <th>2</th>\n",
       "      <td>one_month_forecast_TRhigh_TEhigh_LEN102</td>\n",
       "      <td>lstm_pred</td>\n",
       "      <td>high</td>\n",
       "      <td>high</td>\n",
       "      <td>102</td>\n",
       "      <td>5.326281</td>\n",
       "    </tr>\n",
       "    <tr>\n",
       "      <th>3</th>\n",
       "      <td>one_month_forecast_TRhigh_TEhigh_LEN102</td>\n",
       "      <td>ealstm_pred</td>\n",
       "      <td>high</td>\n",
       "      <td>high</td>\n",
       "      <td>102</td>\n",
       "      <td>4.651533</td>\n",
       "    </tr>\n",
       "    <tr>\n",
       "      <th>4</th>\n",
       "      <td>one_month_forecast_TRhigh_TEhigh_LEN153</td>\n",
       "      <td>lstm_pred</td>\n",
       "      <td>high</td>\n",
       "      <td>high</td>\n",
       "      <td>153</td>\n",
       "      <td>7.841748</td>\n",
       "    </tr>\n",
       "  </tbody>\n",
       "</table>\n",
       "</div>"
      ],
      "text/plain": [
       "                                experiment        model test_hilo train_hilo  \\\n",
       "0   one_month_forecast_TRhigh_TEhigh_LEN51    lstm_pred      high       high   \n",
       "1   one_month_forecast_TRhigh_TEhigh_LEN51  ealstm_pred      high       high   \n",
       "2  one_month_forecast_TRhigh_TEhigh_LEN102    lstm_pred      high       high   \n",
       "3  one_month_forecast_TRhigh_TEhigh_LEN102  ealstm_pred      high       high   \n",
       "4  one_month_forecast_TRhigh_TEhigh_LEN153    lstm_pred      high       high   \n",
       "\n",
       "   train_length      RMSE  \n",
       "0            51  4.433786  \n",
       "1            51  5.452012  \n",
       "2           102  5.326281  \n",
       "3           102  4.651533  \n",
       "4           153  7.841748  "
      ]
     },
     "metadata": {},
     "output_type": "display_data"
    },
    {
     "data": {
      "text/html": [
       "<div>\n",
       "<style scoped>\n",
       "    .dataframe tbody tr th:only-of-type {\n",
       "        vertical-align: middle;\n",
       "    }\n",
       "\n",
       "    .dataframe tbody tr th {\n",
       "        vertical-align: top;\n",
       "    }\n",
       "\n",
       "    .dataframe thead th {\n",
       "        text-align: right;\n",
       "    }\n",
       "</style>\n",
       "<table border=\"1\" class=\"dataframe\">\n",
       "  <thead>\n",
       "    <tr style=\"text-align: right;\">\n",
       "      <th></th>\n",
       "      <th>experiment</th>\n",
       "      <th>model</th>\n",
       "      <th>test_hilo</th>\n",
       "      <th>train_hilo</th>\n",
       "      <th>train_length</th>\n",
       "      <th>R2</th>\n",
       "    </tr>\n",
       "  </thead>\n",
       "  <tbody>\n",
       "    <tr>\n",
       "      <th>0</th>\n",
       "      <td>one_month_forecast_TRhigh_TEhigh_LEN51</td>\n",
       "      <td>lstm_pred</td>\n",
       "      <td>high</td>\n",
       "      <td>high</td>\n",
       "      <td>51</td>\n",
       "      <td>0.304627</td>\n",
       "    </tr>\n",
       "    <tr>\n",
       "      <th>1</th>\n",
       "      <td>one_month_forecast_TRhigh_TEhigh_LEN51</td>\n",
       "      <td>ealstm_pred</td>\n",
       "      <td>high</td>\n",
       "      <td>high</td>\n",
       "      <td>51</td>\n",
       "      <td>0.345134</td>\n",
       "    </tr>\n",
       "    <tr>\n",
       "      <th>2</th>\n",
       "      <td>one_month_forecast_TRhigh_TEhigh_LEN102</td>\n",
       "      <td>lstm_pred</td>\n",
       "      <td>high</td>\n",
       "      <td>high</td>\n",
       "      <td>102</td>\n",
       "      <td>0.328160</td>\n",
       "    </tr>\n",
       "    <tr>\n",
       "      <th>3</th>\n",
       "      <td>one_month_forecast_TRhigh_TEhigh_LEN102</td>\n",
       "      <td>ealstm_pred</td>\n",
       "      <td>high</td>\n",
       "      <td>high</td>\n",
       "      <td>102</td>\n",
       "      <td>0.296869</td>\n",
       "    </tr>\n",
       "    <tr>\n",
       "      <th>4</th>\n",
       "      <td>one_month_forecast_TRhigh_TEhigh_LEN153</td>\n",
       "      <td>lstm_pred</td>\n",
       "      <td>high</td>\n",
       "      <td>high</td>\n",
       "      <td>153</td>\n",
       "      <td>0.465420</td>\n",
       "    </tr>\n",
       "  </tbody>\n",
       "</table>\n",
       "</div>"
      ],
      "text/plain": [
       "                                experiment        model test_hilo train_hilo  \\\n",
       "0   one_month_forecast_TRhigh_TEhigh_LEN51    lstm_pred      high       high   \n",
       "1   one_month_forecast_TRhigh_TEhigh_LEN51  ealstm_pred      high       high   \n",
       "2  one_month_forecast_TRhigh_TEhigh_LEN102    lstm_pred      high       high   \n",
       "3  one_month_forecast_TRhigh_TEhigh_LEN102  ealstm_pred      high       high   \n",
       "4  one_month_forecast_TRhigh_TEhigh_LEN153    lstm_pred      high       high   \n",
       "\n",
       "   train_length        R2  \n",
       "0            51  0.304627  \n",
       "1            51  0.345134  \n",
       "2           102  0.328160  \n",
       "3           102  0.296869  \n",
       "4           153  0.465420  "
      ]
     },
     "metadata": {},
     "output_type": "display_data"
    }
   ],
   "source": [
    "# -------- RMSE ---------\n",
    "models_list, experiments_list, all_rmse_diffs = dict_to_arrays(diff_rmse_dict)\n",
    "rmse_diff_means = [rmse_diff.compute().mean().values for rmse_diff in all_rmse_diffs]\n",
    "\n",
    "# create dataframe\n",
    "mean_rmse_diff_df = create_experiment_dataframe(\n",
    "    experiments_list=experiments_list,\n",
    "    models_list=models_list,\n",
    "    values=rmse_diff_means\n",
    ")\n",
    "\n",
    "# -------- R2 ---------\n",
    "models_list, experiments_list, all_r2_diffs = dict_to_arrays(diff_r2_dict)\n",
    "r2_diff_means = [r2_diff.compute().mean().values for r2_diff in all_r2_diffs]\n",
    "\n",
    "# create dataframe\n",
    "mean_r2_diff_df = create_experiment_dataframe(\n",
    "    experiments_list=experiments_list,\n",
    "    models_list=models_list,\n",
    "    values=r2_diff_means,\n",
    "    col_name='R2'\n",
    ")\n",
    "\n",
    "display(mean_rmse_diff_df.head())\n",
    "display(mean_r2_diff_df.head())"
   ]
  },
  {
   "cell_type": "code",
   "execution_count": 345,
   "metadata": {},
   "outputs": [
    {
     "data": {
      "image/png": "[encoded data removed]",
      "text/plain": [
       "<Figure size 864x360 with 4 Axes>"
      ]
     },
     "metadata": {
      "needs_background": "light"
     },
     "output_type": "display_data"
    },
    {
     "data": {
      "image/png": "[encoded data removed]",
      "text/plain": [
       "<Figure size 864x360 with 4 Axes>"
      ]
     },
     "metadata": {
      "needs_background": "light"
     },
     "output_type": "display_data"
    }
   ],
   "source": [
    "model = 'ealstm'\n",
    "kwargs = dict(vmin=0, vmax=7)\n",
    "plot_experiment_matrices(mean_rmse_diff_df, model, value='RMSE Diff (Bline - Model)', **kwargs)\n",
    "\n",
    "model = 'lstm'\n",
    "plot_experiment_matrices(mean_rmse_diff_df, model, value='RMSE Diff (Bline - Model)', **kwargs)"
   ]
  },
  {
   "cell_type": "code",
   "execution_count": 343,
   "metadata": {},
   "outputs": [
    {
     "data": {
      "image/png": "[encoded data removed]",
      "text/plain": [
       "<Figure size 864x360 with 4 Axes>"
      ]
     },
     "metadata": {
      "needs_background": "light"
     },
     "output_type": "display_data"
    },
    {
     "data": {
      "image/png": "[encoded data removed]",
      "text/plain": [
       "<Figure size 864x360 with 4 Axes>"
      ]
     },
     "metadata": {
      "needs_background": "light"
     },
     "output_type": "display_data"
    }
   ],
   "source": [
    "model = 'ealstm'\n",
    "kwargs = dict(vmin=0, vmax=0.5)\n",
    "plot_experiment_matrices(mean_r2_diff_df, model, value='$R^2$ Diff (Model - Bline)', **kwargs)\n",
    "\n",
    "model = 'lstm'\n",
    "kwargs = dict(vmin=0, vmax=0.5)\n",
    "plot_experiment_matrices(mean_r2_diff_df, model, value='$R^2$ Diff (Model - Bline)', **kwargs)"
   ]
  },
  {
   "cell_type": "code",
   "execution_count": null,
   "metadata": {},
   "outputs": [],
   "source": []
  },
  {
   "cell_type": "code",
   "execution_count": null,
   "metadata": {},
   "outputs": [],
   "source": []
  },
  {
   "cell_type": "markdown",
   "metadata": {},
   "source": [
    "## Interpretation\n",
    "* We seem to perform best (RMSE) on the LOW test period VCI values (i.e. in drought conditions)\n",
    "* Our performance does improve as the training period gets longer"
   ]
  },
  {
   "cell_type": "code",
   "execution_count": 166,
   "metadata": {},
   "outputs": [
    {
     "data": {
      "text/plain": [
       "<matplotlib.axes._subplots.AxesSubplot at 0x7f7709fb9fd0>"
      ]
     },
     "execution_count": 166,
     "metadata": {},
     "output_type": "execute_result"
    },
    {
     "data": {
      "image/png": "[encoded data removed]",
      "text/plain": [
       "<Figure size 432x288 with 1 Axes>"
      ]
     },
     "metadata": {
      "needs_background": "light"
     },
     "output_type": "display_data"
    }
   ],
   "source": [
    "sns.barplot(\n",
    "    x='test_hilo', hue='train_length', y='RMSE', \n",
    "    data=mean_rmse_df.query('model == \"ealstm_pred\"')\n",
    ")"
   ]
  },
  {
   "cell_type": "code",
   "execution_count": 172,
   "metadata": {},
   "outputs": [
    {
     "data": {
      "text/plain": [
       "<seaborn.axisgrid.FacetGrid at 0x7f770865ac50>"
      ]
     },
     "execution_count": 172,
     "metadata": {},
     "output_type": "execute_result"
    },
    {
     "data": {
      "image/png": "[encoded data removed]",
      "text/plain": [
       "<Figure size 648x648 with 9 Axes>"
      ]
     },
     "metadata": {
      "needs_background": "light"
     },
     "output_type": "display_data"
    }
   ],
   "source": [
    "plot_df = mean_rmse_df.query(\" model == 'ealstm_pred' | model == 'lstm_pred' \")\n",
    "g = sns.FacetGrid(plot_df, row=\"train_hilo\", col=\"test_hilo\", margin_titles=True)\n",
    "g.map(sns.barplot, 'model', 'RMSE')"
   ]
  },
  {
   "cell_type": "markdown",
   "metadata": {},
   "source": [
    "### High Level Overview\n",
    "* low, med, high train lengths\n",
    "* 3x3 matrices of (test_hilo vs. train_hilo) \n",
    "* expect to see better performance on the 1:1 line"
   ]
  },
  {
   "cell_type": "code",
   "execution_count": null,
   "metadata": {},
   "outputs": [],
   "source": [
    "dict_ = {}\n",
    "\n",
    "for experiment_name in experiment_names:\n",
    "    models = [k for k in model_dict[experiment_name].keys()]\n",
    "    for model in models:\n",
    "        model_rmse = rmse_dict[experiment_name][model]\n",
    "        dict_[f\"{experiment_name}_{model}\"] = [np.nanmean(model_rmse.values)]\n",
    "\n",
    "\n",
    "fig, ax = plt.subplots(figsize=(12, 5))\n",
    "mean_df = pd.DataFrame(dict_).T.astype(float)\n",
    "mean_df.plot.bar(ax=ax, legend=False)\n",
    "\n",
    "ax.set_title('Experiment Comparison: RMSE')\n",
    "ax.set_ylabel('Mean RMSE');\n",
    "plt.xticks(rotation=45)\n",
    "\n",
    "# \n",
    "for item in ([ax.title, ax.xaxis.label, ax.yaxis.label] \n",
    "             + ax.get_xticklabels() + ax.get_yticklabels()):\n",
    "    item.set_fontsize(16)\n",
    "\n",
    "ax.spines['top'].set_visible(False)\n",
    "ax.spines['right'].set_visible(False)\n",
    "# ax.spines['bottom'].set_visible(False)\n",
    "# ax.spines['left'].set_visible(False)\n",
    "\n",
    "for p in ax.patches:\n",
    "    ax.annotate(\n",
    "        f\"{p.get_height():.2f}\",  # annotation (str)\n",
    "        (p.get_x() + (p.get_width() / 3), p.get_height() * 1.05),  # (x, y) coords\n",
    "        fontsize=12,\n",
    "#         fontweight='bold'\n",
    "    )"
   ]
  },
  {
   "cell_type": "markdown",
   "metadata": {},
   "source": [
    "## Experiment Parameters\n",
    "- **Train Length** = short, medium, long\n",
    "- **Test VCI** = low, medium, high\n",
    "- **Train VCI** = low, medium, high\n",
    "\n",
    "#### Hypotheses\n",
    "* The model performance will improve as the train length gets longer (more data)\n",
    "* The model will perform better when it is trained on a similar regime to the testing regime (high-high, low-low [TR:TE])\n",
    "* The model performance will change gradually (better for medium-low than high-low [TR:TE])"
   ]
  },
  {
   "cell_type": "code",
   "execution_count": null,
   "metadata": {},
   "outputs": [],
   "source": []
  },
  {
   "cell_type": "code",
   "execution_count": null,
   "metadata": {},
   "outputs": [],
   "source": []
  },
  {
   "cell_type": "code",
   "execution_count": null,
   "metadata": {},
   "outputs": [],
   "source": []
  },
  {
   "cell_type": "code",
   "execution_count": null,
   "metadata": {},
   "outputs": [],
   "source": []
  },
  {
   "cell_type": "code",
   "execution_count": null,
   "metadata": {},
   "outputs": [],
   "source": []
  }
 ],
 "metadata": {
  "kernelspec": {
   "display_name": "Python 3",
   "language": "python",
   "name": "python3"
  },
  "language_info": {
   "codemirror_mode": {
    "name": "ipython",
    "version": 3
   },
   "file_extension": ".py",
   "mimetype": "text/x-python",
   "name": "python",
   "nbconvert_exporter": "python",
   "pygments_lexer": "ipython3",
   "version": "3.7.6"
  }
 },
 "nbformat": 4,
 "nbformat_minor": 4
}
